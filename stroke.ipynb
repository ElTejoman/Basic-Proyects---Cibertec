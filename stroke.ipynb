{
  "nbformat": 4,
  "nbformat_minor": 0,
  "metadata": {
    "colab": {
      "provenance": [],
      "include_colab_link": true
    },
    "kernelspec": {
      "name": "ir",
      "display_name": "R"
    },
    "language_info": {
      "name": "R"
    }
  },
  "cells": [
    {
      "cell_type": "markdown",
      "metadata": {
        "id": "view-in-github",
        "colab_type": "text"
      },
      "source": [
        "<a href=\"https://colab.research.google.com/github/ElTejoman/Basic-Proyects---Cibertec/blob/main/stroke.ipynb\" target=\"_parent\"><img src=\"https://colab.research.google.com/assets/colab-badge.svg\" alt=\"Open In Colab\"/></a>"
      ]
    },
    {
      "cell_type": "markdown",
      "source": [
        "## Instalacion de librerias"
      ],
      "metadata": {
        "id": "eRzhOkNktyA8"
      }
    },
    {
      "cell_type": "code",
      "source": [
        "install.packages(\"VIM\")\n",
        "install.packages(\"doParallel\")\n",
        "install.packages(\"missForest\")"
      ],
      "metadata": {
        "colab": {
          "base_uri": "https://localhost:8080/"
        },
        "id": "ZwZT1JzltkqQ",
        "outputId": "d2803d60-8994-4855-b9a7-bcc84e8058b1"
      },
      "execution_count": null,
      "outputs": [
        {
          "output_type": "stream",
          "name": "stderr",
          "text": [
            "Installing package into ‘/usr/local/lib/R/site-library’\n",
            "(as ‘lib’ is unspecified)\n",
            "\n",
            "also installing the dependencies ‘numDeriv’, ‘SparseM’, ‘MatrixModels’, ‘minqa’, ‘nloptr’, ‘zoo’, ‘carData’, ‘abind’, ‘pbkrtest’, ‘quantreg’, ‘lme4’, ‘DEoptimR’, ‘lmtest’, ‘proxy’, ‘RcppEigen’, ‘car’, ‘robustbase’, ‘sp’, ‘vcd’, ‘e1071’, ‘Rcpp’, ‘laeken’, ‘ranger’\n",
            "\n",
            "\n",
            "Installing package into ‘/usr/local/lib/R/site-library’\n",
            "(as ‘lib’ is unspecified)\n",
            "\n",
            "also installing the dependencies ‘foreach’, ‘iterators’\n",
            "\n",
            "\n",
            "Installing package into ‘/usr/local/lib/R/site-library’\n",
            "(as ‘lib’ is unspecified)\n",
            "\n",
            "also installing the dependencies ‘rngtools’, ‘randomForest’, ‘itertools’, ‘doRNG’\n",
            "\n",
            "\n"
          ]
        }
      ]
    },
    {
      "cell_type": "markdown",
      "source": [
        "## Llamado de librerias"
      ],
      "metadata": {
        "id": "C71xBaFUt13h"
      }
    },
    {
      "cell_type": "code",
      "source": [
        "library(VIM)\n",
        "library(doParallel)\n",
        "library(missForest)"
      ],
      "metadata": {
        "colab": {
          "base_uri": "https://localhost:8080/"
        },
        "id": "5lIfH1MKuAda",
        "outputId": "7d5ff251-4b60-4947-b25b-d31cd8c4dd06"
      },
      "execution_count": null,
      "outputs": [
        {
          "output_type": "stream",
          "name": "stderr",
          "text": [
            "Loading required package: colorspace\n",
            "\n",
            "Loading required package: grid\n",
            "\n",
            "VIM is ready to use.\n",
            "\n",
            "\n",
            "Suggestions and bug-reports can be submitted at: https://github.com/statistikat/VIM/issues\n",
            "\n",
            "\n",
            "Attaching package: ‘VIM’\n",
            "\n",
            "\n",
            "The following object is masked from ‘package:datasets’:\n",
            "\n",
            "    sleep\n",
            "\n",
            "\n",
            "Loading required package: foreach\n",
            "\n",
            "Loading required package: iterators\n",
            "\n",
            "Loading required package: parallel\n",
            "\n",
            "\n",
            "Attaching package: ‘missForest’\n",
            "\n",
            "\n",
            "The following object is masked from ‘package:VIM’:\n",
            "\n",
            "    nrmse\n",
            "\n",
            "\n"
          ]
        }
      ]
    },
    {
      "cell_type": "markdown",
      "source": [
        "## Lectura de datos"
      ],
      "metadata": {
        "id": "iboF29H6t5xh"
      }
    },
    {
      "cell_type": "code",
      "source": [
        "df <- read.csv(\"https://raw.githubusercontent.com/acosta187/datos/main/brain_stroke.csv\")"
      ],
      "metadata": {
        "id": "PGI1aAs0u4gB"
      },
      "execution_count": null,
      "outputs": []
    },
    {
      "cell_type": "code",
      "source": [
        "set.seed(25)\n",
        "dim(df)\n",
        "for(i in 1:10){\n",
        "  df[sample(1:181,rpois(n=1,lambda=20)),i]<-NA\n",
        "}\n"
      ],
      "metadata": {
        "id": "SWmZ7K2uu73R",
        "colab": {
          "base_uri": "https://localhost:8080/",
          "height": 34
        },
        "outputId": "158dba92-0c96-46e1-c2a6-7b3fe898b6e2"
      },
      "execution_count": null,
      "outputs": [
        {
          "output_type": "display_data",
          "data": {
            "text/html": [
              "<style>\n",
              ".list-inline {list-style: none; margin:0; padding: 0}\n",
              ".list-inline>li {display: inline-block}\n",
              ".list-inline>li:not(:last-child)::after {content: \"\\00b7\"; padding: 0 .5ex}\n",
              "</style>\n",
              "<ol class=list-inline><li>181</li><li>11</li></ol>\n"
            ],
            "text/markdown": "1. 181\n2. 11\n\n\n",
            "text/latex": "\\begin{enumerate*}\n\\item 181\n\\item 11\n\\end{enumerate*}\n",
            "text/plain": [
              "[1] 181  11"
            ]
          },
          "metadata": {}
        }
      ]
    },
    {
      "cell_type": "markdown",
      "source": [
        "## Diccionario de datos"
      ],
      "metadata": {
        "id": "wKKBMNDZegZG"
      }
    },
    {
      "cell_type": "code",
      "source": [
        "num_vars <- c(\"age\",\"avg_glucose_level\",\"bmi\")\n",
        "cat_var <- c(\"gender\",\"hypertension\", \"heart_disease\", \"ever_married\", \"work_type\", \"Residence_type\",\"smoking_status\")\n",
        "target <- \"stroke\""
      ],
      "metadata": {
        "id": "xszZLj-oejJW"
      },
      "execution_count": null,
      "outputs": []
    },
    {
      "cell_type": "markdown",
      "source": [
        "## Seleccion de las variables mas signficativas"
      ],
      "metadata": {
        "id": "aKOCY9-nxqlx"
      }
    },
    {
      "cell_type": "code",
      "source": [],
      "metadata": {
        "id": "DMMFZBGBdNR8"
      },
      "execution_count": null,
      "outputs": []
    },
    {
      "cell_type": "code",
      "source": [
        "\n",
        "\n",
        "df1 <- df\n",
        "res_num <- c()\n",
        "for(i in num_vars){\n",
        "#i = num_vars[1]\n",
        "8\n",
        "test <- t.test(df1[,i]~df1[,target])\n",
        "pval <- test$p.value\n",
        "df_res <- data.frame(var=i, pval=round(pval,3))\n",
        "res_num <- rbind(res_num,df_res)\n",
        "}\n",
        "sig_num_var <- res_num %>% filter(pval<0.05) %>% pull(var"
      ],
      "metadata": {
        "id": "vjwfKyj2dMOj"
      },
      "execution_count": null,
      "outputs": []
    },
    {
      "cell_type": "code",
      "source": [
        "res_char <- c()\n",
        "char_vars <- cat_var\n",
        "\n",
        "for(i in char_vars){\n",
        "#i = char_vars[1]\n",
        "df1[,i] <- factor(df1[,i])\n",
        "tab <- table(df1[,c(target,i)])\n",
        "pval <- chisq.test(tab)$\"p.value\"\n",
        "df_res <- data.frame(var=i, pval=round(pval,3))\n",
        "res_char <- rbind(res_char,df_res)\n",
        "}\n",
        "## Warning in chisq.test(tab): Chi-squared approximation may be incorrect\n",
        "sig_char_var <- res_char %>% filter(pval<0.05) %>% pull(var)\n",
        "res_char"
      ],
      "metadata": {
        "id": "rT_jcukTepM1"
      },
      "execution_count": null,
      "outputs": []
    },
    {
      "cell_type": "markdown",
      "source": [
        "## Visaulizacion de valores perdidos"
      ],
      "metadata": {
        "id": "7oqDjRHfwplS"
      }
    },
    {
      "cell_type": "code",
      "source": [
        "library(VIM)\n",
        "aggr(df)"
      ],
      "metadata": {
        "id": "_8cxxK61wovu"
      },
      "execution_count": null,
      "outputs": []
    },
    {
      "cell_type": "markdown",
      "source": [
        "## Imputacion de datos"
      ],
      "metadata": {
        "id": "jHR0kSbgwiVH"
      }
    },
    {
      "cell_type": "code",
      "source": [
        "all_var_cat <- c(cat_var,target)"
      ],
      "metadata": {
        "id": "SoOLTXcYv3IF"
      },
      "execution_count": null,
      "outputs": []
    },
    {
      "cell_type": "code",
      "source": [
        "for(i in all_var_cat){\n",
        "  df[,i]<-factor(df[,i])\n",
        "}"
      ],
      "metadata": {
        "id": "47jFdjjOwMF2"
      },
      "execution_count": null,
      "outputs": []
    },
    {
      "cell_type": "code",
      "source": [
        "iris.imp <- missForest(df)"
      ],
      "metadata": {
        "id": "HUcrN8vqvxzG"
      },
      "execution_count": null,
      "outputs": []
    },
    {
      "cell_type": "code",
      "source": [
        "head(iris.imp$ximp)"
      ],
      "metadata": {
        "colab": {
          "base_uri": "https://localhost:8080/",
          "height": 286
        },
        "id": "tVPOTHeUwcwg",
        "outputId": "502fa688-789b-4ab1-8f78-d000e8c207a7"
      },
      "execution_count": null,
      "outputs": [
        {
          "output_type": "display_data",
          "data": {
            "text/html": [
              "<table class=\"dataframe\">\n",
              "<caption>A data.frame: 6 × 11</caption>\n",
              "<thead>\n",
              "\t<tr><th></th><th scope=col>gender</th><th scope=col>age</th><th scope=col>hypertension</th><th scope=col>heart_disease</th><th scope=col>ever_married</th><th scope=col>work_type</th><th scope=col>Residence_type</th><th scope=col>avg_glucose_level</th><th scope=col>bmi</th><th scope=col>smoking_status</th><th scope=col>stroke</th></tr>\n",
              "\t<tr><th></th><th scope=col>&lt;fct&gt;</th><th scope=col>&lt;dbl&gt;</th><th scope=col>&lt;fct&gt;</th><th scope=col>&lt;fct&gt;</th><th scope=col>&lt;fct&gt;</th><th scope=col>&lt;fct&gt;</th><th scope=col>&lt;fct&gt;</th><th scope=col>&lt;dbl&gt;</th><th scope=col>&lt;dbl&gt;</th><th scope=col>&lt;fct&gt;</th><th scope=col>&lt;fct&gt;</th></tr>\n",
              "</thead>\n",
              "<tbody>\n",
              "\t<tr><th scope=row>1</th><td>Female</td><td>61.00000</td><td>No</td><td>No </td><td>Yes</td><td>Self-employed</td><td>Rural</td><td>202.21</td><td>31.55560</td><td>never smoked   </td><td>Yes</td></tr>\n",
              "\t<tr><th scope=row>2</th><td>Female</td><td>59.00000</td><td>No</td><td>No </td><td>Yes</td><td>Private      </td><td>Rural</td><td> 76.15</td><td>30.24294</td><td>Unknown        </td><td>Yes</td></tr>\n",
              "\t<tr><th scope=row>3</th><td>Male  </td><td>78.00000</td><td>No</td><td>Yes</td><td>Yes</td><td>Private      </td><td>Urban</td><td>219.84</td><td>30.69895</td><td>Unknown        </td><td>Yes</td></tr>\n",
              "\t<tr><th scope=row>4</th><td>Male  </td><td>67.93833</td><td>No</td><td>Yes</td><td>No </td><td>Govt_job     </td><td>Urban</td><td>217.08</td><td>33.80841</td><td>Unknown        </td><td>Yes</td></tr>\n",
              "\t<tr><th scope=row>5</th><td>Male  </td><td>58.00000</td><td>No</td><td>No </td><td>Yes</td><td>Private      </td><td>Rural</td><td>189.84</td><td>31.37853</td><td>Unknown        </td><td>Yes</td></tr>\n",
              "\t<tr><th scope=row>6</th><td>Male  </td><td>59.00000</td><td>No</td><td>No </td><td>Yes</td><td>Private      </td><td>Rural</td><td>211.78</td><td>33.48457</td><td>formerly smoked</td><td>Yes</td></tr>\n",
              "</tbody>\n",
              "</table>\n"
            ],
            "text/markdown": "\nA data.frame: 6 × 11\n\n| <!--/--> | gender &lt;fct&gt; | age &lt;dbl&gt; | hypertension &lt;fct&gt; | heart_disease &lt;fct&gt; | ever_married &lt;fct&gt; | work_type &lt;fct&gt; | Residence_type &lt;fct&gt; | avg_glucose_level &lt;dbl&gt; | bmi &lt;dbl&gt; | smoking_status &lt;fct&gt; | stroke &lt;fct&gt; |\n|---|---|---|---|---|---|---|---|---|---|---|---|\n| 1 | Female | 61.00000 | No | No  | Yes | Self-employed | Rural | 202.21 | 31.55560 | never smoked    | Yes |\n| 2 | Female | 59.00000 | No | No  | Yes | Private       | Rural |  76.15 | 30.24294 | Unknown         | Yes |\n| 3 | Male   | 78.00000 | No | Yes | Yes | Private       | Urban | 219.84 | 30.69895 | Unknown         | Yes |\n| 4 | Male   | 67.93833 | No | Yes | No  | Govt_job      | Urban | 217.08 | 33.80841 | Unknown         | Yes |\n| 5 | Male   | 58.00000 | No | No  | Yes | Private       | Rural | 189.84 | 31.37853 | Unknown         | Yes |\n| 6 | Male   | 59.00000 | No | No  | Yes | Private       | Rural | 211.78 | 33.48457 | formerly smoked | Yes |\n\n",
            "text/latex": "A data.frame: 6 × 11\n\\begin{tabular}{r|lllllllllll}\n  & gender & age & hypertension & heart\\_disease & ever\\_married & work\\_type & Residence\\_type & avg\\_glucose\\_level & bmi & smoking\\_status & stroke\\\\\n  & <fct> & <dbl> & <fct> & <fct> & <fct> & <fct> & <fct> & <dbl> & <dbl> & <fct> & <fct>\\\\\n\\hline\n\t1 & Female & 61.00000 & No & No  & Yes & Self-employed & Rural & 202.21 & 31.55560 & never smoked    & Yes\\\\\n\t2 & Female & 59.00000 & No & No  & Yes & Private       & Rural &  76.15 & 30.24294 & Unknown         & Yes\\\\\n\t3 & Male   & 78.00000 & No & Yes & Yes & Private       & Urban & 219.84 & 30.69895 & Unknown         & Yes\\\\\n\t4 & Male   & 67.93833 & No & Yes & No  & Govt\\_job      & Urban & 217.08 & 33.80841 & Unknown         & Yes\\\\\n\t5 & Male   & 58.00000 & No & No  & Yes & Private       & Rural & 189.84 & 31.37853 & Unknown         & Yes\\\\\n\t6 & Male   & 59.00000 & No & No  & Yes & Private       & Rural & 211.78 & 33.48457 & formerly smoked & Yes\\\\\n\\end{tabular}\n",
            "text/plain": [
              "  gender age      hypertension heart_disease ever_married work_type    \n",
              "1 Female 61.00000 No           No            Yes          Self-employed\n",
              "2 Female 59.00000 No           No            Yes          Private      \n",
              "3 Male   78.00000 No           Yes           Yes          Private      \n",
              "4 Male   67.93833 No           Yes           No           Govt_job     \n",
              "5 Male   58.00000 No           No            Yes          Private      \n",
              "6 Male   59.00000 No           No            Yes          Private      \n",
              "  Residence_type avg_glucose_level bmi      smoking_status  stroke\n",
              "1 Rural          202.21            31.55560 never smoked    Yes   \n",
              "2 Rural           76.15            30.24294 Unknown         Yes   \n",
              "3 Urban          219.84            30.69895 Unknown         Yes   \n",
              "4 Urban          217.08            33.80841 Unknown         Yes   \n",
              "5 Rural          189.84            31.37853 Unknown         Yes   \n",
              "6 Rural          211.78            33.48457 formerly smoked Yes   "
            ]
          },
          "metadata": {}
        }
      ]
    }
  ]
}