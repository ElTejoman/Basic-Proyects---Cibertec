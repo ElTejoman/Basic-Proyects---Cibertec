{
  "nbformat": 4,
  "nbformat_minor": 0,
  "metadata": {
    "colab": {
      "provenance": [],
      "toc_visible": true,
      "include_colab_link": true
    },
    "kernelspec": {
      "name": "python3",
      "display_name": "Python 3"
    },
    "language_info": {
      "name": "python"
    }
  },
  "cells": [
    {
      "cell_type": "markdown",
      "metadata": {
        "id": "view-in-github",
        "colab_type": "text"
      },
      "source": [
        "<a href=\"https://colab.research.google.com/github/ElTejoman/Basic-Proyects---Cibertec/blob/main/Sem_2_Tipos_de_Dato_I.ipynb\" target=\"_parent\"><img src=\"https://colab.research.google.com/assets/colab-badge.svg\" alt=\"Open In Colab\"/></a>"
      ]
    },
    {
      "cell_type": "markdown",
      "source": [
        "# Variables Numericas"
      ],
      "metadata": {
        "id": "jLnorgL6X1oW"
      }
    },
    {
      "cell_type": "code",
      "source": [
        "!ls\n"
      ],
      "metadata": {
        "id": "fxhvZZ-_Gn9g",
        "outputId": "940a9353-44d3-4a02-ebe0-57e601190690",
        "colab": {
          "base_uri": "https://localhost:8080/"
        }
      },
      "execution_count": null,
      "outputs": [
        {
          "output_type": "stream",
          "name": "stdout",
          "text": [
            "sample_data\n"
          ]
        }
      ]
    },
    {
      "cell_type": "markdown",
      "source": [
        "## Numeros enteros\n",
        "\n",
        "Son los números enteros positivos o negativos que pertenecen al tipo <class 'int'> y que no\n",
        "tienen parte decimal. En Python puedes tener enteros tan grandes como la memoria de tu sistema lo permita.\n",
        "\n",
        "Los valores reales también se pueden crear desde literales de cadena"
      ],
      "metadata": {
        "id": "zB15XpCgX4IK"
      }
    },
    {
      "cell_type": "code",
      "source": [
        "### Números enteros (int)\n",
        "mi_num = 34\n",
        "\n",
        "print(type(mi_num))# type() me da el tipo de variable\n",
        "\n",
        "print(\"La viariable 'mi_num' con valor\", mi_num,\"es de tipo\", type(mi_num))"
      ],
      "metadata": {
        "colab": {
          "base_uri": "https://localhost:8080/"
        },
        "id": "BS5GL06MYPBD",
        "outputId": "012056bf-1beb-4ed8-97c5-cce7d6ea3f0f"
      },
      "execution_count": 2,
      "outputs": [
        {
          "output_type": "stream",
          "name": "stdout",
          "text": [
            "<class 'int'>\n",
            "La viariable 'mi_num' con valor 34 es de tipo <class 'int'>\n"
          ]
        }
      ]
    },
    {
      "cell_type": "code",
      "source": [
        "num = 10_000_000\n",
        "print(num)\n"
      ],
      "metadata": {
        "colab": {
          "base_uri": "https://localhost:8080/"
        },
        "id": "Lzif4sXsIJ7F",
        "outputId": "32f1ca04-d63b-49a6-a1f0-67561ca40cbb"
      },
      "execution_count": null,
      "outputs": [
        {
          "output_type": "stream",
          "name": "stdout",
          "text": [
            "10000000\n"
          ]
        }
      ]
    },
    {
      "cell_type": "code",
      "source": [
        "new_var = int(input(\"Ingrese un número  entero: \"))\n",
        "print(new_var)\n",
        "print(type(new_var))"
      ],
      "metadata": {
        "colab": {
          "base_uri": "https://localhost:8080/"
        },
        "id": "vMij9DaTc0SN",
        "outputId": "2b9ed140-aa2f-442d-b235-a8f69fd25e46"
      },
      "execution_count": null,
      "outputs": [
        {
          "output_type": "stream",
          "name": "stdout",
          "text": [
            "Ingrese un número: 7\n",
            "7\n",
            "<class 'int'>\n"
          ]
        }
      ]
    },
    {
      "cell_type": "code",
      "source": [
        "var = int(input(\"ingrese un numero:\"))\n",
        "type(var)"
      ],
      "metadata": {
        "colab": {
          "base_uri": "https://localhost:8080/"
        },
        "id": "49_Dz2NGA-ff",
        "outputId": "df15e155-3e32-45f2-a91b-47a7a65b9727"
      },
      "execution_count": null,
      "outputs": [
        {
          "name": "stdout",
          "output_type": "stream",
          "text": [
            "ingrese un numero:89\n"
          ]
        },
        {
          "output_type": "execute_result",
          "data": {
            "text/plain": [
              "int"
            ]
          },
          "metadata": {},
          "execution_count": 3
        }
      ]
    },
    {
      "cell_type": "code",
      "source": [
        "num1 = int(input(\"Ingrese un número: \"))\n",
        "num2 = int(input(\"Ingrese un número: \"))\n",
        "output = num1+num2\n",
        "print(\"La suma es: \", output)"
      ],
      "metadata": {
        "colab": {
          "base_uri": "https://localhost:8080/"
        },
        "id": "nlsxxYqddct7",
        "outputId": "2912bbef-f028-4aec-fed6-0a9dd2b740dc"
      },
      "execution_count": null,
      "outputs": [
        {
          "output_type": "stream",
          "name": "stdout",
          "text": [
            "Ingrese un número: 5\n",
            "Ingrese un número: 8\n",
            "La suma es:  13\n"
          ]
        }
      ]
    },
    {
      "cell_type": "code",
      "source": [
        "! ls"
      ],
      "metadata": {
        "colab": {
          "base_uri": "https://localhost:8080/"
        },
        "id": "5OmPep66vik6",
        "outputId": "8e67d14c-21e9-40a3-b371-2477adad5683"
      },
      "execution_count": null,
      "outputs": [
        {
          "output_type": "stream",
          "name": "stdout",
          "text": [
            "sample_data\n"
          ]
        }
      ]
    },
    {
      "cell_type": "code",
      "source": [
        "! python program1.py"
      ],
      "metadata": {
        "colab": {
          "base_uri": "https://localhost:8080/"
        },
        "id": "J6Tn-blIvkyR",
        "outputId": "9c62ddaa-7019-46fa-d92a-6b33583dfbf1"
      },
      "execution_count": null,
      "outputs": [
        {
          "output_type": "stream",
          "name": "stdout",
          "text": [
            "Ingrese un número: 7\n",
            "Ingrese un número: 2\n",
            "La suma es:  9\n"
          ]
        }
      ]
    },
    {
      "cell_type": "code",
      "source": [
        "! Rscript code.R"
      ],
      "metadata": {
        "colab": {
          "base_uri": "https://localhost:8080/"
        },
        "id": "dbdqHiNYv5UZ",
        "outputId": "1584d2f1-e4b3-4a92-dfb0-dcd768fc8234"
      },
      "execution_count": null,
      "outputs": [
        {
          "output_type": "stream",
          "name": "stdout",
          "text": [
            " [1]  0.79766394  1.55637967  1.61274670 -0.65641936 -0.21199583  0.58599366\n",
            " [7]  1.34260760 -0.60021265  1.15930580  0.91929966  1.07809109 -0.93120351\n",
            "[13] -1.26897711  0.84089993 -0.33176278 -0.01212898 -0.71047402  0.39211044\n",
            "[19] -0.08699294 -0.95366323\n",
            "[1] \"----\"\n",
            "[1] 0.2260634\n"
          ]
        }
      ]
    },
    {
      "cell_type": "code",
      "source": [
        "! mkdir carpeta1"
      ],
      "metadata": {
        "id": "4CwGLPaWwryz"
      },
      "execution_count": null,
      "outputs": []
    },
    {
      "cell_type": "code",
      "source": [
        "! ls"
      ],
      "metadata": {
        "colab": {
          "base_uri": "https://localhost:8080/"
        },
        "id": "jL6BetYhwwH8",
        "outputId": "b683f408-8f22-4f3c-9af8-858bb1e4fb4e"
      },
      "execution_count": null,
      "outputs": [
        {
          "output_type": "stream",
          "name": "stdout",
          "text": [
            "carpeta1  code.R  program1.py  sample_data\n"
          ]
        }
      ]
    },
    {
      "cell_type": "markdown",
      "source": [
        "## Numeros reales (float)\n",
        "\n",
        "Son los números reales positivos y negativos que pertenecen al tipo <class 'float'> que tienen\n",
        "parte decimal. Específicamente, permite almacenar números de punto flotante de doble\n",
        "precisión.\n",
        "\n",
        "Los valores reales también se pueden crear desde literales de cadena, tal como se aprecia en la\n",
        "figura siguiente.\n",
        "\n",
        "Los reales también pueden definirse en notación científica.\n",
        "\n",
        "El tipo de dato float sí está limitado a un valor mínimo y un valor máximo."
      ],
      "metadata": {
        "id": "oNwBvwkqX6vL"
      }
    },
    {
      "cell_type": "code",
      "source": [
        "x = 3.0\n",
        "print(type(x))\n",
        "\n",
        "print(float(\"4\"))"
      ],
      "metadata": {
        "colab": {
          "base_uri": "https://localhost:8080/"
        },
        "id": "wgQsvUQ3e01l",
        "outputId": "386214a9-e720-4f75-f667-d9513b9a9dfd"
      },
      "execution_count": null,
      "outputs": [
        {
          "output_type": "stream",
          "name": "stdout",
          "text": [
            "<class 'float'>\n",
            "4.0\n"
          ]
        }
      ]
    },
    {
      "cell_type": "code",
      "source": [
        "#Notación científica\n",
        "\n",
        "mi_var = 9e-3\n",
        "print(mi_var)\n",
        "print(4e3)"
      ],
      "metadata": {
        "colab": {
          "base_uri": "https://localhost:8080/"
        },
        "id": "SjmcolwLIzqp",
        "outputId": "16e752ab-9ee7-46fd-d45b-163cec5ae7b4"
      },
      "execution_count": null,
      "outputs": [
        {
          "output_type": "stream",
          "name": "stdout",
          "text": [
            "0.009\n",
            "4000.0\n"
          ]
        }
      ]
    },
    {
      "cell_type": "code",
      "source": [
        "float(4)"
      ],
      "metadata": {
        "colab": {
          "base_uri": "https://localhost:8080/"
        },
        "id": "YaZT0C_cfEO7",
        "outputId": "78da2da5-d6a7-4ed8-ffde-1e58a9b49747"
      },
      "execution_count": null,
      "outputs": [
        {
          "output_type": "execute_result",
          "data": {
            "text/plain": [
              "4.0"
            ]
          },
          "metadata": {},
          "execution_count": 10
        }
      ]
    },
    {
      "cell_type": "code",
      "source": [
        "type(float(\"4.56\"))"
      ],
      "metadata": {
        "colab": {
          "base_uri": "https://localhost:8080/"
        },
        "id": "jJHMNyiNeqrM",
        "outputId": "51e3a11a-cbc6-49a7-b784-7ea004ac742c"
      },
      "execution_count": null,
      "outputs": [
        {
          "output_type": "execute_result",
          "data": {
            "text/plain": [
              "float"
            ]
          },
          "metadata": {},
          "execution_count": 2
        }
      ]
    },
    {
      "cell_type": "code",
      "source": [
        "num3 = float(input(\"Ingrese un número = \"))\n",
        "num4 = float(input(\"Ingrese otro número = \"))\n",
        "print(\"La suma es = \",num3+num4)"
      ],
      "metadata": {
        "colab": {
          "base_uri": "https://localhost:8080/"
        },
        "id": "_MB1uIRofMQG",
        "outputId": "106fcdf0-2241-4c2b-dd85-1c0d126467a9"
      },
      "execution_count": null,
      "outputs": [
        {
          "output_type": "stream",
          "name": "stdout",
          "text": [
            "Ingrese un número = 8\n",
            "Ingrese otro número = 9\n",
            "La suma es =  17.0\n"
          ]
        }
      ]
    },
    {
      "cell_type": "code",
      "source": [
        "# limites de un float\n",
        "import sys\n",
        "print(sys.float_info.min)\n",
        "print(sys.float_info.max)"
      ],
      "metadata": {
        "colab": {
          "base_uri": "https://localhost:8080/"
        },
        "id": "TzuDUo87h1bl",
        "outputId": "5140f7de-23dc-42c9-db10-d887cd4f6717"
      },
      "execution_count": null,
      "outputs": [
        {
          "output_type": "stream",
          "name": "stdout",
          "text": [
            "2.2250738585072014e-308\n",
            "1.7976931348623157e+308\n"
          ]
        }
      ]
    },
    {
      "cell_type": "code",
      "source": [
        "\n",
        "#Impresicones con mas decimales de mas de 16 decimales\n",
        "a = \"0.\"+\"9\"*17\n",
        "print(a)\n",
        "x = float(a)\n",
        "print(x)\n",
        "\n",
        "# Un serie de operaciones puede acumular error\n",
        "print(0.1 + 0.1 + 0.1 - 0.3)\n",
        "\n",
        "print(0.3-0.3)"
      ],
      "metadata": {
        "id": "ZyBe_RbAhzUL",
        "colab": {
          "base_uri": "https://localhost:8080/"
        },
        "outputId": "f3a61898-06d3-4581-cef1-19ce9aee749f"
      },
      "execution_count": null,
      "outputs": [
        {
          "output_type": "stream",
          "name": "stdout",
          "text": [
            "0.99999999999999999\n",
            "1.0\n",
            "5.551115123125783e-17\n",
            "0.0\n"
          ]
        }
      ]
    },
    {
      "cell_type": "code",
      "source": [
        "# Import math Library\n",
        "import math\n",
        "\n",
        "# Print the value of pi\n",
        "print (math.pi)\n",
        "print (math.e)\n"
      ],
      "metadata": {
        "colab": {
          "base_uri": "https://localhost:8080/"
        },
        "id": "tYClSrh9QZyY",
        "outputId": "dc09b6ff-598e-4f64-c5a8-bd46295311c9"
      },
      "execution_count": null,
      "outputs": [
        {
          "output_type": "stream",
          "name": "stdout",
          "text": [
            "3.141592653589793\n",
            "2.718281828459045\n"
          ]
        }
      ]
    },
    {
      "cell_type": "code",
      "source": [
        "import math\n",
        "print(math.log(10))\n",
        "print(math.log(math.e))\n",
        "print(math.log10(10))"
      ],
      "metadata": {
        "colab": {
          "base_uri": "https://localhost:8080/"
        },
        "id": "UVU_D2cSQ8tN",
        "outputId": "9c220bb5-e9dc-4cb1-ce66-a118cd73f4e7"
      },
      "execution_count": null,
      "outputs": [
        {
          "output_type": "stream",
          "name": "stdout",
          "text": [
            "2.302585092994046\n",
            "1.0\n",
            "1.0\n"
          ]
        }
      ]
    },
    {
      "cell_type": "code",
      "source": [
        "print(math.cos(math.pi/2))\n",
        "print(math.sqrt(4))"
      ],
      "metadata": {
        "colab": {
          "base_uri": "https://localhost:8080/"
        },
        "id": "w7R1568c4jjE",
        "outputId": "90b179fa-53e9-4fcb-e2e2-f1ec6699f3c2"
      },
      "execution_count": null,
      "outputs": [
        {
          "output_type": "stream",
          "name": "stdout",
          "text": [
            "6.123233995736766e-17\n",
            "2.0\n"
          ]
        }
      ]
    },
    {
      "cell_type": "markdown",
      "source": [
        "## Numeros Complejos"
      ],
      "metadata": {
        "id": "kGV2rUCWX88U"
      }
    },
    {
      "cell_type": "code",
      "source": [
        "mi_var_com = complex(6.48, 1.51)\n",
        "print(mi_var_com)\n",
        "print(mi_var_com.real)\n",
        "print(mi_var_com.imag)\n",
        "\n",
        "print(mi_var_com.conjugate())"
      ],
      "metadata": {
        "colab": {
          "base_uri": "https://localhost:8080/"
        },
        "id": "_uHo4sYNeocB",
        "outputId": "7ca1f2d7-6b8b-40ea-98a6-4b44a655f1ef"
      },
      "execution_count": null,
      "outputs": [
        {
          "output_type": "stream",
          "name": "stdout",
          "text": [
            "(6.48+1.51j)\n",
            "6.48\n",
            "1.51\n",
            "(6.48-1.51j)\n"
          ]
        }
      ]
    },
    {
      "cell_type": "markdown",
      "source": [
        "## Convercion de bases"
      ],
      "metadata": {
        "id": "4iEqxJNUYARF"
      }
    },
    {
      "cell_type": "code",
      "source": [
        "num_bin = 0b10111\n",
        "print(num_bin)\n",
        "print(bin(num_bin))"
      ],
      "metadata": {
        "colab": {
          "base_uri": "https://localhost:8080/"
        },
        "id": "Z2pLi2OEgg4x",
        "outputId": "7d056068-f57d-4265-921d-d367fac75987"
      },
      "execution_count": null,
      "outputs": [
        {
          "output_type": "stream",
          "name": "stdout",
          "text": [
            "23\n",
            "0b10111\n"
          ]
        }
      ]
    },
    {
      "cell_type": "code",
      "source": [
        "num_oct = 0o27\n",
        "print(num_oct)\n",
        "print(oct(num_oct))"
      ],
      "metadata": {
        "colab": {
          "base_uri": "https://localhost:8080/"
        },
        "id": "uG6i5I2sg0QX",
        "outputId": "f47aebcb-d72a-483c-dc64-5d5b8cf98bd7"
      },
      "execution_count": null,
      "outputs": [
        {
          "output_type": "stream",
          "name": "stdout",
          "text": [
            "23\n",
            "0o27\n"
          ]
        }
      ]
    },
    {
      "cell_type": "code",
      "source": [
        "num_hex = 0x17\n",
        "print(num_hex)\n",
        "print(hex(num_hex))"
      ],
      "metadata": {
        "colab": {
          "base_uri": "https://localhost:8080/"
        },
        "id": "QJlCV55mhCX2",
        "outputId": "1c552d26-72f5-4dcb-d5db-a0c8fdfb402d"
      },
      "execution_count": null,
      "outputs": [
        {
          "output_type": "stream",
          "name": "stdout",
          "text": [
            "23\n",
            "0x17\n"
          ]
        }
      ]
    },
    {
      "cell_type": "code",
      "source": [
        "var_dec = 23\n",
        "var_bin = 0b10111\n",
        "var_oct = 0o27\n",
        "var_hex = 0x17\n",
        "\n",
        "print(id(var_dec))\n",
        "print(id(var_bin))\n",
        "print(id(var_oct))\n",
        "print(id(var_hex))"
      ],
      "metadata": {
        "colab": {
          "base_uri": "https://localhost:8080/"
        },
        "id": "JRt_D57KhO5a",
        "outputId": "8c59cbc1-e7ac-4891-cea8-6eb4d887be1b"
      },
      "execution_count": null,
      "outputs": [
        {
          "output_type": "stream",
          "name": "stdout",
          "text": [
            "11256768\n",
            "11256768\n",
            "11256768\n",
            "11256768\n"
          ]
        }
      ]
    },
    {
      "cell_type": "markdown",
      "source": [
        "# Boleanas (bool)\n",
        "\n",
        "Son valores lógicos True o False que equivalen a un objeto con valor diferente de cero o conjunto\n",
        "no vacío para ser True o un número igual a cero o conjunto vacío para ser False. Se obtiene\n",
        "también como resultado de una función o al aplicar operadores de comparación, membresía e\n",
        "identidad.\n"
      ],
      "metadata": {
        "id": "dBsbLD1CkZOv"
      }
    },
    {
      "cell_type": "code",
      "source": [
        "bool(1)"
      ],
      "metadata": {
        "colab": {
          "base_uri": "https://localhost:8080/"
        },
        "id": "8rLuY7xgkejB",
        "outputId": "a23d0a1d-59b6-4026-932c-384aa104a151"
      },
      "execution_count": null,
      "outputs": [
        {
          "output_type": "execute_result",
          "data": {
            "text/plain": [
              "True"
            ]
          },
          "metadata": {},
          "execution_count": 42
        }
      ]
    },
    {
      "cell_type": "code",
      "source": [
        "bool(0)"
      ],
      "metadata": {
        "colab": {
          "base_uri": "https://localhost:8080/"
        },
        "id": "QiuhAWQAkrNR",
        "outputId": "1d1dbb78-59bb-49f1-fc40-19093b0a694d"
      },
      "execution_count": null,
      "outputs": [
        {
          "output_type": "execute_result",
          "data": {
            "text/plain": [
              "False"
            ]
          },
          "metadata": {},
          "execution_count": 43
        }
      ]
    },
    {
      "cell_type": "code",
      "source": [
        "4==4"
      ],
      "metadata": {
        "colab": {
          "base_uri": "https://localhost:8080/"
        },
        "id": "sEMFVjvokufv",
        "outputId": "7ed8b89e-1d07-4355-9c11-de8e92187f18"
      },
      "execution_count": null,
      "outputs": [
        {
          "output_type": "execute_result",
          "data": {
            "text/plain": [
              "True"
            ]
          },
          "metadata": {},
          "execution_count": 40
        }
      ]
    },
    {
      "cell_type": "code",
      "source": [
        "6+4"
      ],
      "metadata": {
        "colab": {
          "base_uri": "https://localhost:8080/"
        },
        "id": "KNxgVf3SJle4",
        "outputId": "f22698b1-3289-450f-936d-a6190ede7ee8"
      },
      "execution_count": null,
      "outputs": [
        {
          "output_type": "execute_result",
          "data": {
            "text/plain": [
              "10"
            ]
          },
          "metadata": {},
          "execution_count": 41
        }
      ]
    },
    {
      "cell_type": "code",
      "source": [
        "4>5\n"
      ],
      "metadata": {
        "colab": {
          "base_uri": "https://localhost:8080/"
        },
        "id": "N0ToZzZ1kweX",
        "outputId": "125d1387-8edf-4f62-d2bc-abfa894fdce9"
      },
      "execution_count": null,
      "outputs": [
        {
          "output_type": "execute_result",
          "data": {
            "text/plain": [
              "False"
            ]
          },
          "metadata": {},
          "execution_count": 44
        }
      ]
    },
    {
      "cell_type": "code",
      "source": [
        "True*1"
      ],
      "metadata": {
        "colab": {
          "base_uri": "https://localhost:8080/"
        },
        "id": "-5Lut97EJEsA",
        "outputId": "5d721eca-e52b-404a-f9ca-35db055c9316"
      },
      "execution_count": null,
      "outputs": [
        {
          "output_type": "execute_result",
          "data": {
            "text/plain": [
              "1"
            ]
          },
          "metadata": {},
          "execution_count": 45
        }
      ]
    },
    {
      "cell_type": "code",
      "source": [
        "False*1"
      ],
      "metadata": {
        "colab": {
          "base_uri": "https://localhost:8080/"
        },
        "id": "TE1Ec2vIJIOS",
        "outputId": "51990900-bff8-4eda-a783-80772cde337d"
      },
      "execution_count": null,
      "outputs": [
        {
          "output_type": "execute_result",
          "data": {
            "text/plain": [
              "0"
            ]
          },
          "metadata": {},
          "execution_count": 43
        }
      ]
    },
    {
      "cell_type": "code",
      "source": [
        "bool(800)"
      ],
      "metadata": {
        "colab": {
          "base_uri": "https://localhost:8080/"
        },
        "id": "uXxEg6G3JTkb",
        "outputId": "07a47e03-9712-4b9b-d119-794b5821910c"
      },
      "execution_count": null,
      "outputs": [
        {
          "output_type": "execute_result",
          "data": {
            "text/plain": [
              "True"
            ]
          },
          "metadata": {},
          "execution_count": 46
        }
      ]
    },
    {
      "cell_type": "markdown",
      "source": [
        "# Cadenas\n",
        "\n",
        "Son objetos inmutables del tipo <class 'str'> que almacenan una cadena de caracteres. Se pueden construir desde valores numéricos utilizando el constructor str(). Por otro lado, sus valores literales se escriben entre comillas simples (') o dobles (\"). La facilidad de escribir las cadenas entre comillas simples o dobles permite la incorporación de esos caracteres en el literal.\n",
        "\n",
        "También es posible escribir las cadenas entre triples comillas simples o dobles. Este uso permite escribir cadenas en múltiples líneas tal como mencionó al explicar el uso de los comentarios al\n",
        "inicio de este documento."
      ],
      "metadata": {
        "id": "b68z_KiiYENM"
      }
    },
    {
      "cell_type": "code",
      "source": [
        "string1 = \"Hola\"\n",
        "print(string1)\n",
        "print(type(string1))"
      ],
      "metadata": {
        "colab": {
          "base_uri": "https://localhost:8080/"
        },
        "id": "YKNDHRk-k4MD",
        "outputId": "9d17e7c2-ceb8-4313-8ff6-0cc2781eae26"
      },
      "execution_count": 4,
      "outputs": [
        {
          "output_type": "stream",
          "name": "stdout",
          "text": [
            "Hola\n",
            "<class 'str'>\n"
          ]
        }
      ]
    },
    {
      "cell_type": "code",
      "source": [
        "#cadena multilinea\n",
        "mi_string1 = '''\n",
        "Esto es una cadena\n",
        "en la que va a colocar\n",
        "un exto que tiene\n",
        "varias líneas\n",
        "'''\n",
        "print(mi_string1)\n",
        "print(type(mi_string1))"
      ],
      "metadata": {
        "colab": {
          "base_uri": "https://localhost:8080/"
        },
        "id": "uK12TDsclKXB",
        "outputId": "755e97f2-3136-4be7-e8dd-785e8345d0f8"
      },
      "execution_count": 5,
      "outputs": [
        {
          "output_type": "stream",
          "name": "stdout",
          "text": [
            "\n",
            "Esto es una cadena\n",
            "en la que va a colocar\n",
            "un exto que tiene\n",
            "varias líneas\n",
            "\n",
            "<class 'str'>\n"
          ]
        }
      ]
    },
    {
      "cell_type": "code",
      "source": [
        "mi_string1"
      ],
      "metadata": {
        "colab": {
          "base_uri": "https://localhost:8080/",
          "height": 36
        },
        "id": "wd_iJ9PTlg_o",
        "outputId": "3afd1ef5-f7de-44bf-d187-446f26b90293"
      },
      "execution_count": 6,
      "outputs": [
        {
          "output_type": "execute_result",
          "data": {
            "text/plain": [
              "'\\nEsto es una cadena\\nen la que va a colocar\\nun exto que tiene\\nvarias líneas\\n'"
            ],
            "application/vnd.google.colaboratory.intrinsic+json": {
              "type": "string"
            }
          },
          "metadata": {},
          "execution_count": 6
        }
      ]
    },
    {
      "cell_type": "code",
      "source": [
        "char1 =input(\"Ingrese su nombre:\")\n",
        "char2 =input(\"Ingrese su apellido:\")\n",
        "char3 =input(\"Ingrese su edad:\")\n",
        "\n",
        "print(\"\\nNombre:\",char1,\"\\tApellido:\", char2, \"\\tEdad:\", char3)"
      ],
      "metadata": {
        "colab": {
          "base_uri": "https://localhost:8080/"
        },
        "id": "gbKR-SPclo99",
        "outputId": "fcc9213e-992b-4117-82ad-7df75680c8d5"
      },
      "execution_count": 7,
      "outputs": [
        {
          "output_type": "stream",
          "name": "stdout",
          "text": [
            "Ingrese su nombre:Alejandro\n",
            "Ingrese su apellido:Espinoza\n",
            "Ingrese su edad:28\n",
            "\n",
            "Nombre: Alejandro \tApellido: Espinoza \tEdad: 28\n"
          ]
        }
      ]
    },
    {
      "cell_type": "code",
      "source": [
        "mi_string1"
      ],
      "metadata": {
        "id": "-DRA0fqblgtk"
      },
      "execution_count": null,
      "outputs": []
    },
    {
      "cell_type": "code",
      "source": [
        "#cadena multilinea\n",
        "mi_string1 = '''\n",
        "ESto es una cadena\n",
        "en la que va a colocar\n",
        "un exto que tiene\n",
        "varias líneas\n",
        "'''\n",
        "print(mi_string1)\n",
        "mi_string1\n",
        "\n",
        "print(\"\\nhola\")\n",
        "print(\"hi\")\n",
        "print(\"lo\")\n",
        "\n",
        "\n",
        "a='ESto es una cadena\\ten la que va a colocar\\nun exto que tiene\\tvarias líneas\\n'\n",
        "print(a)"
      ],
      "metadata": {
        "id": "C241PC1UkSTJ",
        "colab": {
          "base_uri": "https://localhost:8080/"
        },
        "outputId": "79054cd4-e352-4b69-9047-2fad2b20a57a"
      },
      "execution_count": 8,
      "outputs": [
        {
          "output_type": "stream",
          "name": "stdout",
          "text": [
            "\n",
            "ESto es una cadena\n",
            "en la que va a colocar\n",
            "un exto que tiene\n",
            "varias líneas\n",
            "\n",
            "\n",
            "hola\n",
            "hi\n",
            "lo\n",
            "ESto es una cadena\ten la que va a colocar\n",
            "un exto que tiene\tvarias líneas\n",
            "\n"
          ]
        }
      ]
    },
    {
      "cell_type": "code",
      "execution_count": null,
      "metadata": {
        "id": "jZohbHdfX0ed"
      },
      "outputs": [],
      "source": []
    },
    {
      "cell_type": "markdown",
      "source": [
        "## Las cadenas son inmutables"
      ],
      "metadata": {
        "id": "r8QeIrGboTAN"
      }
    },
    {
      "cell_type": "code",
      "source": [
        "cadena2 = \"Hola a todos\"\n",
        "print(cadena2[0:4])"
      ],
      "metadata": {
        "colab": {
          "base_uri": "https://localhost:8080/"
        },
        "id": "PIyNw1kEoSsy",
        "outputId": "640ba7a3-e71a-498d-adf2-6cd1ea57301d"
      },
      "execution_count": 9,
      "outputs": [
        {
          "output_type": "stream",
          "name": "stdout",
          "text": [
            "Hola\n"
          ]
        }
      ]
    },
    {
      "cell_type": "code",
      "source": [
        "lista = [\"H\",\"o\",\"l\",\"a\"]\n",
        "lista"
      ],
      "metadata": {
        "colab": {
          "base_uri": "https://localhost:8080/"
        },
        "id": "2FlfQV4aoe2n",
        "outputId": "007452a2-f4fd-401f-b3af-06e34f4cbf7a"
      },
      "execution_count": 10,
      "outputs": [
        {
          "output_type": "execute_result",
          "data": {
            "text/plain": [
              "['H', 'o', 'l', 'a']"
            ]
          },
          "metadata": {},
          "execution_count": 10
        }
      ]
    },
    {
      "cell_type": "code",
      "source": [
        "lista[0]=\"J\"\n",
        "lista"
      ],
      "metadata": {
        "colab": {
          "base_uri": "https://localhost:8080/"
        },
        "id": "3-kQfZxmouQD",
        "outputId": "f02aa9fa-03a2-4baa-e8a7-e34b5438c043"
      },
      "execution_count": 11,
      "outputs": [
        {
          "output_type": "execute_result",
          "data": {
            "text/plain": [
              "['J', 'o', 'l', 'a']"
            ]
          },
          "metadata": {},
          "execution_count": 11
        }
      ]
    },
    {
      "cell_type": "markdown",
      "source": [
        "## Pero puedo extrater subcadenas"
      ],
      "metadata": {
        "id": "bk7kEuQQo5J-"
      }
    },
    {
      "cell_type": "code",
      "source": [
        "cadena2"
      ],
      "metadata": {
        "colab": {
          "base_uri": "https://localhost:8080/",
          "height": 36
        },
        "id": "5G8XGEvNo_VS",
        "outputId": "1c63137b-808a-407d-f4db-0e158e5a87df"
      },
      "execution_count": 12,
      "outputs": [
        {
          "output_type": "execute_result",
          "data": {
            "text/plain": [
              "'Hola a todos'"
            ],
            "application/vnd.google.colaboratory.intrinsic+json": {
              "type": "string"
            }
          },
          "metadata": {},
          "execution_count": 12
        }
      ]
    },
    {
      "cell_type": "code",
      "source": [
        "\"J\"+cadena2[1:]"
      ],
      "metadata": {
        "colab": {
          "base_uri": "https://localhost:8080/",
          "height": 36
        },
        "id": "cLY-pk6upDc3",
        "outputId": "661a05c8-2a40-4fa7-c539-8b84b924b281"
      },
      "execution_count": 13,
      "outputs": [
        {
          "output_type": "execute_result",
          "data": {
            "text/plain": [
              "'Jola a todos'"
            ],
            "application/vnd.google.colaboratory.intrinsic+json": {
              "type": "string"
            }
          },
          "metadata": {},
          "execution_count": 13
        }
      ]
    },
    {
      "cell_type": "code",
      "source": [
        "#\n",
        "\"cadena1 \"*5"
      ],
      "metadata": {
        "colab": {
          "base_uri": "https://localhost:8080/",
          "height": 36
        },
        "id": "t7Al9pMnpYBc",
        "outputId": "3b65246a-89e8-41f5-96fa-01a17be01202"
      },
      "execution_count": 14,
      "outputs": [
        {
          "output_type": "execute_result",
          "data": {
            "text/plain": [
              "'cadena1 cadena1 cadena1 cadena1 cadena1 '"
            ],
            "application/vnd.google.colaboratory.intrinsic+json": {
              "type": "string"
            }
          },
          "metadata": {},
          "execution_count": 14
        }
      ]
    },
    {
      "cell_type": "code",
      "source": [
        "\"cadena1 \"+\"cadena2\""
      ],
      "metadata": {
        "colab": {
          "base_uri": "https://localhost:8080/",
          "height": 36
        },
        "id": "ht4OBUIgpd2l",
        "outputId": "6cf22293-532d-4132-b187-80f4cb1d7078"
      },
      "execution_count": 15,
      "outputs": [
        {
          "output_type": "execute_result",
          "data": {
            "text/plain": [
              "'cadena1 cadena2'"
            ],
            "application/vnd.google.colaboratory.intrinsic+json": {
              "type": "string"
            }
          },
          "metadata": {},
          "execution_count": 15
        }
      ]
    },
    {
      "cell_type": "markdown",
      "source": [
        "Hacer un programa que invierta el orden de una cadena\n",
        "\n"
      ],
      "metadata": {
        "id": "sjyJYLYPpqus"
      }
    },
    {
      "cell_type": "code",
      "source": [
        "cadena3 = \"hola\""
      ],
      "metadata": {
        "id": "TlX8PnzZppeI"
      },
      "execution_count": 16,
      "outputs": []
    },
    {
      "cell_type": "code",
      "source": [
        "len(cadena3)"
      ],
      "metadata": {
        "colab": {
          "base_uri": "https://localhost:8080/"
        },
        "id": "gVlEnZlfrJc-",
        "outputId": "144f7c81-a3c6-472c-86dd-261a3bc78630"
      },
      "execution_count": 17,
      "outputs": [
        {
          "output_type": "execute_result",
          "data": {
            "text/plain": [
              "4"
            ]
          },
          "metadata": {},
          "execution_count": 17
        }
      ]
    },
    {
      "cell_type": "code",
      "source": [
        "cadena3[3]+cadena3[2]+cadena3[1]+cadena3[0]"
      ],
      "metadata": {
        "colab": {
          "base_uri": "https://localhost:8080/",
          "height": 36
        },
        "id": "J7L3Gl1FrX3b",
        "outputId": "decd47f8-2e9d-454e-a192-53df232607dc"
      },
      "execution_count": 18,
      "outputs": [
        {
          "output_type": "execute_result",
          "data": {
            "text/plain": [
              "'aloh'"
            ],
            "application/vnd.google.colaboratory.intrinsic+json": {
              "type": "string"
            }
          },
          "metadata": {},
          "execution_count": 18
        }
      ]
    },
    {
      "cell_type": "code",
      "source": [
        "for i in range(-1,-5,-1):\n",
        "  print(cadena3[i])\n",
        "\n",
        "\n"
      ],
      "metadata": {
        "colab": {
          "base_uri": "https://localhost:8080/"
        },
        "id": "ZtQ4qnMMsJgU",
        "outputId": "5add79c4-1aaf-4340-99a3-3af9b77b471b"
      },
      "execution_count": 19,
      "outputs": [
        {
          "output_type": "stream",
          "name": "stdout",
          "text": [
            "a\n",
            "l\n",
            "o\n",
            "h\n"
          ]
        }
      ]
    },
    {
      "cell_type": "code",
      "source": [
        "cadena3"
      ],
      "metadata": {
        "colab": {
          "base_uri": "https://localhost:8080/",
          "height": 36
        },
        "id": "h0gL6CJl4sXR",
        "outputId": "27948ebe-bd56-4d7d-c927-65cec138306e"
      },
      "execution_count": 20,
      "outputs": [
        {
          "output_type": "execute_result",
          "data": {
            "text/plain": [
              "'hola'"
            ],
            "application/vnd.google.colaboratory.intrinsic+json": {
              "type": "string"
            }
          },
          "metadata": {},
          "execution_count": 20
        }
      ]
    },
    {
      "cell_type": "code",
      "source": [
        "cadena3[::-1]"
      ],
      "metadata": {
        "colab": {
          "base_uri": "https://localhost:8080/",
          "height": 36
        },
        "id": "CmYOusMdL_Ff",
        "outputId": "c0805755-fd48-46e1-f37b-5ac0880ba112"
      },
      "execution_count": 21,
      "outputs": [
        {
          "output_type": "execute_result",
          "data": {
            "text/plain": [
              "'aloh'"
            ],
            "application/vnd.google.colaboratory.intrinsic+json": {
              "type": "string"
            }
          },
          "metadata": {},
          "execution_count": 21
        }
      ]
    },
    {
      "cell_type": "code",
      "source": [
        "lista1 = [1,2,3,4,5,6]"
      ],
      "metadata": {
        "id": "nbgDo1bBMlBB"
      },
      "execution_count": 22,
      "outputs": []
    },
    {
      "cell_type": "code",
      "source": [
        "lista1[::-1]"
      ],
      "metadata": {
        "colab": {
          "base_uri": "https://localhost:8080/"
        },
        "id": "PlJ96cEbMp3X",
        "outputId": "bdd0f2f0-8eb6-4580-c0fc-64f380ceb42f"
      },
      "execution_count": 23,
      "outputs": [
        {
          "output_type": "execute_result",
          "data": {
            "text/plain": [
              "[6, 5, 4, 3, 2, 1]"
            ]
          },
          "metadata": {},
          "execution_count": 23
        }
      ]
    },
    {
      "cell_type": "code",
      "source": [
        "cadena3[4::-1]"
      ],
      "metadata": {
        "colab": {
          "base_uri": "https://localhost:8080/",
          "height": 36
        },
        "id": "ysJxzULpuNPe",
        "outputId": "af8812c0-887f-47a8-c1ee-46fd81bc5935"
      },
      "execution_count": 24,
      "outputs": [
        {
          "output_type": "execute_result",
          "data": {
            "text/plain": [
              "'aloh'"
            ],
            "application/vnd.google.colaboratory.intrinsic+json": {
              "type": "string"
            }
          },
          "metadata": {},
          "execution_count": 24
        }
      ]
    },
    {
      "cell_type": "code",
      "source": [
        "\"ho\"in cadena3"
      ],
      "metadata": {
        "colab": {
          "base_uri": "https://localhost:8080/"
        },
        "id": "qU7JW3jduAuC",
        "outputId": "55300950-c476-4c1e-f5f3-0a7989293c1d"
      },
      "execution_count": 25,
      "outputs": [
        {
          "output_type": "execute_result",
          "data": {
            "text/plain": [
              "True"
            ]
          },
          "metadata": {},
          "execution_count": 25
        }
      ]
    },
    {
      "cell_type": "code",
      "source": [
        "\"Hola a todos como estan\".find(\"a\",6,23)"
      ],
      "metadata": {
        "colab": {
          "base_uri": "https://localhost:8080/"
        },
        "id": "OJm6VhIUucVR",
        "outputId": "85c2487f-d9d2-4834-cb6f-23a987143aeb"
      },
      "execution_count": 26,
      "outputs": [
        {
          "output_type": "execute_result",
          "data": {
            "text/plain": [
              "21"
            ]
          },
          "metadata": {},
          "execution_count": 26
        }
      ]
    },
    {
      "cell_type": "code",
      "source": [
        "\"Hola a todos como estan\".find(\"a\")"
      ],
      "metadata": {
        "colab": {
          "base_uri": "https://localhost:8080/"
        },
        "id": "Vypy_FldvG8K",
        "outputId": "47edbb2a-d952-49e1-febd-8ebc46a5db5c"
      },
      "execution_count": 32,
      "outputs": [
        {
          "output_type": "execute_result",
          "data": {
            "text/plain": [
              "3"
            ]
          },
          "metadata": {},
          "execution_count": 32
        }
      ]
    },
    {
      "cell_type": "code",
      "source": [
        "\"Hola a todos como estan\".count(\"a\",6,23)"
      ],
      "metadata": {
        "colab": {
          "base_uri": "https://localhost:8080/"
        },
        "id": "7Qp2ndAovSzH",
        "outputId": "87f77f2a-c810-43c9-a78c-9fa0a8e92c37"
      },
      "execution_count": 34,
      "outputs": [
        {
          "output_type": "execute_result",
          "data": {
            "text/plain": [
              "1"
            ]
          },
          "metadata": {},
          "execution_count": 34
        }
      ]
    },
    {
      "cell_type": "code",
      "source": [
        "cadena4 = \"Hola a todos como estan\"\n",
        "#todas las posiciones donde se enucnetra la letra \"a\""
      ],
      "metadata": {
        "id": "RbGHgprZu6Mc"
      },
      "execution_count": 30,
      "outputs": []
    },
    {
      "cell_type": "code",
      "source": [
        "# Mostras las posicioens donde se encuetra la letra 'a'\n"
      ],
      "metadata": {
        "id": "UDvRnqw8vw-H"
      },
      "execution_count": 31,
      "outputs": []
    },
    {
      "cell_type": "markdown",
      "source": [
        "## Formato de cadenas con python"
      ],
      "metadata": {
        "id": "3eISh-0-Usza"
      }
    },
    {
      "cell_type": "code",
      "source": [
        "'{2}; {1}; {0}; {0}'.format('a', 'b', 'c')"
      ],
      "metadata": {
        "colab": {
          "base_uri": "https://localhost:8080/",
          "height": 36
        },
        "id": "L6TzHI041rek",
        "outputId": "721cc1d6-072e-4d4c-e0e8-36c60e356d29"
      },
      "execution_count": 35,
      "outputs": [
        {
          "output_type": "execute_result",
          "data": {
            "text/plain": [
              "'c; b; a; a'"
            ],
            "application/vnd.google.colaboratory.intrinsic+json": {
              "type": "string"
            }
          },
          "metadata": {},
          "execution_count": 35
        }
      ]
    },
    {
      "cell_type": "code",
      "source": [
        "\"el reporte de gastos es {1}, y gastos {2} mientras que el de tasas y retenciones es de {0}\".format(\"1500\",\"3000\",\"100\")"
      ],
      "metadata": {
        "colab": {
          "base_uri": "https://localhost:8080/",
          "height": 36
        },
        "id": "WwX5244DTR7S",
        "outputId": "ac7f8b32-4d1e-4c6c-af47-de08fc4e52ea"
      },
      "execution_count": 39,
      "outputs": [
        {
          "output_type": "execute_result",
          "data": {
            "text/plain": [
              "'el reporte de gastos es 3000, y gastos 100 mientras que el de tasas y retenciones es de 1500'"
            ],
            "application/vnd.google.colaboratory.intrinsic+json": {
              "type": "string"
            }
          },
          "metadata": {},
          "execution_count": 39
        }
      ]
    },
    {
      "cell_type": "code",
      "source": [
        "'Nombre: {nom} y el apellido es: {ape}'.format(nom='Luis', ape='Lee')"
      ],
      "metadata": {
        "colab": {
          "base_uri": "https://localhost:8080/",
          "height": 36
        },
        "id": "BScbt6Eb17ks",
        "outputId": "2938d87f-c474-470d-a48f-e8edc4f2284e"
      },
      "execution_count": 40,
      "outputs": [
        {
          "output_type": "execute_result",
          "data": {
            "text/plain": [
              "'Nombre: Luis y el apellido es: Lee'"
            ],
            "application/vnd.google.colaboratory.intrinsic+json": {
              "type": "string"
            }
          },
          "metadata": {},
          "execution_count": 40
        }
      ]
    },
    {
      "cell_type": "code",
      "source": [
        "print('{:<15} !hola'.format('texto'))\n",
        "print('{:>15} !hola'.format('texto'))"
      ],
      "metadata": {
        "colab": {
          "base_uri": "https://localhost:8080/"
        },
        "id": "Tlh_p8Tw2HLc",
        "outputId": "46084280-6c7f-41ef-d678-149d870725c5"
      },
      "execution_count": 41,
      "outputs": [
        {
          "output_type": "stream",
          "name": "stdout",
          "text": [
            "texto           !hola\n",
            "          texto !hola\n"
          ]
        }
      ]
    },
    {
      "cell_type": "code",
      "source": [
        "'{:<15}'.format('texto y mas T')"
      ],
      "metadata": {
        "colab": {
          "base_uri": "https://localhost:8080/",
          "height": 36
        },
        "id": "anOKq5G-VHbr",
        "outputId": "03877d45-e98b-42c9-81fb-80efc2e075df"
      },
      "execution_count": 42,
      "outputs": [
        {
          "output_type": "execute_result",
          "data": {
            "text/plain": [
              "'texto y mas T  '"
            ],
            "application/vnd.google.colaboratory.intrinsic+json": {
              "type": "string"
            }
          },
          "metadata": {},
          "execution_count": 42
        }
      ]
    },
    {
      "cell_type": "code",
      "source": [
        "'{:<15}'.format('texto y mas Txto que supera 15 espacios bla bla blsa')"
      ],
      "metadata": {
        "colab": {
          "base_uri": "https://localhost:8080/",
          "height": 36
        },
        "id": "Urx72hLKVXCL",
        "outputId": "07e89be1-b770-4dbc-f024-eab6461d93a1"
      },
      "execution_count": 43,
      "outputs": [
        {
          "output_type": "execute_result",
          "data": {
            "text/plain": [
              "'texto y mas Txto que supera 15 espacios bla bla blsa'"
            ],
            "application/vnd.google.colaboratory.intrinsic+json": {
              "type": "string"
            }
          },
          "metadata": {},
          "execution_count": 43
        }
      ]
    },
    {
      "cell_type": "code",
      "source": [
        "'{:*^15}'.format('texto')# Completar espacios"
      ],
      "metadata": {
        "colab": {
          "base_uri": "https://localhost:8080/",
          "height": 36
        },
        "id": "Z3MFzAa92P_p",
        "outputId": "b090f31f-4925-463a-8b37-c2f0b59a3e3e"
      },
      "execution_count": 44,
      "outputs": [
        {
          "output_type": "execute_result",
          "data": {
            "text/plain": [
              "'*****texto*****'"
            ],
            "application/vnd.google.colaboratory.intrinsic+json": {
              "type": "string"
            }
          },
          "metadata": {},
          "execution_count": 44
        }
      ]
    },
    {
      "cell_type": "code",
      "source": [
        "'{: ^15}'.format('texto')# Completar espacios"
      ],
      "metadata": {
        "colab": {
          "base_uri": "https://localhost:8080/",
          "height": 36
        },
        "id": "esmlVjMIVhAb",
        "outputId": "262ff8cb-456f-4817-f0e9-dd4e67ad2793"
      },
      "execution_count": 45,
      "outputs": [
        {
          "output_type": "execute_result",
          "data": {
            "text/plain": [
              "'     texto     '"
            ],
            "application/vnd.google.colaboratory.intrinsic+json": {
              "type": "string"
            }
          },
          "metadata": {},
          "execution_count": 45
        }
      ]
    },
    {
      "cell_type": "code",
      "source": [
        "'{:0^15}'.format('texto')# Completar espacios"
      ],
      "metadata": {
        "colab": {
          "base_uri": "https://localhost:8080/",
          "height": 36
        },
        "id": "L9zgKCe4Vp8T",
        "outputId": "02081213-c279-4a41-8927-09648ec17c78"
      },
      "execution_count": 51,
      "outputs": [
        {
          "output_type": "execute_result",
          "data": {
            "text/plain": [
              "'00000texto00000'"
            ],
            "application/vnd.google.colaboratory.intrinsic+json": {
              "type": "string"
            }
          },
          "metadata": {},
          "execution_count": 51
        }
      ]
    },
    {
      "cell_type": "code",
      "source": [
        "\"{:0>{}}\".format(1, 6)"
      ],
      "metadata": {
        "colab": {
          "base_uri": "https://localhost:8080/",
          "height": 36
        },
        "id": "64SLoscD2HpR",
        "outputId": "78f674d5-ba07-471a-a156-da30f40e62b4"
      },
      "execution_count": 48,
      "outputs": [
        {
          "output_type": "execute_result",
          "data": {
            "text/plain": [
              "'000001'"
            ],
            "application/vnd.google.colaboratory.intrinsic+json": {
              "type": "string"
            }
          },
          "metadata": {},
          "execution_count": 48
        }
      ]
    },
    {
      "cell_type": "code",
      "source": [
        "\"Entero: {0:d} con millares: {0:,d}\".format(12345678)"
      ],
      "metadata": {
        "colab": {
          "base_uri": "https://localhost:8080/",
          "height": 36
        },
        "id": "6IJ_BDGI2axG",
        "outputId": "b5b78e74-46e4-4cac-b517-64913d329f70"
      },
      "execution_count": 52,
      "outputs": [
        {
          "output_type": "execute_result",
          "data": {
            "text/plain": [
              "'Entero: 12345678 con millares: 12,345,678'"
            ],
            "application/vnd.google.colaboratory.intrinsic+json": {
              "type": "string"
            }
          },
          "metadata": {},
          "execution_count": 52
        }
      ]
    },
    {
      "cell_type": "code",
      "source": [
        "'{0:,.2f}'.format(12345142.249)"
      ],
      "metadata": {
        "colab": {
          "base_uri": "https://localhost:8080/",
          "height": 36
        },
        "id": "bFVjVRnBZHBY",
        "outputId": "e0b3024f-cc8c-4cc6-ed24-6761cdde08c6"
      },
      "execution_count": 53,
      "outputs": [
        {
          "output_type": "execute_result",
          "data": {
            "text/plain": [
              "'12,345,142.25'"
            ],
            "application/vnd.google.colaboratory.intrinsic+json": {
              "type": "string"
            }
          },
          "metadata": {},
          "execution_count": 53
        }
      ]
    },
    {
      "cell_type": "code",
      "source": [
        "'Real: {0:f} con precisión: {0:.1f}'.format(19/13)"
      ],
      "metadata": {
        "colab": {
          "base_uri": "https://localhost:8080/",
          "height": 36
        },
        "id": "oIdE6AvN2k-j",
        "outputId": "fb732fef-53eb-45e6-e36e-88bf5e6e96f9"
      },
      "execution_count": 55,
      "outputs": [
        {
          "output_type": "execute_result",
          "data": {
            "text/plain": [
              "'Real: 1.461538 con precisión: 1.5'"
            ],
            "application/vnd.google.colaboratory.intrinsic+json": {
              "type": "string"
            }
          },
          "metadata": {},
          "execution_count": 55
        }
      ]
    },
    {
      "cell_type": "code",
      "source": [
        "' El número {0:f} en Formato científico es:{0:.3e}'.format(31.5/65854)"
      ],
      "metadata": {
        "colab": {
          "base_uri": "https://localhost:8080/",
          "height": 36
        },
        "id": "kGJ6mEoL2vsM",
        "outputId": "24d9f93b-fb8a-49ca-ff8a-f2c28c0ceeb7"
      },
      "execution_count": 56,
      "outputs": [
        {
          "output_type": "execute_result",
          "data": {
            "text/plain": [
              "' El número 0.000478 en Formato científico es:4.783e-04'"
            ],
            "application/vnd.google.colaboratory.intrinsic+json": {
              "type": "string"
            }
          },
          "metadata": {},
          "execution_count": 56
        }
      ]
    },
    {
      "cell_type": "code",
      "source": [
        "' El número {0:f} en Formato científico es:{0:.0e}'.format(100000)"
      ],
      "metadata": {
        "colab": {
          "base_uri": "https://localhost:8080/",
          "height": 36
        },
        "id": "8Lna_Urh-bGE",
        "outputId": "f8351bf3-8d32-4c2f-acef-0604a182345c"
      },
      "execution_count": 57,
      "outputs": [
        {
          "output_type": "execute_result",
          "data": {
            "text/plain": [
              "' El número 100000.000000 en Formato científico es:1e+05'"
            ],
            "application/vnd.google.colaboratory.intrinsic+json": {
              "type": "string"
            }
          },
          "metadata": {},
          "execution_count": 57
        }
      ]
    },
    {
      "cell_type": "code",
      "source": [
        "'{0:f} en términos porcentuales es: {0:.3%}'.format(19/22)"
      ],
      "metadata": {
        "colab": {
          "base_uri": "https://localhost:8080/",
          "height": 36
        },
        "id": "lKDHc30H3Beu",
        "outputId": "26faba56-64f6-4c69-aa2f-0920cd85a4aa"
      },
      "execution_count": 58,
      "outputs": [
        {
          "output_type": "execute_result",
          "data": {
            "text/plain": [
              "'0.863636 en términos porcentuales es: 86.364%'"
            ],
            "application/vnd.google.colaboratory.intrinsic+json": {
              "type": "string"
            }
          },
          "metadata": {},
          "execution_count": 58
        }
      ]
    },
    {
      "cell_type": "code",
      "source": [
        "# Formtatos numéricos\n",
        "print('Entero: {0:d} con millares: {0:,d}'.format(1234500))\n",
        "print('Real: {0:f} con precisión: {0:.3f}'.format(19/13))\n",
        "print('Formato científico: {0:.2e}'.format(31.5/6584))\n",
        "print('Porcentaje: {0:.2%}'.format(19/22))"
      ],
      "metadata": {
        "id": "aYOn18o61jGU",
        "colab": {
          "base_uri": "https://localhost:8080/"
        },
        "outputId": "e6a94fd2-911d-4e44-bdfe-760187fe8718"
      },
      "execution_count": 59,
      "outputs": [
        {
          "output_type": "stream",
          "name": "stdout",
          "text": [
            "Entero: 1234500 con millares: 1,234,500\n",
            "Real: 1.461538 con precisión: 1.462\n",
            "Formato científico: 4.78e-03\n",
            "Porcentaje: 86.36%\n"
          ]
        }
      ]
    },
    {
      "cell_type": "code",
      "source": [
        "f1 = '{:<5}|{}'.format('V1',\"***********\")\n",
        "f2= '{:<5}|{}'.format('V2...',\"********\")\n",
        "f3 = '{:<5}|{}'.format('V3.',\"****\")\n",
        "print(f1)\n",
        "print(f2)\n",
        "print(f3)"
      ],
      "metadata": {
        "colab": {
          "base_uri": "https://localhost:8080/"
        },
        "id": "yajd10BDXGBX",
        "outputId": "8a30264c-300e-456c-c8fc-17c8fb554361"
      },
      "execution_count": null,
      "outputs": [
        {
          "output_type": "stream",
          "name": "stdout",
          "text": [
            "V1   |***********\n",
            "V2...|********\n",
            "V3.  |****\n"
          ]
        }
      ]
    },
    {
      "cell_type": "code",
      "source": [
        "f0 = f'{\"V1\":<5}|{\"****\"}'\n",
        "f1 = f'{\"V2\":<5}|{\"***********\"}'\n",
        "f2 = f'{\"V3\":<5}|{\"********\"}'\n",
        "print(f0)\n",
        "print(f1)\n",
        "print(f2)"
      ],
      "metadata": {
        "colab": {
          "base_uri": "https://localhost:8080/"
        },
        "id": "yl0LUEE0YEXG",
        "outputId": "acf56a46-93d7-4e96-98ba-415db294e6f7"
      },
      "execution_count": 60,
      "outputs": [
        {
          "output_type": "stream",
          "name": "stdout",
          "text": [
            "V1   |****\n",
            "V2   |***********\n",
            "V3   |********\n"
          ]
        }
      ]
    },
    {
      "cell_type": "markdown",
      "source": [
        "## Ejercicios"
      ],
      "metadata": {
        "id": "0r7jfR6l415L"
      }
    },
    {
      "cell_type": "code",
      "source": [
        "# Reemplaza una letra por otra en una cadena.(.replace())\n",
        "cadena = \"Hola Mundo\"\n",
        "print(cadena.replace(\"H\",\"J\"))"
      ],
      "metadata": {
        "id": "me6HFNe14bqn",
        "colab": {
          "base_uri": "https://localhost:8080/"
        },
        "outputId": "017be898-dd6f-4e90-d288-40aff6058ebe"
      },
      "execution_count": 61,
      "outputs": [
        {
          "output_type": "stream",
          "name": "stdout",
          "text": [
            "Jola Mundo\n"
          ]
        }
      ]
    },
    {
      "cell_type": "code",
      "source": [
        "# Divide una cadena en una lista de palabras. (.split())\n",
        "print(cadena.split(\",\"))"
      ],
      "metadata": {
        "colab": {
          "base_uri": "https://localhost:8080/"
        },
        "id": "9ylaHE9g4lDR",
        "outputId": "719901c2-39eb-4db7-a59b-361d97c5ef9f"
      },
      "execution_count": 64,
      "outputs": [
        {
          "output_type": "stream",
          "name": "stdout",
          "text": [
            "['Hola Mundo']\n"
          ]
        }
      ]
    },
    {
      "cell_type": "code",
      "source": [
        "# Une una lista de palabras en una sola cadena. (\" \".join()\n"
      ],
      "metadata": {
        "colab": {
          "base_uri": "https://localhost:8080/",
          "height": 35
        },
        "id": "LDzHypmU4rf6",
        "outputId": "4428111f-454a-4236-adea-aa68a13a6fbc"
      },
      "execution_count": null,
      "outputs": [
        {
          "output_type": "execute_result",
          "data": {
            "text/plain": [
              "'Hola, mundo, !'"
            ],
            "application/vnd.google.colaboratory.intrinsic+json": {
              "type": "string"
            }
          },
          "metadata": {},
          "execution_count": 100
        }
      ]
    },
    {
      "cell_type": "code",
      "source": [
        "# Elimina los espacios en blanco al inicio y al final de una cadena.(.strip())\n"
      ],
      "metadata": {
        "colab": {
          "base_uri": "https://localhost:8080/",
          "height": 35
        },
        "id": "ACgQPhdb4ys2",
        "outputId": "78c53d1c-f8e9-48d2-c33e-6e52e8402681"
      },
      "execution_count": null,
      "outputs": [
        {
          "output_type": "execute_result",
          "data": {
            "text/plain": [
              "'Hola, mundo!'"
            ],
            "application/vnd.google.colaboratory.intrinsic+json": {
              "type": "string"
            }
          },
          "metadata": {},
          "execution_count": 35
        }
      ]
    },
    {
      "cell_type": "markdown",
      "source": [
        "# Escribe un script que identifique si un texto  es o no un palíndromo"
      ],
      "metadata": {
        "id": "K7QaSqTk4_j0"
      }
    },
    {
      "cell_type": "code",
      "source": [
        "cadena = \"Reconocer\"\n",
        "cadena = cadena.lower()\n",
        "if cadena[::-1]==cadena:\n",
        "  print(\"Es un palíndromo\")\n",
        "else:\n",
        "  print(\"No es un palíndromo\")"
      ],
      "metadata": {
        "colab": {
          "base_uri": "https://localhost:8080/"
        },
        "id": "8BS7nJt8XEcd",
        "outputId": "2034ca1d-436b-4b79-ef02-27208478d906"
      },
      "execution_count": null,
      "outputs": [
        {
          "output_type": "stream",
          "name": "stdout",
          "text": [
            "Es un palíndromo\n"
          ]
        }
      ]
    },
    {
      "cell_type": "markdown",
      "source": [
        "# Conexión con google drive (Adicional)"
      ],
      "metadata": {
        "id": "vrhaHo66bXcr"
      }
    },
    {
      "cell_type": "code",
      "source": [
        "from google.colab import drive"
      ],
      "metadata": {
        "id": "uRBRNKFJZk40"
      },
      "execution_count": null,
      "outputs": []
    },
    {
      "cell_type": "code",
      "source": [
        "drive.mount('/content/drive')"
      ],
      "metadata": {
        "colab": {
          "base_uri": "https://localhost:8080/"
        },
        "id": "OLhpGljhYQi0",
        "outputId": "e914e8a2-8915-442f-abce-c8baa1fb3c2a"
      },
      "execution_count": null,
      "outputs": [
        {
          "output_type": "stream",
          "name": "stdout",
          "text": [
            "Mounted at /content/drive\n"
          ]
        }
      ]
    },
    {
      "cell_type": "code",
      "source": [
        "! ls drive/MyDrive/Lenguaje_de_ciencia_de_datos_I\n",
        "# drive/MyDrive/: ingrese a los archivos de tu googel drive\n",
        "# Lenguaje_de_ciencia_de_datos_I: es una carptea en mi google drive"
      ],
      "metadata": {
        "colab": {
          "base_uri": "https://localhost:8080/"
        },
        "id": "hjWeFCp9YTBX",
        "outputId": "d12a2535-cd4c-44d4-88c4-52e5d5706aae"
      },
      "execution_count": null,
      "outputs": [
        {
          "output_type": "stream",
          "name": "stdout",
          "text": [
            "'Ejemplo examen.ipynb'\t\t      Sem_2_Tipos_de_Dato_I.ipynb\n",
            "'Ejersicios (1).ipynb'\t\t      Sem_3LCD_I-Listas_tuplas_dict.ipynb\n",
            " Ejersicios.ipynb\t\t      Sem_4_control-de-flujo.ipynb\n",
            " grinch.txt\t\t\t     'Sem_5.6_Programación modular.ipynb'\n",
            " Sem_10_Objetos.ipynb\t\t      Sem_7_Programacion-funcional.ipynb\n",
            " Sem_11_Herencia_polimorfismo.ipynb   StudentsPerformance.csv\n",
            " Sem_1_Lenguaje_Python.ipynb\t      StudentsPerformance.gsheet\n"
          ]
        }
      ]
    },
    {
      "cell_type": "code",
      "source": [
        "! cd drive/MyDrive/Lenguaje_de_ciencia_de_datos_I ; ls"
      ],
      "metadata": {
        "colab": {
          "base_uri": "https://localhost:8080/"
        },
        "id": "PyW7nBBffCkl",
        "outputId": "3064ba75-8132-42f7-d102-f3454292df78"
      },
      "execution_count": null,
      "outputs": [
        {
          "output_type": "stream",
          "name": "stdout",
          "text": [
            "'Ejemplo examen.ipynb'\t\t      Sem_2_Tipos_de_Dato_I.ipynb\n",
            "'Ejersicios (1).ipynb'\t\t      Sem_3LCD_I-Listas_tuplas_dict.ipynb\n",
            " Ejersicios.ipynb\t\t      Sem_4_control-de-flujo.ipynb\n",
            " grinch.txt\t\t\t     'Sem_5.6_Programación modular.ipynb'\n",
            " Sem_10_Objetos.ipynb\t\t      Sem_7_Programacion-funcional.ipynb\n",
            " Sem_11_Herencia_polimorfismo.ipynb   StudentsPerformance.csv\n",
            " Sem_1_Lenguaje_Python.ipynb\t      StudentsPerformance.gsheet\n"
          ]
        }
      ]
    },
    {
      "cell_type": "code",
      "source": [
        "import pandas as pd"
      ],
      "metadata": {
        "id": "v2OvQ5FnaKpg"
      },
      "execution_count": null,
      "outputs": []
    },
    {
      "cell_type": "code",
      "source": [
        "df = pd.read_csv(\"drive/MyDrive/Lenguaje_de_ciencia_de_datos_I/StudentsPerformance.csv\")"
      ],
      "metadata": {
        "id": "6bUH2QSmaNC8"
      },
      "execution_count": null,
      "outputs": []
    },
    {
      "cell_type": "code",
      "source": [
        "df"
      ],
      "metadata": {
        "colab": {
          "base_uri": "https://localhost:8080/",
          "height": 424
        },
        "id": "qVqOFWFjaUGr",
        "outputId": "1b2fd906-2059-42cc-f9e3-29b2d990e4aa"
      },
      "execution_count": null,
      "outputs": [
        {
          "output_type": "execute_result",
          "data": {
            "text/plain": [
              "     gender race_ethnicity parental_level_of_education         lunch  \\\n",
              "0    female        group B           bachelor's degree      standard   \n",
              "1    female        group C                some college      standard   \n",
              "2    female        group B             master's degree      standard   \n",
              "3      male        group A          associate's degree  free/reduced   \n",
              "4      male        group C                some college      standard   \n",
              "..      ...            ...                         ...           ...   \n",
              "995  female        group E             master's degree      standard   \n",
              "996    male        group C                 high school  free/reduced   \n",
              "997  female        group C                 high school  free/reduced   \n",
              "998  female        group D                some college      standard   \n",
              "999  female        group D                some college  free/reduced   \n",
              "\n",
              "    test_preparation_course  math_score  reading_score  writing_score  \n",
              "0                      none          72             72             74  \n",
              "1                 completed          69             90             88  \n",
              "2                      none          90             95             93  \n",
              "3                      none          47             57             44  \n",
              "4                      none          76             78             75  \n",
              "..                      ...         ...            ...            ...  \n",
              "995               completed          88             99             95  \n",
              "996                    none          62             55             55  \n",
              "997               completed          59             71             65  \n",
              "998               completed          68             78             77  \n",
              "999                    none          77             86             86  \n",
              "\n",
              "[1000 rows x 8 columns]"
            ],
            "text/html": [
              "\n",
              "  <div id=\"df-3b45ceb4-0968-4096-bffb-2debe936e6c3\">\n",
              "    <div class=\"colab-df-container\">\n",
              "      <div>\n",
              "<style scoped>\n",
              "    .dataframe tbody tr th:only-of-type {\n",
              "        vertical-align: middle;\n",
              "    }\n",
              "\n",
              "    .dataframe tbody tr th {\n",
              "        vertical-align: top;\n",
              "    }\n",
              "\n",
              "    .dataframe thead th {\n",
              "        text-align: right;\n",
              "    }\n",
              "</style>\n",
              "<table border=\"1\" class=\"dataframe\">\n",
              "  <thead>\n",
              "    <tr style=\"text-align: right;\">\n",
              "      <th></th>\n",
              "      <th>gender</th>\n",
              "      <th>race_ethnicity</th>\n",
              "      <th>parental_level_of_education</th>\n",
              "      <th>lunch</th>\n",
              "      <th>test_preparation_course</th>\n",
              "      <th>math_score</th>\n",
              "      <th>reading_score</th>\n",
              "      <th>writing_score</th>\n",
              "    </tr>\n",
              "  </thead>\n",
              "  <tbody>\n",
              "    <tr>\n",
              "      <th>0</th>\n",
              "      <td>female</td>\n",
              "      <td>group B</td>\n",
              "      <td>bachelor's degree</td>\n",
              "      <td>standard</td>\n",
              "      <td>none</td>\n",
              "      <td>72</td>\n",
              "      <td>72</td>\n",
              "      <td>74</td>\n",
              "    </tr>\n",
              "    <tr>\n",
              "      <th>1</th>\n",
              "      <td>female</td>\n",
              "      <td>group C</td>\n",
              "      <td>some college</td>\n",
              "      <td>standard</td>\n",
              "      <td>completed</td>\n",
              "      <td>69</td>\n",
              "      <td>90</td>\n",
              "      <td>88</td>\n",
              "    </tr>\n",
              "    <tr>\n",
              "      <th>2</th>\n",
              "      <td>female</td>\n",
              "      <td>group B</td>\n",
              "      <td>master's degree</td>\n",
              "      <td>standard</td>\n",
              "      <td>none</td>\n",
              "      <td>90</td>\n",
              "      <td>95</td>\n",
              "      <td>93</td>\n",
              "    </tr>\n",
              "    <tr>\n",
              "      <th>3</th>\n",
              "      <td>male</td>\n",
              "      <td>group A</td>\n",
              "      <td>associate's degree</td>\n",
              "      <td>free/reduced</td>\n",
              "      <td>none</td>\n",
              "      <td>47</td>\n",
              "      <td>57</td>\n",
              "      <td>44</td>\n",
              "    </tr>\n",
              "    <tr>\n",
              "      <th>4</th>\n",
              "      <td>male</td>\n",
              "      <td>group C</td>\n",
              "      <td>some college</td>\n",
              "      <td>standard</td>\n",
              "      <td>none</td>\n",
              "      <td>76</td>\n",
              "      <td>78</td>\n",
              "      <td>75</td>\n",
              "    </tr>\n",
              "    <tr>\n",
              "      <th>...</th>\n",
              "      <td>...</td>\n",
              "      <td>...</td>\n",
              "      <td>...</td>\n",
              "      <td>...</td>\n",
              "      <td>...</td>\n",
              "      <td>...</td>\n",
              "      <td>...</td>\n",
              "      <td>...</td>\n",
              "    </tr>\n",
              "    <tr>\n",
              "      <th>995</th>\n",
              "      <td>female</td>\n",
              "      <td>group E</td>\n",
              "      <td>master's degree</td>\n",
              "      <td>standard</td>\n",
              "      <td>completed</td>\n",
              "      <td>88</td>\n",
              "      <td>99</td>\n",
              "      <td>95</td>\n",
              "    </tr>\n",
              "    <tr>\n",
              "      <th>996</th>\n",
              "      <td>male</td>\n",
              "      <td>group C</td>\n",
              "      <td>high school</td>\n",
              "      <td>free/reduced</td>\n",
              "      <td>none</td>\n",
              "      <td>62</td>\n",
              "      <td>55</td>\n",
              "      <td>55</td>\n",
              "    </tr>\n",
              "    <tr>\n",
              "      <th>997</th>\n",
              "      <td>female</td>\n",
              "      <td>group C</td>\n",
              "      <td>high school</td>\n",
              "      <td>free/reduced</td>\n",
              "      <td>completed</td>\n",
              "      <td>59</td>\n",
              "      <td>71</td>\n",
              "      <td>65</td>\n",
              "    </tr>\n",
              "    <tr>\n",
              "      <th>998</th>\n",
              "      <td>female</td>\n",
              "      <td>group D</td>\n",
              "      <td>some college</td>\n",
              "      <td>standard</td>\n",
              "      <td>completed</td>\n",
              "      <td>68</td>\n",
              "      <td>78</td>\n",
              "      <td>77</td>\n",
              "    </tr>\n",
              "    <tr>\n",
              "      <th>999</th>\n",
              "      <td>female</td>\n",
              "      <td>group D</td>\n",
              "      <td>some college</td>\n",
              "      <td>free/reduced</td>\n",
              "      <td>none</td>\n",
              "      <td>77</td>\n",
              "      <td>86</td>\n",
              "      <td>86</td>\n",
              "    </tr>\n",
              "  </tbody>\n",
              "</table>\n",
              "<p>1000 rows × 8 columns</p>\n",
              "</div>\n",
              "      <button class=\"colab-df-convert\" onclick=\"convertToInteractive('df-3b45ceb4-0968-4096-bffb-2debe936e6c3')\"\n",
              "              title=\"Convert this dataframe to an interactive table.\"\n",
              "              style=\"display:none;\">\n",
              "        \n",
              "  <svg xmlns=\"http://www.w3.org/2000/svg\" height=\"24px\"viewBox=\"0 0 24 24\"\n",
              "       width=\"24px\">\n",
              "    <path d=\"M0 0h24v24H0V0z\" fill=\"none\"/>\n",
              "    <path d=\"M18.56 5.44l.94 2.06.94-2.06 2.06-.94-2.06-.94-.94-2.06-.94 2.06-2.06.94zm-11 1L8.5 8.5l.94-2.06 2.06-.94-2.06-.94L8.5 2.5l-.94 2.06-2.06.94zm10 10l.94 2.06.94-2.06 2.06-.94-2.06-.94-.94-2.06-.94 2.06-2.06.94z\"/><path d=\"M17.41 7.96l-1.37-1.37c-.4-.4-.92-.59-1.43-.59-.52 0-1.04.2-1.43.59L10.3 9.45l-7.72 7.72c-.78.78-.78 2.05 0 2.83L4 21.41c.39.39.9.59 1.41.59.51 0 1.02-.2 1.41-.59l7.78-7.78 2.81-2.81c.8-.78.8-2.07 0-2.86zM5.41 20L4 18.59l7.72-7.72 1.47 1.35L5.41 20z\"/>\n",
              "  </svg>\n",
              "      </button>\n",
              "      \n",
              "  <style>\n",
              "    .colab-df-container {\n",
              "      display:flex;\n",
              "      flex-wrap:wrap;\n",
              "      gap: 12px;\n",
              "    }\n",
              "\n",
              "    .colab-df-convert {\n",
              "      background-color: #E8F0FE;\n",
              "      border: none;\n",
              "      border-radius: 50%;\n",
              "      cursor: pointer;\n",
              "      display: none;\n",
              "      fill: #1967D2;\n",
              "      height: 32px;\n",
              "      padding: 0 0 0 0;\n",
              "      width: 32px;\n",
              "    }\n",
              "\n",
              "    .colab-df-convert:hover {\n",
              "      background-color: #E2EBFA;\n",
              "      box-shadow: 0px 1px 2px rgba(60, 64, 67, 0.3), 0px 1px 3px 1px rgba(60, 64, 67, 0.15);\n",
              "      fill: #174EA6;\n",
              "    }\n",
              "\n",
              "    [theme=dark] .colab-df-convert {\n",
              "      background-color: #3B4455;\n",
              "      fill: #D2E3FC;\n",
              "    }\n",
              "\n",
              "    [theme=dark] .colab-df-convert:hover {\n",
              "      background-color: #434B5C;\n",
              "      box-shadow: 0px 1px 3px 1px rgba(0, 0, 0, 0.15);\n",
              "      filter: drop-shadow(0px 1px 2px rgba(0, 0, 0, 0.3));\n",
              "      fill: #FFFFFF;\n",
              "    }\n",
              "  </style>\n",
              "\n",
              "      <script>\n",
              "        const buttonEl =\n",
              "          document.querySelector('#df-3b45ceb4-0968-4096-bffb-2debe936e6c3 button.colab-df-convert');\n",
              "        buttonEl.style.display =\n",
              "          google.colab.kernel.accessAllowed ? 'block' : 'none';\n",
              "\n",
              "        async function convertToInteractive(key) {\n",
              "          const element = document.querySelector('#df-3b45ceb4-0968-4096-bffb-2debe936e6c3');\n",
              "          const dataTable =\n",
              "            await google.colab.kernel.invokeFunction('convertToInteractive',\n",
              "                                                     [key], {});\n",
              "          if (!dataTable) return;\n",
              "\n",
              "          const docLinkHtml = 'Like what you see? Visit the ' +\n",
              "            '<a target=\"_blank\" href=https://colab.research.google.com/notebooks/data_table.ipynb>data table notebook</a>'\n",
              "            + ' to learn more about interactive tables.';\n",
              "          element.innerHTML = '';\n",
              "          dataTable['output_type'] = 'display_data';\n",
              "          await google.colab.output.renderOutput(dataTable, element);\n",
              "          const docLink = document.createElement('div');\n",
              "          docLink.innerHTML = docLinkHtml;\n",
              "          element.appendChild(docLink);\n",
              "        }\n",
              "      </script>\n",
              "    </div>\n",
              "  </div>\n",
              "  "
            ]
          },
          "metadata": {},
          "execution_count": 85
        }
      ]
    },
    {
      "cell_type": "markdown",
      "source": [
        "# Ejersicios adicionales"
      ],
      "metadata": {
        "id": "yDxGVOvMeCLT"
      }
    },
    {
      "cell_type": "code",
      "source": [
        "# Crea una variable llamada \"precio\" con el valor 12.345. Utiliza el método de formato de cadenas para imprimir un mensaje que diga\n",
        "# \"El precio es S/ 12.35\".\n",
        "\n",
        "precio = 12.345\n",
        "print(f\"El precio es S/{precio}\")"
      ],
      "metadata": {
        "id": "wQzW0MszeGEj",
        "colab": {
          "base_uri": "https://localhost:8080/"
        },
        "outputId": "e9833bb8-4ff3-4d74-d474-70c3bc535fe4"
      },
      "execution_count": 66,
      "outputs": [
        {
          "output_type": "stream",
          "name": "stdout",
          "text": [
            "El precio es S/12.345\n"
          ]
        }
      ]
    },
    {
      "cell_type": "code",
      "source": [
        "# Crea una lista llamada \"nombres\" con los nombres \"Juan\", \"María\" y \"Pedro\".\n",
        "# Utiliza el método de formato de cadenas para imprimir un mensaje que diga\n",
        "# \"Los nombres son: Juan, María y Pedro\" con los nombres separados por comas\n",
        "# y la conjunción \"y\" antes del último nombre.\n",
        "\n",
        "nombres = [\"Juan\", \"María\", \"Pedro\"]\n",
        "print (f\"Los nombres son: {nombres[0]}, {nombres[1]} y {nombres[2]}.\")"
      ],
      "metadata": {
        "id": "QEVtyVPLgb0K",
        "colab": {
          "base_uri": "https://localhost:8080/"
        },
        "outputId": "e9ca0e21-d796-4012-a65e-7ebbb2402af0"
      },
      "execution_count": 67,
      "outputs": [
        {
          "output_type": "stream",
          "name": "stdout",
          "text": [
            "Los nombres son: Juan, María y Pedro.\n"
          ]
        }
      ]
    },
    {
      "cell_type": "code",
      "source": [
        "# Crea una programa que pregunte el nombre y la edad de tres personas,luego\n",
        "# Utiliza el método de formato de cadenas para imprimir un mensaje que diga\n",
        "# \"Las personas son: Juan (25 años), María (30 años) y Pedro (20 años)\".#\n",
        "\n"
      ],
      "metadata": {
        "id": "6cJhoTEThITc"
      },
      "execution_count": null,
      "outputs": []
    },
    {
      "cell_type": "code",
      "source": [
        "# Crea una variable llamada \"correo\" con una dirección de correo electrónico.\n",
        "# Utiliza el método de formato de cadenas para imprimir un mensaje que diga\n",
        "# \"Tu nombre de usuario es [nombre de usuario]\" extrayendo el nombre de\n",
        "# usuario de la dirección de correo."
      ],
      "metadata": {
        "id": "9jWOCztNiBDP"
      },
      "execution_count": null,
      "outputs": []
    }
  ]
}