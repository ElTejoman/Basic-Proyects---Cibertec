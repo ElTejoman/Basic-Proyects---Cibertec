{
  "nbformat": 4,
  "nbformat_minor": 0,
  "metadata": {
    "colab": {
      "provenance": [],
      "include_colab_link": true
    },
    "kernelspec": {
      "name": "ir",
      "display_name": "R"
    },
    "language_info": {
      "name": "R"
    }
  },
  "cells": [
    {
      "cell_type": "markdown",
      "metadata": {
        "id": "view-in-github",
        "colab_type": "text"
      },
      "source": [
        "<a href=\"https://colab.research.google.com/github/ElTejoman/Basic-Proyects---Cibertec/blob/main/Estad%C3%ADstica_descriptiva.ipynb\" target=\"_parent\"><img src=\"https://colab.research.google.com/assets/colab-badge.svg\" alt=\"Open In Colab\"/></a>"
      ]
    },
    {
      "cell_type": "code",
      "execution_count": null,
      "metadata": {
        "id": "pzjsmoLb2dIe"
      },
      "outputs": [],
      "source": []
    },
    {
      "cell_type": "code",
      "source": [
        "df <- read.csv(\"https://raw.githubusercontent.com/acosta187/datos/main/brain_stroke.csv\")\n",
        "head(df)"
      ],
      "metadata": {
        "colab": {
          "base_uri": "https://localhost:8080/",
          "height": 286
        },
        "id": "Mk9WoNtC3FgG",
        "outputId": "d296eb89-22bf-4ab4-b264-bf88bdaddb70"
      },
      "execution_count": null,
      "outputs": [
        {
          "output_type": "display_data",
          "data": {
            "text/html": [
              "<table class=\"dataframe\">\n",
              "<caption>A data.frame: 6 × 11</caption>\n",
              "<thead>\n",
              "\t<tr><th></th><th scope=col>gender</th><th scope=col>age</th><th scope=col>hypertension</th><th scope=col>heart_disease</th><th scope=col>ever_married</th><th scope=col>work_type</th><th scope=col>Residence_type</th><th scope=col>avg_glucose_level</th><th scope=col>bmi</th><th scope=col>smoking_status</th><th scope=col>stroke</th></tr>\n",
              "\t<tr><th></th><th scope=col>&lt;chr&gt;</th><th scope=col>&lt;int&gt;</th><th scope=col>&lt;chr&gt;</th><th scope=col>&lt;chr&gt;</th><th scope=col>&lt;chr&gt;</th><th scope=col>&lt;chr&gt;</th><th scope=col>&lt;chr&gt;</th><th scope=col>&lt;dbl&gt;</th><th scope=col>&lt;dbl&gt;</th><th scope=col>&lt;chr&gt;</th><th scope=col>&lt;chr&gt;</th></tr>\n",
              "</thead>\n",
              "<tbody>\n",
              "\t<tr><th scope=row>1</th><td>Female</td><td>61</td><td>No</td><td>No </td><td>Yes</td><td>Self-employed</td><td>Rural</td><td>202.21</td><td>31.55560</td><td>never smoked   </td><td>Yes</td></tr>\n",
              "\t<tr><th scope=row>2</th><td>Female</td><td>59</td><td>No</td><td>No </td><td>Yes</td><td>Private      </td><td>Rural</td><td> 76.15</td><td>30.24294</td><td>Unknown        </td><td>Yes</td></tr>\n",
              "\t<tr><th scope=row>3</th><td>Male  </td><td>78</td><td>No</td><td>Yes</td><td>Yes</td><td>Private      </td><td>Urban</td><td>219.84</td><td>30.69895</td><td>Unknown        </td><td>Yes</td></tr>\n",
              "\t<tr><th scope=row>4</th><td>Male  </td><td>57</td><td>No</td><td>Yes</td><td>No </td><td>Govt_job     </td><td>Urban</td><td>217.08</td><td>33.80841</td><td>Unknown        </td><td>Yes</td></tr>\n",
              "\t<tr><th scope=row>5</th><td>Male  </td><td>58</td><td>No</td><td>No </td><td>Yes</td><td>Private      </td><td>Rural</td><td>189.84</td><td>31.37853</td><td>Unknown        </td><td>Yes</td></tr>\n",
              "\t<tr><th scope=row>6</th><td>Male  </td><td>59</td><td>No</td><td>No </td><td>Yes</td><td>Private      </td><td>Rural</td><td>211.78</td><td>33.48457</td><td>formerly smoked</td><td>Yes</td></tr>\n",
              "</tbody>\n",
              "</table>\n"
            ],
            "text/markdown": "\nA data.frame: 6 × 11\n\n| <!--/--> | gender &lt;chr&gt; | age &lt;int&gt; | hypertension &lt;chr&gt; | heart_disease &lt;chr&gt; | ever_married &lt;chr&gt; | work_type &lt;chr&gt; | Residence_type &lt;chr&gt; | avg_glucose_level &lt;dbl&gt; | bmi &lt;dbl&gt; | smoking_status &lt;chr&gt; | stroke &lt;chr&gt; |\n|---|---|---|---|---|---|---|---|---|---|---|---|\n| 1 | Female | 61 | No | No  | Yes | Self-employed | Rural | 202.21 | 31.55560 | never smoked    | Yes |\n| 2 | Female | 59 | No | No  | Yes | Private       | Rural |  76.15 | 30.24294 | Unknown         | Yes |\n| 3 | Male   | 78 | No | Yes | Yes | Private       | Urban | 219.84 | 30.69895 | Unknown         | Yes |\n| 4 | Male   | 57 | No | Yes | No  | Govt_job      | Urban | 217.08 | 33.80841 | Unknown         | Yes |\n| 5 | Male   | 58 | No | No  | Yes | Private       | Rural | 189.84 | 31.37853 | Unknown         | Yes |\n| 6 | Male   | 59 | No | No  | Yes | Private       | Rural | 211.78 | 33.48457 | formerly smoked | Yes |\n\n",
            "text/latex": "A data.frame: 6 × 11\n\\begin{tabular}{r|lllllllllll}\n  & gender & age & hypertension & heart\\_disease & ever\\_married & work\\_type & Residence\\_type & avg\\_glucose\\_level & bmi & smoking\\_status & stroke\\\\\n  & <chr> & <int> & <chr> & <chr> & <chr> & <chr> & <chr> & <dbl> & <dbl> & <chr> & <chr>\\\\\n\\hline\n\t1 & Female & 61 & No & No  & Yes & Self-employed & Rural & 202.21 & 31.55560 & never smoked    & Yes\\\\\n\t2 & Female & 59 & No & No  & Yes & Private       & Rural &  76.15 & 30.24294 & Unknown         & Yes\\\\\n\t3 & Male   & 78 & No & Yes & Yes & Private       & Urban & 219.84 & 30.69895 & Unknown         & Yes\\\\\n\t4 & Male   & 57 & No & Yes & No  & Govt\\_job      & Urban & 217.08 & 33.80841 & Unknown         & Yes\\\\\n\t5 & Male   & 58 & No & No  & Yes & Private       & Rural & 189.84 & 31.37853 & Unknown         & Yes\\\\\n\t6 & Male   & 59 & No & No  & Yes & Private       & Rural & 211.78 & 33.48457 & formerly smoked & Yes\\\\\n\\end{tabular}\n",
            "text/plain": [
              "  gender age hypertension heart_disease ever_married work_type    \n",
              "1 Female 61  No           No            Yes          Self-employed\n",
              "2 Female 59  No           No            Yes          Private      \n",
              "3 Male   78  No           Yes           Yes          Private      \n",
              "4 Male   57  No           Yes           No           Govt_job     \n",
              "5 Male   58  No           No            Yes          Private      \n",
              "6 Male   59  No           No            Yes          Private      \n",
              "  Residence_type avg_glucose_level bmi      smoking_status  stroke\n",
              "1 Rural          202.21            31.55560 never smoked    Yes   \n",
              "2 Rural           76.15            30.24294 Unknown         Yes   \n",
              "3 Urban          219.84            30.69895 Unknown         Yes   \n",
              "4 Urban          217.08            33.80841 Unknown         Yes   \n",
              "5 Rural          189.84            31.37853 Unknown         Yes   \n",
              "6 Rural          211.78            33.48457 formerly smoked Yes   "
            ]
          },
          "metadata": {}
        }
      ]
    },
    {
      "cell_type": "code",
      "source": [
        "install.packages(\"vioplot\")"
      ],
      "metadata": {
        "colab": {
          "base_uri": "https://localhost:8080/"
        },
        "id": "qETHaMrHA3rU",
        "outputId": "506f45d1-db18-45c0-c6c5-9126a53a8ad1"
      },
      "execution_count": null,
      "outputs": [
        {
          "output_type": "stream",
          "name": "stderr",
          "text": [
            "Installing package into ‘/usr/local/lib/R/site-library’\n",
            "(as ‘lib’ is unspecified)\n",
            "\n",
            "also installing the dependencies ‘sm’, ‘zoo’\n",
            "\n",
            "\n"
          ]
        }
      ]
    },
    {
      "cell_type": "code",
      "source": [
        "library(vioplot)"
      ],
      "metadata": {
        "id": "V0OmgNb6BatM"
      },
      "execution_count": null,
      "outputs": []
    },
    {
      "cell_type": "markdown",
      "source": [
        "## Medidas de tendencia central"
      ],
      "metadata": {
        "id": "7SApjME73RYz"
      }
    },
    {
      "cell_type": "markdown",
      "source": [
        "### Variables numéricas"
      ],
      "metadata": {
        "id": "OAzKroXO3Yiy"
      }
    },
    {
      "cell_type": "code",
      "source": [
        "df[,\"age\"]"
      ],
      "metadata": {
        "colab": {
          "base_uri": "https://localhost:8080/",
          "height": 86
        },
        "id": "xJV1HYbU3UfB",
        "outputId": "75e57510-f1ac-4cad-a3f6-1a043a027fcd"
      },
      "execution_count": null,
      "outputs": [
        {
          "output_type": "display_data",
          "data": {
            "text/html": [
              "<style>\n",
              ".list-inline {list-style: none; margin:0; padding: 0}\n",
              ".list-inline>li {display: inline-block}\n",
              ".list-inline>li:not(:last-child)::after {content: \"\\00b7\"; padding: 0 .5ex}\n",
              "</style>\n",
              "<ol class=list-inline><li>61</li><li>59</li><li>78</li><li>57</li><li>58</li><li>59</li><li>63</li><li>75</li><li>76</li><li>78</li><li>63</li><li>78</li><li>75</li><li>76</li><li>51</li><li>66</li><li>58</li><li>58</li><li>76</li><li>72</li><li>78</li><li>75</li><li>38</li><li>65</li><li>79</li><li>76</li><li>71</li><li>79</li><li>64</li><li>79</li><li>78</li><li>80</li><li>77</li><li>61</li><li>79</li><li>74</li><li>76</li><li>74</li><li>71</li><li>34</li><li>76</li><li>63</li><li>61</li><li>54</li><li>40</li><li>48</li><li>61</li><li>31</li><li>43</li><li>52</li><li>77</li><li>71</li><li>35</li><li>23</li><li>40</li><li>23</li><li>71</li><li>73</li><li>51</li><li>35</li><li>73</li><li>46</li><li>71</li><li>54</li><li>80</li><li>49</li><li>72</li><li>25</li><li>27</li><li>51</li><li>48</li><li>61</li><li>25</li><li>30</li><li>71</li><li>47</li><li>76</li><li>29</li><li>48</li><li>57</li><li>58</li><li>45</li><li>66</li><li>59</li><li>34</li><li>69</li><li>66</li><li>48</li><li>32</li><li>60</li><li>30</li><li>60</li><li>20</li><li>77</li><li>67</li><li>42</li><li>60</li><li>35</li><li>50</li><li>19</li><li>77</li><li>67</li><li>20</li><li>49</li><li>77</li><li>52</li><li>43</li><li>69</li><li>34</li><li>78</li><li>76</li><li>62</li><li>71</li><li>79</li><li>79</li><li>54</li><li>73</li><li>38</li><li>72</li><li>50</li><li>29</li><li>75</li><li>68</li><li>33</li><li>63</li><li>56</li><li>70</li><li>71</li><li>73</li><li>67</li><li>62</li><li>38</li><li>47</li><li>42</li><li>58</li><li>44</li><li>42</li><li>78</li><li>68</li><li>39</li><li>60</li><li>31</li><li>67</li><li>52</li><li>53</li><li>33</li><li>53</li><li>49</li><li>52</li><li>41</li><li>34</li><li>45</li><li>61</li><li>37</li><li>32</li><li>79</li><li>75</li><li>79</li><li>69</li><li>31</li><li>82</li><li>32</li><li>18</li><li>59</li><li>20</li><li>78</li><li>52</li><li>65</li><li>59</li><li>78</li><li>70</li><li>70</li><li>37</li><li>72</li><li>58</li><li>31</li><li>41</li><li>40</li><li>45</li><li>40</li><li>80</li></ol>\n"
            ],
            "text/markdown": "1. 61\n2. 59\n3. 78\n4. 57\n5. 58\n6. 59\n7. 63\n8. 75\n9. 76\n10. 78\n11. 63\n12. 78\n13. 75\n14. 76\n15. 51\n16. 66\n17. 58\n18. 58\n19. 76\n20. 72\n21. 78\n22. 75\n23. 38\n24. 65\n25. 79\n26. 76\n27. 71\n28. 79\n29. 64\n30. 79\n31. 78\n32. 80\n33. 77\n34. 61\n35. 79\n36. 74\n37. 76\n38. 74\n39. 71\n40. 34\n41. 76\n42. 63\n43. 61\n44. 54\n45. 40\n46. 48\n47. 61\n48. 31\n49. 43\n50. 52\n51. 77\n52. 71\n53. 35\n54. 23\n55. 40\n56. 23\n57. 71\n58. 73\n59. 51\n60. 35\n61. 73\n62. 46\n63. 71\n64. 54\n65. 80\n66. 49\n67. 72\n68. 25\n69. 27\n70. 51\n71. 48\n72. 61\n73. 25\n74. 30\n75. 71\n76. 47\n77. 76\n78. 29\n79. 48\n80. 57\n81. 58\n82. 45\n83. 66\n84. 59\n85. 34\n86. 69\n87. 66\n88. 48\n89. 32\n90. 60\n91. 30\n92. 60\n93. 20\n94. 77\n95. 67\n96. 42\n97. 60\n98. 35\n99. 50\n100. 19\n101. 77\n102. 67\n103. 20\n104. 49\n105. 77\n106. 52\n107. 43\n108. 69\n109. 34\n110. 78\n111. 76\n112. 62\n113. 71\n114. 79\n115. 79\n116. 54\n117. 73\n118. 38\n119. 72\n120. 50\n121. 29\n122. 75\n123. 68\n124. 33\n125. 63\n126. 56\n127. 70\n128. 71\n129. 73\n130. 67\n131. 62\n132. 38\n133. 47\n134. 42\n135. 58\n136. 44\n137. 42\n138. 78\n139. 68\n140. 39\n141. 60\n142. 31\n143. 67\n144. 52\n145. 53\n146. 33\n147. 53\n148. 49\n149. 52\n150. 41\n151. 34\n152. 45\n153. 61\n154. 37\n155. 32\n156. 79\n157. 75\n158. 79\n159. 69\n160. 31\n161. 82\n162. 32\n163. 18\n164. 59\n165. 20\n166. 78\n167. 52\n168. 65\n169. 59\n170. 78\n171. 70\n172. 70\n173. 37\n174. 72\n175. 58\n176. 31\n177. 41\n178. 40\n179. 45\n180. 40\n181. 80\n\n\n",
            "text/latex": "\\begin{enumerate*}\n\\item 61\n\\item 59\n\\item 78\n\\item 57\n\\item 58\n\\item 59\n\\item 63\n\\item 75\n\\item 76\n\\item 78\n\\item 63\n\\item 78\n\\item 75\n\\item 76\n\\item 51\n\\item 66\n\\item 58\n\\item 58\n\\item 76\n\\item 72\n\\item 78\n\\item 75\n\\item 38\n\\item 65\n\\item 79\n\\item 76\n\\item 71\n\\item 79\n\\item 64\n\\item 79\n\\item 78\n\\item 80\n\\item 77\n\\item 61\n\\item 79\n\\item 74\n\\item 76\n\\item 74\n\\item 71\n\\item 34\n\\item 76\n\\item 63\n\\item 61\n\\item 54\n\\item 40\n\\item 48\n\\item 61\n\\item 31\n\\item 43\n\\item 52\n\\item 77\n\\item 71\n\\item 35\n\\item 23\n\\item 40\n\\item 23\n\\item 71\n\\item 73\n\\item 51\n\\item 35\n\\item 73\n\\item 46\n\\item 71\n\\item 54\n\\item 80\n\\item 49\n\\item 72\n\\item 25\n\\item 27\n\\item 51\n\\item 48\n\\item 61\n\\item 25\n\\item 30\n\\item 71\n\\item 47\n\\item 76\n\\item 29\n\\item 48\n\\item 57\n\\item 58\n\\item 45\n\\item 66\n\\item 59\n\\item 34\n\\item 69\n\\item 66\n\\item 48\n\\item 32\n\\item 60\n\\item 30\n\\item 60\n\\item 20\n\\item 77\n\\item 67\n\\item 42\n\\item 60\n\\item 35\n\\item 50\n\\item 19\n\\item 77\n\\item 67\n\\item 20\n\\item 49\n\\item 77\n\\item 52\n\\item 43\n\\item 69\n\\item 34\n\\item 78\n\\item 76\n\\item 62\n\\item 71\n\\item 79\n\\item 79\n\\item 54\n\\item 73\n\\item 38\n\\item 72\n\\item 50\n\\item 29\n\\item 75\n\\item 68\n\\item 33\n\\item 63\n\\item 56\n\\item 70\n\\item 71\n\\item 73\n\\item 67\n\\item 62\n\\item 38\n\\item 47\n\\item 42\n\\item 58\n\\item 44\n\\item 42\n\\item 78\n\\item 68\n\\item 39\n\\item 60\n\\item 31\n\\item 67\n\\item 52\n\\item 53\n\\item 33\n\\item 53\n\\item 49\n\\item 52\n\\item 41\n\\item 34\n\\item 45\n\\item 61\n\\item 37\n\\item 32\n\\item 79\n\\item 75\n\\item 79\n\\item 69\n\\item 31\n\\item 82\n\\item 32\n\\item 18\n\\item 59\n\\item 20\n\\item 78\n\\item 52\n\\item 65\n\\item 59\n\\item 78\n\\item 70\n\\item 70\n\\item 37\n\\item 72\n\\item 58\n\\item 31\n\\item 41\n\\item 40\n\\item 45\n\\item 40\n\\item 80\n\\end{enumerate*}\n",
            "text/plain": [
              "  [1] 61 59 78 57 58 59 63 75 76 78 63 78 75 76 51 66 58 58 76 72 78 75 38 65 79\n",
              " [26] 76 71 79 64 79 78 80 77 61 79 74 76 74 71 34 76 63 61 54 40 48 61 31 43 52\n",
              " [51] 77 71 35 23 40 23 71 73 51 35 73 46 71 54 80 49 72 25 27 51 48 61 25 30 71\n",
              " [76] 47 76 29 48 57 58 45 66 59 34 69 66 48 32 60 30 60 20 77 67 42 60 35 50 19\n",
              "[101] 77 67 20 49 77 52 43 69 34 78 76 62 71 79 79 54 73 38 72 50 29 75 68 33 63\n",
              "[126] 56 70 71 73 67 62 38 47 42 58 44 42 78 68 39 60 31 67 52 53 33 53 49 52 41\n",
              "[151] 34 45 61 37 32 79 75 79 69 31 82 32 18 59 20 78 52 65 59 78 70 70 37 72 58\n",
              "[176] 31 41 40 45 40 80"
            ]
          },
          "metadata": {}
        }
      ]
    },
    {
      "cell_type": "code",
      "source": [
        "hist(df[,\"age\"])"
      ],
      "metadata": {
        "colab": {
          "base_uri": "https://localhost:8080/",
          "height": 437
        },
        "id": "UsVCEcAU3erG",
        "outputId": "0156329e-0aee-4053-8d1d-d6a0fa308292"
      },
      "execution_count": null,
      "outputs": [
        {
          "output_type": "display_data",
          "data": {
            "text/plain": [
              "Plot with title “Histogram of df[, \"age\"]”"
            ],
            "image/png": "[encoded data removed]"
          },
          "metadata": {
            "image/png": {
              "width": 420,
              "height": 420
            }
          }
        }
      ]
    },
    {
      "cell_type": "code",
      "source": [
        "mean(df[,\"age\"])"
      ],
      "metadata": {
        "colab": {
          "base_uri": "https://localhost:8080/",
          "height": 34
        },
        "id": "HOar4m0Z3if5",
        "outputId": "b9385a00-6fc4-4d7d-96a7-9d152cea381f"
      },
      "execution_count": null,
      "outputs": [
        {
          "output_type": "display_data",
          "data": {
            "text/html": [
              "56.9779005524862"
            ],
            "text/markdown": "56.9779005524862",
            "text/latex": "56.9779005524862",
            "text/plain": [
              "[1] 56.9779"
            ]
          },
          "metadata": {}
        }
      ]
    },
    {
      "cell_type": "code",
      "source": [
        "median(df[,\"age\"])"
      ],
      "metadata": {
        "colab": {
          "base_uri": "https://localhost:8080/",
          "height": 34
        },
        "id": "6wBXNQyv3nBy",
        "outputId": "67e0053e-8237-4b00-8140-9bf5c1471f78"
      },
      "execution_count": null,
      "outputs": [
        {
          "output_type": "display_data",
          "data": {
            "text/html": [
              "60"
            ],
            "text/markdown": "60",
            "text/latex": "60",
            "text/plain": [
              "[1] 60"
            ]
          },
          "metadata": {}
        }
      ]
    },
    {
      "cell_type": "markdown",
      "source": [
        "hacer la estimacion para las otras variables numéricas"
      ],
      "metadata": {
        "id": "mcYHfRdq4oKl"
      }
    },
    {
      "cell_type": "markdown",
      "source": [
        "### Variables categóricas"
      ],
      "metadata": {
        "id": "gwlngJhd3wjW"
      }
    },
    {
      "cell_type": "code",
      "source": [
        "df[,\"stroke\"]"
      ],
      "metadata": {
        "colab": {
          "base_uri": "https://localhost:8080/",
          "height": 104
        },
        "id": "nuD9UkYT30vV",
        "outputId": "bb052db5-cb77-4301-b846-7677be174262"
      },
      "execution_count": null,
      "outputs": [
        {
          "output_type": "display_data",
          "data": {
            "text/html": [
              "<style>\n",
              ".list-inline {list-style: none; margin:0; padding: 0}\n",
              ".list-inline>li {display: inline-block}\n",
              ".list-inline>li:not(:last-child)::after {content: \"\\00b7\"; padding: 0 .5ex}\n",
              "</style>\n",
              "<ol class=list-inline><li>'Yes'</li><li>'Yes'</li><li>'Yes'</li><li>'Yes'</li><li>'Yes'</li><li>'Yes'</li><li>'Yes'</li><li>'Yes'</li><li>'Yes'</li><li>'Yes'</li><li>'Yes'</li><li>'Yes'</li><li>'Yes'</li><li>'Yes'</li><li>'Yes'</li><li>'Yes'</li><li>'Yes'</li><li>'Yes'</li><li>'Yes'</li><li>'Yes'</li><li>'Yes'</li><li>'Yes'</li><li>'Yes'</li><li>'Yes'</li><li>'Yes'</li><li>'Yes'</li><li>'Yes'</li><li>'Yes'</li><li>'Yes'</li><li>'Yes'</li><li>'Yes'</li><li>'Yes'</li><li>'Yes'</li><li>'Yes'</li><li>'Yes'</li><li>'Yes'</li><li>'Yes'</li><li>'Yes'</li><li>'Yes'</li><li>'No'</li><li>'No'</li><li>'No'</li><li>'No'</li><li>'No'</li><li>'No'</li><li>'No'</li><li>'No'</li><li>'No'</li><li>'No'</li><li>'No'</li><li>'No'</li><li>'No'</li><li>'No'</li><li>'No'</li><li>'No'</li><li>'No'</li><li>'No'</li><li>'No'</li><li>'No'</li><li>'No'</li><li>'No'</li><li>'No'</li><li>'No'</li><li>'No'</li><li>'No'</li><li>'No'</li><li>'No'</li><li>'No'</li><li>'No'</li><li>'No'</li><li>'No'</li><li>'No'</li><li>'No'</li><li>'No'</li><li>'No'</li><li>'No'</li><li>'No'</li><li>'No'</li><li>'No'</li><li>'No'</li><li>'No'</li><li>'No'</li><li>'No'</li><li>'No'</li><li>'No'</li><li>'No'</li><li>'No'</li><li>'No'</li><li>'No'</li><li>'No'</li><li>'No'</li><li>'No'</li><li>'No'</li><li>'No'</li><li>'No'</li><li>'No'</li><li>'No'</li><li>'No'</li><li>'No'</li><li>'No'</li><li>'No'</li><li>'No'</li><li>'No'</li><li>'No'</li><li>'No'</li><li>'No'</li><li>'No'</li><li>'No'</li><li>'No'</li><li>'No'</li><li>'No'</li><li>'No'</li><li>'No'</li><li>'No'</li><li>'No'</li><li>'No'</li><li>'No'</li><li>'No'</li><li>'No'</li><li>'No'</li><li>'No'</li><li>'No'</li><li>'No'</li><li>'No'</li><li>'No'</li><li>'No'</li><li>'No'</li><li>'No'</li><li>'No'</li><li>'No'</li><li>'No'</li><li>'No'</li><li>'No'</li><li>'No'</li><li>'No'</li><li>'No'</li><li>'No'</li><li>'No'</li><li>'No'</li><li>'No'</li><li>'No'</li><li>'No'</li><li>'No'</li><li>'No'</li><li>'No'</li><li>'No'</li><li>'No'</li><li>'No'</li><li>'No'</li><li>'No'</li><li>'No'</li><li>'No'</li><li>'No'</li><li>'No'</li><li>'No'</li><li>'No'</li><li>'No'</li><li>'No'</li><li>'No'</li><li>'No'</li><li>'No'</li><li>'No'</li><li>'No'</li><li>'No'</li><li>'No'</li><li>'No'</li><li>'No'</li><li>'No'</li><li>'No'</li><li>'No'</li><li>'No'</li><li>'No'</li><li>'No'</li><li>'No'</li><li>'No'</li><li>'No'</li><li>'No'</li><li>'No'</li><li>'No'</li><li>'No'</li><li>'No'</li></ol>\n"
            ],
            "text/markdown": "1. 'Yes'\n2. 'Yes'\n3. 'Yes'\n4. 'Yes'\n5. 'Yes'\n6. 'Yes'\n7. 'Yes'\n8. 'Yes'\n9. 'Yes'\n10. 'Yes'\n11. 'Yes'\n12. 'Yes'\n13. 'Yes'\n14. 'Yes'\n15. 'Yes'\n16. 'Yes'\n17. 'Yes'\n18. 'Yes'\n19. 'Yes'\n20. 'Yes'\n21. 'Yes'\n22. 'Yes'\n23. 'Yes'\n24. 'Yes'\n25. 'Yes'\n26. 'Yes'\n27. 'Yes'\n28. 'Yes'\n29. 'Yes'\n30. 'Yes'\n31. 'Yes'\n32. 'Yes'\n33. 'Yes'\n34. 'Yes'\n35. 'Yes'\n36. 'Yes'\n37. 'Yes'\n38. 'Yes'\n39. 'Yes'\n40. 'No'\n41. 'No'\n42. 'No'\n43. 'No'\n44. 'No'\n45. 'No'\n46. 'No'\n47. 'No'\n48. 'No'\n49. 'No'\n50. 'No'\n51. 'No'\n52. 'No'\n53. 'No'\n54. 'No'\n55. 'No'\n56. 'No'\n57. 'No'\n58. 'No'\n59. 'No'\n60. 'No'\n61. 'No'\n62. 'No'\n63. 'No'\n64. 'No'\n65. 'No'\n66. 'No'\n67. 'No'\n68. 'No'\n69. 'No'\n70. 'No'\n71. 'No'\n72. 'No'\n73. 'No'\n74. 'No'\n75. 'No'\n76. 'No'\n77. 'No'\n78. 'No'\n79. 'No'\n80. 'No'\n81. 'No'\n82. 'No'\n83. 'No'\n84. 'No'\n85. 'No'\n86. 'No'\n87. 'No'\n88. 'No'\n89. 'No'\n90. 'No'\n91. 'No'\n92. 'No'\n93. 'No'\n94. 'No'\n95. 'No'\n96. 'No'\n97. 'No'\n98. 'No'\n99. 'No'\n100. 'No'\n101. 'No'\n102. 'No'\n103. 'No'\n104. 'No'\n105. 'No'\n106. 'No'\n107. 'No'\n108. 'No'\n109. 'No'\n110. 'No'\n111. 'No'\n112. 'No'\n113. 'No'\n114. 'No'\n115. 'No'\n116. 'No'\n117. 'No'\n118. 'No'\n119. 'No'\n120. 'No'\n121. 'No'\n122. 'No'\n123. 'No'\n124. 'No'\n125. 'No'\n126. 'No'\n127. 'No'\n128. 'No'\n129. 'No'\n130. 'No'\n131. 'No'\n132. 'No'\n133. 'No'\n134. 'No'\n135. 'No'\n136. 'No'\n137. 'No'\n138. 'No'\n139. 'No'\n140. 'No'\n141. 'No'\n142. 'No'\n143. 'No'\n144. 'No'\n145. 'No'\n146. 'No'\n147. 'No'\n148. 'No'\n149. 'No'\n150. 'No'\n151. 'No'\n152. 'No'\n153. 'No'\n154. 'No'\n155. 'No'\n156. 'No'\n157. 'No'\n158. 'No'\n159. 'No'\n160. 'No'\n161. 'No'\n162. 'No'\n163. 'No'\n164. 'No'\n165. 'No'\n166. 'No'\n167. 'No'\n168. 'No'\n169. 'No'\n170. 'No'\n171. 'No'\n172. 'No'\n173. 'No'\n174. 'No'\n175. 'No'\n176. 'No'\n177. 'No'\n178. 'No'\n179. 'No'\n180. 'No'\n181. 'No'\n\n\n",
            "text/latex": "\\begin{enumerate*}\n\\item 'Yes'\n\\item 'Yes'\n\\item 'Yes'\n\\item 'Yes'\n\\item 'Yes'\n\\item 'Yes'\n\\item 'Yes'\n\\item 'Yes'\n\\item 'Yes'\n\\item 'Yes'\n\\item 'Yes'\n\\item 'Yes'\n\\item 'Yes'\n\\item 'Yes'\n\\item 'Yes'\n\\item 'Yes'\n\\item 'Yes'\n\\item 'Yes'\n\\item 'Yes'\n\\item 'Yes'\n\\item 'Yes'\n\\item 'Yes'\n\\item 'Yes'\n\\item 'Yes'\n\\item 'Yes'\n\\item 'Yes'\n\\item 'Yes'\n\\item 'Yes'\n\\item 'Yes'\n\\item 'Yes'\n\\item 'Yes'\n\\item 'Yes'\n\\item 'Yes'\n\\item 'Yes'\n\\item 'Yes'\n\\item 'Yes'\n\\item 'Yes'\n\\item 'Yes'\n\\item 'Yes'\n\\item 'No'\n\\item 'No'\n\\item 'No'\n\\item 'No'\n\\item 'No'\n\\item 'No'\n\\item 'No'\n\\item 'No'\n\\item 'No'\n\\item 'No'\n\\item 'No'\n\\item 'No'\n\\item 'No'\n\\item 'No'\n\\item 'No'\n\\item 'No'\n\\item 'No'\n\\item 'No'\n\\item 'No'\n\\item 'No'\n\\item 'No'\n\\item 'No'\n\\item 'No'\n\\item 'No'\n\\item 'No'\n\\item 'No'\n\\item 'No'\n\\item 'No'\n\\item 'No'\n\\item 'No'\n\\item 'No'\n\\item 'No'\n\\item 'No'\n\\item 'No'\n\\item 'No'\n\\item 'No'\n\\item 'No'\n\\item 'No'\n\\item 'No'\n\\item 'No'\n\\item 'No'\n\\item 'No'\n\\item 'No'\n\\item 'No'\n\\item 'No'\n\\item 'No'\n\\item 'No'\n\\item 'No'\n\\item 'No'\n\\item 'No'\n\\item 'No'\n\\item 'No'\n\\item 'No'\n\\item 'No'\n\\item 'No'\n\\item 'No'\n\\item 'No'\n\\item 'No'\n\\item 'No'\n\\item 'No'\n\\item 'No'\n\\item 'No'\n\\item 'No'\n\\item 'No'\n\\item 'No'\n\\item 'No'\n\\item 'No'\n\\item 'No'\n\\item 'No'\n\\item 'No'\n\\item 'No'\n\\item 'No'\n\\item 'No'\n\\item 'No'\n\\item 'No'\n\\item 'No'\n\\item 'No'\n\\item 'No'\n\\item 'No'\n\\item 'No'\n\\item 'No'\n\\item 'No'\n\\item 'No'\n\\item 'No'\n\\item 'No'\n\\item 'No'\n\\item 'No'\n\\item 'No'\n\\item 'No'\n\\item 'No'\n\\item 'No'\n\\item 'No'\n\\item 'No'\n\\item 'No'\n\\item 'No'\n\\item 'No'\n\\item 'No'\n\\item 'No'\n\\item 'No'\n\\item 'No'\n\\item 'No'\n\\item 'No'\n\\item 'No'\n\\item 'No'\n\\item 'No'\n\\item 'No'\n\\item 'No'\n\\item 'No'\n\\item 'No'\n\\item 'No'\n\\item 'No'\n\\item 'No'\n\\item 'No'\n\\item 'No'\n\\item 'No'\n\\item 'No'\n\\item 'No'\n\\item 'No'\n\\item 'No'\n\\item 'No'\n\\item 'No'\n\\item 'No'\n\\item 'No'\n\\item 'No'\n\\item 'No'\n\\item 'No'\n\\item 'No'\n\\item 'No'\n\\item 'No'\n\\item 'No'\n\\item 'No'\n\\item 'No'\n\\item 'No'\n\\item 'No'\n\\item 'No'\n\\item 'No'\n\\item 'No'\n\\item 'No'\n\\item 'No'\n\\item 'No'\n\\item 'No'\n\\item 'No'\n\\end{enumerate*}\n",
            "text/plain": [
              "  [1] \"Yes\" \"Yes\" \"Yes\" \"Yes\" \"Yes\" \"Yes\" \"Yes\" \"Yes\" \"Yes\" \"Yes\" \"Yes\" \"Yes\"\n",
              " [13] \"Yes\" \"Yes\" \"Yes\" \"Yes\" \"Yes\" \"Yes\" \"Yes\" \"Yes\" \"Yes\" \"Yes\" \"Yes\" \"Yes\"\n",
              " [25] \"Yes\" \"Yes\" \"Yes\" \"Yes\" \"Yes\" \"Yes\" \"Yes\" \"Yes\" \"Yes\" \"Yes\" \"Yes\" \"Yes\"\n",
              " [37] \"Yes\" \"Yes\" \"Yes\" \"No\"  \"No\"  \"No\"  \"No\"  \"No\"  \"No\"  \"No\"  \"No\"  \"No\" \n",
              " [49] \"No\"  \"No\"  \"No\"  \"No\"  \"No\"  \"No\"  \"No\"  \"No\"  \"No\"  \"No\"  \"No\"  \"No\" \n",
              " [61] \"No\"  \"No\"  \"No\"  \"No\"  \"No\"  \"No\"  \"No\"  \"No\"  \"No\"  \"No\"  \"No\"  \"No\" \n",
              " [73] \"No\"  \"No\"  \"No\"  \"No\"  \"No\"  \"No\"  \"No\"  \"No\"  \"No\"  \"No\"  \"No\"  \"No\" \n",
              " [85] \"No\"  \"No\"  \"No\"  \"No\"  \"No\"  \"No\"  \"No\"  \"No\"  \"No\"  \"No\"  \"No\"  \"No\" \n",
              " [97] \"No\"  \"No\"  \"No\"  \"No\"  \"No\"  \"No\"  \"No\"  \"No\"  \"No\"  \"No\"  \"No\"  \"No\" \n",
              "[109] \"No\"  \"No\"  \"No\"  \"No\"  \"No\"  \"No\"  \"No\"  \"No\"  \"No\"  \"No\"  \"No\"  \"No\" \n",
              "[121] \"No\"  \"No\"  \"No\"  \"No\"  \"No\"  \"No\"  \"No\"  \"No\"  \"No\"  \"No\"  \"No\"  \"No\" \n",
              "[133] \"No\"  \"No\"  \"No\"  \"No\"  \"No\"  \"No\"  \"No\"  \"No\"  \"No\"  \"No\"  \"No\"  \"No\" \n",
              "[145] \"No\"  \"No\"  \"No\"  \"No\"  \"No\"  \"No\"  \"No\"  \"No\"  \"No\"  \"No\"  \"No\"  \"No\" \n",
              "[157] \"No\"  \"No\"  \"No\"  \"No\"  \"No\"  \"No\"  \"No\"  \"No\"  \"No\"  \"No\"  \"No\"  \"No\" \n",
              "[169] \"No\"  \"No\"  \"No\"  \"No\"  \"No\"  \"No\"  \"No\"  \"No\"  \"No\"  \"No\"  \"No\"  \"No\" \n",
              "[181] \"No\" "
            ]
          },
          "metadata": {}
        }
      ]
    },
    {
      "cell_type": "code",
      "source": [
        "table(df[,\"stroke\"])"
      ],
      "metadata": {
        "colab": {
          "base_uri": "https://localhost:8080/",
          "height": 69
        },
        "id": "2HuhIsX736oz",
        "outputId": "e3fb4518-6239-4690-a62c-f80c0501bc8a"
      },
      "execution_count": null,
      "outputs": [
        {
          "output_type": "display_data",
          "data": {
            "text/plain": [
              "\n",
              " No Yes \n",
              "142  39 "
            ]
          },
          "metadata": {}
        }
      ]
    },
    {
      "cell_type": "code",
      "source": [
        "prop.table(table(df[,\"stroke\"]))"
      ],
      "metadata": {
        "colab": {
          "base_uri": "https://localhost:8080/",
          "height": 69
        },
        "id": "mLbFC9hg5dVn",
        "outputId": "c5da0f1d-37e7-48d5-c270-4e3aaea1694a"
      },
      "execution_count": null,
      "outputs": [
        {
          "output_type": "display_data",
          "data": {
            "text/plain": [
              "\n",
              "       No       Yes \n",
              "0.7845304 0.2154696 "
            ]
          },
          "metadata": {}
        }
      ]
    },
    {
      "cell_type": "markdown",
      "source": [
        "Hacer la estimación para las otras variables categóricas"
      ],
      "metadata": {
        "id": "98e1KgPO4t2j"
      }
    },
    {
      "cell_type": "markdown",
      "source": [
        "## Medidas de disperción"
      ],
      "metadata": {
        "id": "j8i8oUp34zi8"
      }
    },
    {
      "cell_type": "code",
      "source": [
        "range(df[,\"age\"])"
      ],
      "metadata": {
        "colab": {
          "base_uri": "https://localhost:8080/",
          "height": 34
        },
        "id": "a-7KIg7o48LA",
        "outputId": "b3fedc38-c3e1-4b3c-c645-abc12fe8aa3a"
      },
      "execution_count": null,
      "outputs": [
        {
          "output_type": "display_data",
          "data": {
            "text/html": [
              "<style>\n",
              ".list-inline {list-style: none; margin:0; padding: 0}\n",
              ".list-inline>li {display: inline-block}\n",
              ".list-inline>li:not(:last-child)::after {content: \"\\00b7\"; padding: 0 .5ex}\n",
              "</style>\n",
              "<ol class=list-inline><li>18</li><li>82</li></ol>\n"
            ],
            "text/markdown": "1. 18\n2. 82\n\n\n",
            "text/latex": "\\begin{enumerate*}\n\\item 18\n\\item 82\n\\end{enumerate*}\n",
            "text/plain": [
              "[1] 18 82"
            ]
          },
          "metadata": {}
        }
      ]
    },
    {
      "cell_type": "code",
      "source": [
        "sd(df[,\"age\"])"
      ],
      "metadata": {
        "colab": {
          "base_uri": "https://localhost:8080/",
          "height": 34
        },
        "id": "2SmM2WaH42ZZ",
        "outputId": "46f4327b-b8ec-4fa6-c80c-293a0e0e5b56"
      },
      "execution_count": null,
      "outputs": [
        {
          "output_type": "display_data",
          "data": {
            "text/html": [
              "17.3864429309176"
            ],
            "text/markdown": "17.3864429309176",
            "text/latex": "17.3864429309176",
            "text/plain": [
              "[1] 17.38644"
            ]
          },
          "metadata": {}
        }
      ]
    },
    {
      "cell_type": "code",
      "source": [
        "var(df[,\"age\"])"
      ],
      "metadata": {
        "colab": {
          "base_uri": "https://localhost:8080/",
          "height": 34
        },
        "id": "FlykJVab46AU",
        "outputId": "2056220a-2846-459e-8e4d-862b27c7d287"
      },
      "execution_count": null,
      "outputs": [
        {
          "output_type": "display_data",
          "data": {
            "text/html": [
              "302.288397790055"
            ],
            "text/markdown": "302.288397790055",
            "text/latex": "302.288397790055",
            "text/plain": [
              "[1] 302.2884"
            ]
          },
          "metadata": {}
        }
      ]
    },
    {
      "cell_type": "code",
      "source": [
        "(sd(df[,\"age\"])/mean(df[,\"age\"]))*100"
      ],
      "metadata": {
        "colab": {
          "base_uri": "https://localhost:8080/",
          "height": 34
        },
        "id": "1902_h0l5l4w",
        "outputId": "07efca2e-9377-40e7-bbdd-1c5f7f99c937"
      },
      "execution_count": null,
      "outputs": [
        {
          "output_type": "display_data",
          "data": {
            "text/html": [
              "30.514362169069"
            ],
            "text/markdown": "30.514362169069",
            "text/latex": "30.514362169069",
            "text/plain": [
              "[1] 30.51436"
            ]
          },
          "metadata": {}
        }
      ]
    },
    {
      "cell_type": "markdown",
      "source": [
        "### Medidas de posicion"
      ],
      "metadata": {
        "id": "okkxyoh-5xxJ"
      }
    },
    {
      "cell_type": "code",
      "source": [
        "set.seed(103)\n",
        "num_data <- rnorm(n=60, mean=20,sd=6)\n",
        "num_data"
      ],
      "metadata": {
        "colab": {
          "base_uri": "https://localhost:8080/",
          "height": 173
        },
        "id": "jKfVRfpDAI45",
        "outputId": "c44cf590-7fa7-4a9f-c0cf-4ea5c192e102"
      },
      "execution_count": 2,
      "outputs": [
        {
          "output_type": "display_data",
          "data": {
            "text/html": [
              "<style>\n",
              ".list-inline {list-style: none; margin:0; padding: 0}\n",
              ".list-inline>li {display: inline-block}\n",
              ".list-inline>li:not(:last-child)::after {content: \"\\00b7\"; padding: 0 .5ex}\n",
              "</style>\n",
              "<ol class=list-inline><li>15.2841609416105</li><li>20.328433426758</li><li>12.9646379760731</li><li>18.9961232104114</li><li>8.80981049918827</li><li>19.2773585253781</li><li>24.9558723403368</li><li>27.1409572197362</li><li>13.451288775438</li><li>17.7493256041781</li><li>14.4066809765733</li><li>20.1993036967963</li><li>20.7327182598926</li><li>35.4783837707001</li><li>18.3829987783802</li><li>14.6701926277283</li><li>22.7553181573074</li><li>20.6922661818061</li><li>18.6118086887573</li><li>24.7540001154275</li><li>25.5715038397795</li><li>21.5712347132697</li><li>18.527095222447</li><li>11.138706443844</li><li>12.859853460176</li><li>24.4499897477947</li><li>16.9528133219963</li><li>27.1172736998164</li><li>25.7158183205013</li><li>20.8081237101329</li><li>13.8359066537132</li><li>24.1783257812905</li><li>23.5600503633404</li><li>22.6103968293119</li><li>19.9354865854587</li><li>16.2085603272563</li><li>22.0472120657799</li><li>27.6266798013039</li><li>7.12961003761416</li><li>21.5599726761765</li><li>21.9013398340678</li><li>26.2662989977112</li><li>20.7807631383814</li><li>17.1678907938073</li><li>21.2112110211036</li><li>19.7045271507071</li><li>26.4425206288266</li><li>20.4916113729472</li><li>14.0036193482646</li><li>22.9035597473606</li><li>19.0778429017287</li><li>12.0363193541723</li><li>25.5952748882272</li><li>21.6565872379529</li><li>25.1205633351878</li><li>17.2006748802698</li><li>17.2913809741787</li><li>21.8445890379872</li><li>30.4260991549738</li><li>19.1436483136629</li></ol>\n"
            ],
            "text/markdown": "1. 15.2841609416105\n2. 20.328433426758\n3. 12.9646379760731\n4. 18.9961232104114\n5. 8.80981049918827\n6. 19.2773585253781\n7. 24.9558723403368\n8. 27.1409572197362\n9. 13.451288775438\n10. 17.7493256041781\n11. 14.4066809765733\n12. 20.1993036967963\n13. 20.7327182598926\n14. 35.4783837707001\n15. 18.3829987783802\n16. 14.6701926277283\n17. 22.7553181573074\n18. 20.6922661818061\n19. 18.6118086887573\n20. 24.7540001154275\n21. 25.5715038397795\n22. 21.5712347132697\n23. 18.527095222447\n24. 11.138706443844\n25. 12.859853460176\n26. 24.4499897477947\n27. 16.9528133219963\n28. 27.1172736998164\n29. 25.7158183205013\n30. 20.8081237101329\n31. 13.8359066537132\n32. 24.1783257812905\n33. 23.5600503633404\n34. 22.6103968293119\n35. 19.9354865854587\n36. 16.2085603272563\n37. 22.0472120657799\n38. 27.6266798013039\n39. 7.12961003761416\n40. 21.5599726761765\n41. 21.9013398340678\n42. 26.2662989977112\n43. 20.7807631383814\n44. 17.1678907938073\n45. 21.2112110211036\n46. 19.7045271507071\n47. 26.4425206288266\n48. 20.4916113729472\n49. 14.0036193482646\n50. 22.9035597473606\n51. 19.0778429017287\n52. 12.0363193541723\n53. 25.5952748882272\n54. 21.6565872379529\n55. 25.1205633351878\n56. 17.2006748802698\n57. 17.2913809741787\n58. 21.8445890379872\n59. 30.4260991549738\n60. 19.1436483136629\n\n\n",
            "text/latex": "\\begin{enumerate*}\n\\item 15.2841609416105\n\\item 20.328433426758\n\\item 12.9646379760731\n\\item 18.9961232104114\n\\item 8.80981049918827\n\\item 19.2773585253781\n\\item 24.9558723403368\n\\item 27.1409572197362\n\\item 13.451288775438\n\\item 17.7493256041781\n\\item 14.4066809765733\n\\item 20.1993036967963\n\\item 20.7327182598926\n\\item 35.4783837707001\n\\item 18.3829987783802\n\\item 14.6701926277283\n\\item 22.7553181573074\n\\item 20.6922661818061\n\\item 18.6118086887573\n\\item 24.7540001154275\n\\item 25.5715038397795\n\\item 21.5712347132697\n\\item 18.527095222447\n\\item 11.138706443844\n\\item 12.859853460176\n\\item 24.4499897477947\n\\item 16.9528133219963\n\\item 27.1172736998164\n\\item 25.7158183205013\n\\item 20.8081237101329\n\\item 13.8359066537132\n\\item 24.1783257812905\n\\item 23.5600503633404\n\\item 22.6103968293119\n\\item 19.9354865854587\n\\item 16.2085603272563\n\\item 22.0472120657799\n\\item 27.6266798013039\n\\item 7.12961003761416\n\\item 21.5599726761765\n\\item 21.9013398340678\n\\item 26.2662989977112\n\\item 20.7807631383814\n\\item 17.1678907938073\n\\item 21.2112110211036\n\\item 19.7045271507071\n\\item 26.4425206288266\n\\item 20.4916113729472\n\\item 14.0036193482646\n\\item 22.9035597473606\n\\item 19.0778429017287\n\\item 12.0363193541723\n\\item 25.5952748882272\n\\item 21.6565872379529\n\\item 25.1205633351878\n\\item 17.2006748802698\n\\item 17.2913809741787\n\\item 21.8445890379872\n\\item 30.4260991549738\n\\item 19.1436483136629\n\\end{enumerate*}\n",
            "text/plain": [
              " [1] 15.28416 20.32843 12.96464 18.99612  8.80981 19.27736 24.95587 27.14096\n",
              " [9] 13.45129 17.74933 14.40668 20.19930 20.73272 35.47838 18.38300 14.67019\n",
              "[17] 22.75532 20.69227 18.61181 24.75400 25.57150 21.57123 18.52710 11.13871\n",
              "[25] 12.85985 24.44999 16.95281 27.11727 25.71582 20.80812 13.83591 24.17833\n",
              "[33] 23.56005 22.61040 19.93549 16.20856 22.04721 27.62668  7.12961 21.55997\n",
              "[41] 21.90134 26.26630 20.78076 17.16789 21.21121 19.70453 26.44252 20.49161\n",
              "[49] 14.00362 22.90356 19.07784 12.03632 25.59527 21.65659 25.12056 17.20067\n",
              "[57] 17.29138 21.84459 30.42610 19.14365"
            ]
          },
          "metadata": {}
        }
      ]
    },
    {
      "cell_type": "code",
      "source": [
        "quantile(num_data)"
      ],
      "metadata": {
        "colab": {
          "base_uri": "https://localhost:8080/",
          "height": 34
        },
        "id": "FVCI6Ikq51fY",
        "outputId": "39880e22-ba75-48fa-ded9-7f1c8b45434a"
      },
      "execution_count": null,
      "outputs": [
        {
          "output_type": "display_data",
          "data": {
            "text/html": [
              "<style>\n",
              ".dl-inline {width: auto; margin:0; padding: 0}\n",
              ".dl-inline>dt, .dl-inline>dd {float: none; width: auto; display: inline-block}\n",
              ".dl-inline>dt::after {content: \":\\0020\"; padding-right: .5ex}\n",
              ".dl-inline>dt:not(:first-of-type) {padding-left: .5ex}\n",
              "</style><dl class=dl-inline><dt>0%</dt><dd>7.12961003761416</dd><dt>25%</dt><dd>17.1924788586541</dd><dt>50%</dt><dd>20.5919387773767</dd><dt>75%</dt><dd>23.7146192178279</dd><dt>100%</dt><dd>35.4783837707001</dd></dl>\n"
            ],
            "text/markdown": "0%\n:   7.1296100376141625%\n:   17.192478858654150%\n:   20.591938777376775%\n:   23.7146192178279100%\n:   35.4783837707001\n\n",
            "text/latex": "\\begin{description*}\n\\item[0\\textbackslash{}\\%] 7.12961003761416\n\\item[25\\textbackslash{}\\%] 17.1924788586541\n\\item[50\\textbackslash{}\\%] 20.5919387773767\n\\item[75\\textbackslash{}\\%] 23.7146192178279\n\\item[100\\textbackslash{}\\%] 35.4783837707001\n\\end{description*}\n",
            "text/plain": [
              "      0%      25%      50%      75%     100% \n",
              " 7.12961 17.19248 20.59194 23.71462 35.47838 "
            ]
          },
          "metadata": {}
        }
      ]
    },
    {
      "cell_type": "code",
      "source": [
        "options(repr.plot.width = 15, repr.plot.height = 10)\n",
        "par(mfrow=c(3,1))\n",
        "hist(num_data)\n",
        "boxplot(num_data,horizontal = T)\n",
        "vioplot(num_data,horizontal=T)"
      ],
      "metadata": {
        "colab": {
          "base_uri": "https://localhost:8080/",
          "height": 617
        },
        "id": "CBskw7pz56Q3",
        "outputId": "02353943-6055-483c-cbfa-926364112c5c"
      },
      "execution_count": null,
      "outputs": [
        {
          "output_type": "display_data",
          "data": {
            "text/plain": [
              "Plot with title “”"
            ],
            "image/png": "[encoded data removed]"
          },
          "metadata": {
            "image/png": {
              "width": 900,
              "height": 600
            }
          }
        }
      ]
    },
    {
      "cell_type": "code",
      "source": [
        "par(mfrow=c(2,1))\n",
        "mu<-2\n",
        "si<-0.6\n",
        "bimodal<-c(rnorm(1000,-mu,si),rnorm(1000,mu,si))\n",
        "uniform<-runif(2000,-4,4)\n",
        "normal<-rnorm(2000,0,3)\n",
        "vioplot(bimodal,uniform,normal)\n",
        "boxplot(bimodal,uniform,normal)"
      ],
      "metadata": {
        "id": "M7NbauoqEBf5",
        "outputId": "5a61da4f-520c-4f89-dad0-816365e59b85",
        "colab": {
          "base_uri": "https://localhost:8080/",
          "height": 617
        }
      },
      "execution_count": null,
      "outputs": [
        {
          "output_type": "display_data",
          "data": {
            "text/plain": [
              "Plot with title “”"
            ],
            "image/png": "[encoded data removed]"
          },
          "metadata": {
            "image/png": {
              "width": 900,
              "height": 600
            }
          }
        }
      ]
    },
    {
      "cell_type": "markdown",
      "source": [
        "## Valores atípicos"
      ],
      "metadata": {
        "id": "BcrEeoCJ67zS"
      }
    },
    {
      "cell_type": "code",
      "source": [
        "avg_glucose_level\tbmi"
      ],
      "metadata": {
        "id": "LFkK3xfE6-i6"
      },
      "execution_count": null,
      "outputs": []
    },
    {
      "cell_type": "code",
      "source": [
        "boxplot(bmi~smoking_status,data=df)"
      ],
      "metadata": {
        "colab": {
          "base_uri": "https://localhost:8080/",
          "height": 317
        },
        "id": "ty7owzMf7FUy",
        "outputId": "886f7872-f76f-4ac2-f0b0-2788130195c2"
      },
      "execution_count": null,
      "outputs": [
        {
          "output_type": "display_data",
          "data": {
            "text/plain": [
              "plot without title"
            ],
            "image/png": "[encoded data removed]"
          },
          "metadata": {
            "image/png": {
              "width": 720,
              "height": 300
            }
          }
        }
      ]
    },
    {
      "cell_type": "code",
      "source": [
        "boxplot(avg_glucose_level~smoking_status,data=df)"
      ],
      "metadata": {
        "colab": {
          "base_uri": "https://localhost:8080/",
          "height": 317
        },
        "id": "F4SzsdPq7QcK",
        "outputId": "7eafc977-604b-4c60-e300-6bae1e86c6e3"
      },
      "execution_count": null,
      "outputs": [
        {
          "output_type": "display_data",
          "data": {
            "text/plain": [
              "plot without title"
            ],
            "image/png": "[encoded data removed]"
          },
          "metadata": {
            "image/png": {
              "width": 720,
              "height": 300
            }
          }
        }
      ]
    }
  ]
}