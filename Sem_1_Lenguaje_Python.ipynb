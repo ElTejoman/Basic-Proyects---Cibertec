{
  "cells": [
    {
      "cell_type": "markdown",
      "metadata": {
        "id": "view-in-github",
        "colab_type": "text"
      },
      "source": [
        "<a href=\"https://colab.research.google.com/github/ElTejoman/Basic-Proyects---Cibertec/blob/main/Sem_1_Lenguaje_Python.ipynb\" target=\"_parent\"><img src=\"https://colab.research.google.com/assets/colab-badge.svg\" alt=\"Open In Colab\"/></a>"
      ]
    },
    {
      "cell_type": "markdown",
      "source": [
        "\n",
        "\n",
        "```\n",
        "# Tiene formato de código\n",
        "```\n",
        "\n",
        "# Titulo\n",
        "\n"
      ],
      "metadata": {
        "id": "LenzcyP2LY-d"
      }
    },
    {
      "cell_type": "code",
      "source": [
        "!ls"
      ],
      "metadata": {
        "colab": {
          "base_uri": "https://localhost:8080/"
        },
        "id": "cUNgqumFMlJa",
        "outputId": "a5631811-0c37-43bc-f04f-f3aa7f74535c"
      },
      "execution_count": 1,
      "outputs": [
        {
          "output_type": "stream",
          "name": "stdout",
          "text": [
            "sample_data\n"
          ]
        }
      ]
    },
    {
      "cell_type": "markdown",
      "source": [
        "# Google Colab"
      ],
      "metadata": {
        "id": "sTm6Xe5J14mv"
      }
    },
    {
      "cell_type": "markdown",
      "source": [
        "## Fórmulas matemáticas\n",
        "$$ \\mu = \\frac{\\sum_{i=1}^n{x_i}}{n}$$"
      ],
      "metadata": {
        "id": "F4pbwFcmBVyh"
      }
    },
    {
      "cell_type": "markdown",
      "source": [
        "## Ejecución de código en la terminal linux"
      ],
      "metadata": {
        "id": "hsXCqxqX3_oe"
      }
    },
    {
      "cell_type": "code",
      "source": [
        "!pwd"
      ],
      "metadata": {
        "colab": {
          "base_uri": "https://localhost:8080/"
        },
        "id": "exoLFCM94H0m",
        "outputId": "305144b1-1ad4-49dc-e574-fe87ba7e2149"
      },
      "execution_count": null,
      "outputs": [
        {
          "output_type": "stream",
          "name": "stdout",
          "text": [
            "/content\n"
          ]
        }
      ]
    },
    {
      "cell_type": "code",
      "source": [
        "!ls"
      ],
      "metadata": {
        "colab": {
          "base_uri": "https://localhost:8080/"
        },
        "id": "781SPlA44J9G",
        "outputId": "aad5c640-8451-46e7-83bd-dbe7c485683d"
      },
      "execution_count": 2,
      "outputs": [
        {
          "output_type": "stream",
          "name": "stdout",
          "text": [
            "sample_data\n"
          ]
        }
      ]
    },
    {
      "cell_type": "code",
      "source": [
        "!mkdir prueba"
      ],
      "metadata": {
        "id": "QRtLgEvT4LYD"
      },
      "execution_count": null,
      "outputs": []
    },
    {
      "cell_type": "code",
      "source": [
        "!ls"
      ],
      "metadata": {
        "colab": {
          "base_uri": "https://localhost:8080/"
        },
        "id": "TroNEagd4PF5",
        "outputId": "26ef73d0-6a5b-48d8-f5b3-dc8ef68a1900"
      },
      "execution_count": null,
      "outputs": [
        {
          "output_type": "stream",
          "name": "stdout",
          "text": [
            "drive  prueba  sample_data\n"
          ]
        }
      ]
    },
    {
      "cell_type": "code",
      "source": [
        "!rm -r prueba; ls"
      ],
      "metadata": {
        "colab": {
          "base_uri": "https://localhost:8080/"
        },
        "id": "5gJZW8M74QWp",
        "outputId": "88b86e3a-53d0-4c3b-f1d9-965d34369404"
      },
      "execution_count": null,
      "outputs": [
        {
          "output_type": "stream",
          "name": "stdout",
          "text": [
            "drive  sample_data\n"
          ]
        }
      ]
    },
    {
      "cell_type": "markdown",
      "source": [
        "## Ejecución de código python"
      ],
      "metadata": {
        "id": "E0EKSCMR4sLZ"
      }
    },
    {
      "cell_type": "code",
      "source": [
        "print(\"hola\")"
      ],
      "metadata": {
        "colab": {
          "base_uri": "https://localhost:8080/"
        },
        "id": "aSZWmaOi4135",
        "outputId": "8df20932-432a-44c1-a5d2-8ae28b4e7ffa"
      },
      "execution_count": 3,
      "outputs": [
        {
          "output_type": "stream",
          "name": "stdout",
          "text": [
            "hola\n"
          ]
        }
      ]
    },
    {
      "cell_type": "markdown",
      "source": [
        "## Conexion con google drive"
      ],
      "metadata": {
        "id": "3azkB-cC18rQ"
      }
    },
    {
      "cell_type": "code",
      "source": [
        "!ls"
      ],
      "metadata": {
        "id": "zp5HGQuS2M83",
        "colab": {
          "base_uri": "https://localhost:8080/"
        },
        "outputId": "267f0c23-b0e6-430d-e1b0-b21735fe14aa"
      },
      "execution_count": 4,
      "outputs": [
        {
          "output_type": "stream",
          "name": "stdout",
          "text": [
            "sample_data\n"
          ]
        }
      ]
    },
    {
      "cell_type": "code",
      "source": [
        "from google.colab import drive # conectarse con google drive\n",
        "from importlib.machinery import SourceFileLoader # Caragar nodulos desde un directorio\n",
        "\n",
        "drive.mount('/content/drive') # conectarnos con el google drive"
      ],
      "metadata": {
        "colab": {
          "base_uri": "https://localhost:8080/"
        },
        "id": "wPzcnJng121a",
        "outputId": "2ca405c8-f718-46be-c646-f0620595f019"
      },
      "execution_count": 10,
      "outputs": [
        {
          "output_type": "stream",
          "name": "stdout",
          "text": [
            "Drive already mounted at /content/drive; to attempt to forcibly remount, call drive.mount(\"/content/drive\", force_remount=True).\n"
          ]
        }
      ]
    },
    {
      "cell_type": "code",
      "source": [
        "!ls drive/MyDrive/"
      ],
      "metadata": {
        "colab": {
          "base_uri": "https://localhost:8080/"
        },
        "id": "sRkhUGde2Pio",
        "outputId": "c2605b58-033f-496d-aa3e-33cf79249238"
      },
      "execution_count": 33,
      "outputs": [
        {
          "output_type": "stream",
          "name": "stdout",
          "text": [
            "'Archivos Drive varios'   Cibertec  'Colab Notebooks'\n"
          ]
        }
      ]
    },
    {
      "cell_type": "code",
      "source": [
        "# Colocar la ruta que corresponde a su google drive\n",
        "!ls /content/drive/MyDrive/Cibertec/Sem1"
      ],
      "metadata": {
        "colab": {
          "base_uri": "https://localhost:8080/"
        },
        "id": "g9rmqjqT2TeG",
        "outputId": "93bd6ebd-4158-4496-ee11-3f307da1d9fe"
      },
      "execution_count": 34,
      "outputs": [
        {
          "output_type": "stream",
          "name": "stdout",
          "text": [
            "'Copia de Sem_1_Lenguaje_Python.ipynb'\n"
          ]
        }
      ]
    },
    {
      "cell_type": "markdown",
      "metadata": {
        "id": "yjAlHrP-Hr-5"
      },
      "source": [
        "# Tipado dinámico\n",
        "A diferencia de lenguajes como C, C++ o Java donde las variables son definidas a partir del tipo de dato que soportarán, las variables en Python se auto-asignan el tipo de dato en tiempo de ejecución en función del valor almacenado. Esto significa que el tipo de dato de las variables es definido por su contenido y no por el contenedor."
      ]
    },
    {
      "cell_type": "code",
      "execution_count": null,
      "metadata": {
        "colab": {
          "base_uri": "https://localhost:8080/"
        },
        "id": "hnpMwqIIHoLK",
        "outputId": "752f4f02-cb9f-4b0c-d6d6-f91ff3b1ac09"
      },
      "outputs": [
        {
          "output_type": "execute_result",
          "data": {
            "text/plain": [
              "int"
            ]
          },
          "metadata": {},
          "execution_count": 9
        }
      ],
      "source": [
        "var_int = 20\n",
        "type(var_int)# da como  resultado el tipo de variable"
      ]
    },
    {
      "cell_type": "code",
      "execution_count": null,
      "metadata": {
        "colab": {
          "base_uri": "https://localhost:8080/"
        },
        "id": "uyLx4FNEILu2",
        "outputId": "43084357-9743-498d-ccea-6ea2b9762839"
      },
      "outputs": [
        {
          "output_type": "execute_result",
          "data": {
            "text/plain": [
              "float"
            ]
          },
          "metadata": {},
          "execution_count": 10
        }
      ],
      "source": [
        "var_flo = 20.0\n",
        "type(var_flo)"
      ]
    },
    {
      "cell_type": "code",
      "execution_count": null,
      "metadata": {
        "colab": {
          "base_uri": "https://localhost:8080/"
        },
        "id": "fxgyfMXZH2eZ",
        "outputId": "141487c7-7b7f-40d4-e62b-e2d1c654578a"
      },
      "outputs": [
        {
          "data": {
            "text/plain": [
              "str"
            ]
          },
          "execution_count": 8,
          "metadata": {},
          "output_type": "execute_result"
        }
      ],
      "source": [
        "var_string = \"texto-cadena\"\n",
        "type(var_string)"
      ]
    },
    {
      "cell_type": "code",
      "execution_count": 19,
      "metadata": {
        "colab": {
          "base_uri": "https://localhost:8080/"
        },
        "id": "JrDa8CU_IaaK",
        "outputId": "0ca8da77-ad76-4657-8241-3881f2d999ec"
      },
      "outputs": [
        {
          "output_type": "execute_result",
          "data": {
            "text/plain": [
              "list"
            ]
          },
          "metadata": {},
          "execution_count": 19
        }
      ],
      "source": [
        "a = [1,2,3,5]\n",
        "type(a)"
      ]
    },
    {
      "cell_type": "code",
      "execution_count": 20,
      "metadata": {
        "colab": {
          "base_uri": "https://localhost:8080/"
        },
        "id": "8zr8h06tIhW1",
        "outputId": "a807e0b1-8906-4dc4-d5db-2c6633a3952f"
      },
      "outputs": [
        {
          "output_type": "execute_result",
          "data": {
            "text/plain": [
              "set"
            ]
          },
          "metadata": {},
          "execution_count": 20
        }
      ],
      "source": [
        "set = {4,5,8,7}\n",
        "type(set)"
      ]
    },
    {
      "cell_type": "markdown",
      "metadata": {
        "id": "-UjCw-Y1I8JO"
      },
      "source": [
        "# Shell interactivo\n",
        "Python permite la interacción del desarrollar con el intérprete directamente como un Shell que lee y ejecuta las instrucciones en línea.\n",
        "\n",
        "El propósito de interactuar con el intérprete de Python es realizar operaciones inmediatas a modo de prueba para validar ciertas acciones que no pueden esperar la finalización del programa"
      ]
    },
    {
      "cell_type": "code",
      "execution_count": 21,
      "metadata": {
        "colab": {
          "base_uri": "https://localhost:8080/"
        },
        "id": "kE1oX363I-Il",
        "outputId": "38d71b66-9c27-4123-acee-75b1e439499f"
      },
      "outputs": [
        {
          "output_type": "execute_result",
          "data": {
            "text/plain": [
              "15"
            ]
          },
          "metadata": {},
          "execution_count": 21
        }
      ],
      "source": [
        "7+8"
      ]
    },
    {
      "cell_type": "markdown",
      "source": [
        "# Script o Programa\n",
        "Si bien la interacción con el intérprete es valiosa y agiliza en algunos casos el desarrollo, lo más común es que las aplicaciones Python se ejecuten a modo de script o programa fuente (código fuente)."
      ],
      "metadata": {
        "id": "w4k8OHWhHCxr"
      }
    },
    {
      "cell_type": "markdown",
      "metadata": {
        "id": "_cKKoOxIJ4yf"
      },
      "source": [
        "# Primer programa con python"
      ]
    },
    {
      "cell_type": "code",
      "execution_count": 35,
      "metadata": {
        "colab": {
          "base_uri": "https://localhost:8080/"
        },
        "id": "QIIz3h0uJ7w4",
        "outputId": "2619b534-4a5d-4e80-f65a-94cfc56af28e"
      },
      "outputs": [
        {
          "output_type": "stream",
          "name": "stdout",
          "text": [
            "Hola Mundo\n"
          ]
        }
      ],
      "source": [
        "print(\"Hola Mundo\")"
      ]
    },
    {
      "cell_type": "code",
      "source": [
        "!pwd\n",
        "!ls\n",
        "%cd"
      ],
      "metadata": {
        "colab": {
          "base_uri": "https://localhost:8080/"
        },
        "id": "iCk9-cePMVkC",
        "outputId": "a5f88852-0f86-4a60-89d5-d3e22294bea9"
      },
      "execution_count": 49,
      "outputs": [
        {
          "output_type": "stream",
          "name": "stdout",
          "text": [
            "/content/drive/MyDrive/Cibertec/Sem1\n",
            "'Copia de Sem_1_Lenguaje_Python.ipynb'\n"
          ]
        }
      ]
    },
    {
      "cell_type": "code",
      "source": [
        "!ls /content/drive/MyDrive/Cibertec/Sem1"
      ],
      "metadata": {
        "colab": {
          "base_uri": "https://localhost:8080/"
        },
        "id": "DPYwM_4O5PdV",
        "outputId": "7e95ef8b-2a83-46c7-865d-d7c4dbc3355d"
      },
      "execution_count": 50,
      "outputs": [
        {
          "output_type": "stream",
          "name": "stdout",
          "text": [
            "'Copia de Sem_1_Lenguaje_Python.ipynb'\n"
          ]
        }
      ]
    },
    {
      "cell_type": "code",
      "source": [
        "!python /content/drive/MyDrive/Cibertec/Sem1/program1.py"
      ],
      "metadata": {
        "colab": {
          "base_uri": "https://localhost:8080/"
        },
        "id": "i7tz2twqB9Tz",
        "outputId": "f2850fe5-e2a1-4617-bfb0-686720af6eb2"
      },
      "execution_count": 52,
      "outputs": [
        {
          "output_type": "stream",
          "name": "stdout",
          "text": [
            "hola\n"
          ]
        }
      ]
    },
    {
      "cell_type": "code",
      "source": [
        "n = int(input(\"ingrese un número\"))\n",
        "for i in range(1,13):\n",
        "  print(n,\" x \", i, \"=\", n*i)"
      ],
      "metadata": {
        "colab": {
          "base_uri": "https://localhost:8080/"
        },
        "id": "Qz1VeVDqN4C9",
        "outputId": "7c8cd22d-82d7-4e44-9d06-67f20d02d3d3"
      },
      "execution_count": 40,
      "outputs": [
        {
          "output_type": "stream",
          "name": "stdout",
          "text": [
            "ingrese un número8\n",
            "8  x  1 = 8\n",
            "8  x  2 = 16\n",
            "8  x  3 = 24\n",
            "8  x  4 = 32\n",
            "8  x  5 = 40\n",
            "8  x  6 = 48\n",
            "8  x  7 = 56\n",
            "8  x  8 = 64\n",
            "8  x  9 = 72\n",
            "8  x  10 = 80\n",
            "8  x  11 = 88\n",
            "8  x  12 = 96\n"
          ]
        }
      ]
    },
    {
      "cell_type": "code",
      "source": [
        "%cd /content/drive/MyDrive/Cibertec/Sem1\n",
        "!python program2.py"
      ],
      "metadata": {
        "colab": {
          "base_uri": "https://localhost:8080/"
        },
        "id": "0n08ywfS3G7Z",
        "outputId": "babb9a31-f0af-42e6-aa6e-f63a5b9edbaa"
      },
      "execution_count": 54,
      "outputs": [
        {
          "output_type": "stream",
          "name": "stdout",
          "text": [
            "/content/drive/MyDrive/Cibertec/Sem1\n"
          ]
        }
      ]
    },
    {
      "cell_type": "code",
      "source": [
        "%cd /content"
      ],
      "metadata": {
        "colab": {
          "base_uri": "https://localhost:8080/"
        },
        "id": "iGKnygUU3hru",
        "outputId": "379ecff3-8a29-4d04-b036-40da98c8f2cf"
      },
      "execution_count": 42,
      "outputs": [
        {
          "output_type": "stream",
          "name": "stdout",
          "text": [
            "/content\n"
          ]
        }
      ]
    },
    {
      "cell_type": "code",
      "source": [
        "!ls"
      ],
      "metadata": {
        "colab": {
          "base_uri": "https://localhost:8080/"
        },
        "id": "MC3RSQk83whA",
        "outputId": "03fe9e88-0cc4-45b9-afe0-ae04698b380b"
      },
      "execution_count": 43,
      "outputs": [
        {
          "output_type": "stream",
          "name": "stdout",
          "text": [
            "drive  sample_data\n"
          ]
        }
      ]
    },
    {
      "cell_type": "markdown",
      "metadata": {
        "id": "ika2dnnbKHWM"
      },
      "source": [
        "# Comentarios\n",
        "Aunque a primera vista pudiera parecer un esfuerzo innecesario, el uso de los comentarios en el código resulta regularmente fundamental y valioso especialmente si éste será compartido o publicado. Su aplicación es bastante sencilla y el tiempo invertido siempre será minimizado al\n",
        "comparar los beneficios logrados.\n",
        "\n",
        "El uso de los comentarios como parte del código está considerado en la PEP 8 -- Guía de estilos de Python\n",
        "[link text](https://peps.python.org/pep-0008/) la cual es un conjunto de\n",
        "recomendaciones para mejorar la legibilidad del código. Estas recomendaciones no son condicionantes para la ejecución del programa. De hecho, los comentarios nunca son traducidos por el intérprete de Python, salvo que formen parte de la documentación del propio código. Esto es algo que se verá más adelante y en mayor detalle."
      ]
    },
    {
      "cell_type": "markdown",
      "source": [
        "## Comentario en línea"
      ],
      "metadata": {
        "id": "YDppYaTiI16Z"
      }
    },
    {
      "cell_type": "code",
      "execution_count": null,
      "metadata": {
        "colab": {
          "base_uri": "https://localhost:8080/"
        },
        "id": "7QCLdrveKFmz",
        "outputId": "c5c2de4d-4148-42f2-f616-d2040a9530bc"
      },
      "outputs": [
        {
          "output_type": "stream",
          "name": "stdout",
          "text": [
            "Ingrese un número entero: 4\n",
            "ingrese otro número entero: 5\n",
            "La suma es:  9\n"
          ]
        }
      ],
      "source": [
        "# Suma de dos números\n",
        "a = int(input(\"Ingrese un número entero: \")) # primer número\n",
        "b = int(input(\"ingrese otro número entero: \")) # segundo número\n",
        "\n",
        "print(\"La suma es: \", a+b)# imprimiendo el resultado de la suma"
      ]
    },
    {
      "cell_type": "code",
      "source": [
        "# input reconoce cualquier valor ingresado como string\n",
        "x = input(\"ingrese un número: \")\n",
        "type(x)"
      ],
      "metadata": {
        "colab": {
          "base_uri": "https://localhost:8080/"
        },
        "id": "I_74hEpDH9pJ",
        "outputId": "a201e495-d3d7-450e-c44a-d1bb800f0e67"
      },
      "execution_count": null,
      "outputs": [
        {
          "name": "stdout",
          "output_type": "stream",
          "text": [
            "ingrese un número: 8\n"
          ]
        },
        {
          "output_type": "execute_result",
          "data": {
            "text/plain": [
              "float"
            ]
          },
          "metadata": {},
          "execution_count": 21
        }
      ]
    },
    {
      "cell_type": "code",
      "source": [
        "# La suma de dos strings da como  resultado la concatenación\n",
        "\"2\"+\"7\""
      ],
      "metadata": {
        "colab": {
          "base_uri": "https://localhost:8080/",
          "height": 35
        },
        "id": "1e_4_TnYH5oE",
        "outputId": "7f09357e-c498-4a2e-eded-ddd1b856ffba"
      },
      "execution_count": null,
      "outputs": [
        {
          "output_type": "execute_result",
          "data": {
            "text/plain": [
              "'27'"
            ],
            "application/vnd.google.colaboratory.intrinsic+json": {
              "type": "string"
            }
          },
          "metadata": {},
          "execution_count": 22
        }
      ]
    },
    {
      "cell_type": "code",
      "execution_count": null,
      "metadata": {
        "colab": {
          "base_uri": "https://localhost:8080/"
        },
        "id": "-WgCRFbhoJXu",
        "outputId": "c92c4940-ab35-4007-e4f4-73b7649aeeba"
      },
      "outputs": [
        {
          "output_type": "execute_result",
          "data": {
            "text/plain": [
              "9"
            ]
          },
          "metadata": {},
          "execution_count": 23
        }
      ],
      "source": [
        "# Para sumar dos números de tipo string es nesesario convertirlos a números\n",
        "int(\"2\")+int(\"7\")"
      ]
    },
    {
      "cell_type": "markdown",
      "metadata": {
        "id": "mYUMgXo9K6ss"
      },
      "source": [
        "## Comentario multilínea"
      ]
    },
    {
      "cell_type": "code",
      "execution_count": null,
      "metadata": {
        "colab": {
          "base_uri": "https://localhost:8080/"
        },
        "id": "HJDAQbTIMhBe",
        "outputId": "4048a443-1de9-4d4e-b32d-df7f9ebb4c61"
      },
      "outputs": [
        {
          "output_type": "stream",
          "name": "stdout",
          "text": [
            "Hola 1\n"
          ]
        }
      ],
      "source": [
        "\"\"\"\n",
        "Primera línea\n",
        "Segunda línea\n",
        ".\n",
        ".\n",
        "Última línea\n",
        "\"\"\"\n",
        "print(\"Hola 1\")\n",
        "\n"
      ]
    },
    {
      "cell_type": "code",
      "execution_count": null,
      "metadata": {
        "colab": {
          "base_uri": "https://localhost:8080/"
        },
        "id": "9CjkvUdoNs90",
        "outputId": "ede5784f-61e6-4faf-fb95-5457c26e1b9b"
      },
      "outputs": [
        {
          "output_type": "stream",
          "name": "stdout",
          "text": [
            "Hola 2\n"
          ]
        }
      ],
      "source": [
        "'''\n",
        "Primera línea\n",
        "Segunda línea\n",
        ".\n",
        ".\n",
        "Última línea\n",
        "'''\n",
        "print(\"Hola 2\")"
      ]
    },
    {
      "cell_type": "markdown",
      "metadata": {
        "id": "bcGcQmGMN63e"
      },
      "source": [
        "## Cadenas de documentación (docstring)\n",
        "En el proceso de programación de cualquier tipo de componente de software que se esté desarrollando, ya sea una aplicación, una clase o una librería de funciones, especialmente de alcance público; no es suficiente comentar el código para un mejor entendimiento de la lógica que se está implementando. Siempre es necesario documentar el código generado para facilitar la interacción de terceros con dichos componentes y su uso correcto.\n",
        "\n",
        "Python simplifica este proceso con la incorporación de las cadenas de documentación o docstrings.\n",
        "\n",
        "Los docstrings permiten utilizar los comentarios para generar la documentación de las funciones, métodos, clases o módulos en Python. Los objetos por documentar tienen un atributo especial llamado __doc__ con el que se asocia la cadena de documentación respectiva.\n",
        "\n",
        "Para mas detalle ir al siguiente [link 1](https://peps.python.org/pep-0257/),\n",
        "[link 2](https://peps.python.org/pep-0287/)"
      ]
    },
    {
      "cell_type": "code",
      "execution_count": null,
      "metadata": {
        "colab": {
          "base_uri": "https://localhost:8080/"
        },
        "id": "TPaZ3cC5OuSH",
        "outputId": "c7a77c14-7e82-4f6d-ef64-f0fbe7897b00"
      },
      "outputs": [
        {
          "output_type": "stream",
          "name": "stdout",
          "text": [
            "\n",
            "    Calcula el promedio a una lista\n",
            "      - linea2\n",
            "      - linea3\n",
            "      - x tiene es una lista con números enteros o decimales\n",
            "\n",
            "    \n"
          ]
        }
      ],
      "source": [
        "def mean1(x): # definiendo una función en python\n",
        "    '''\n",
        "    Calcula el promedio a una lista\n",
        "      - linea2\n",
        "      - linea3\n",
        "      - x tiene es una lista con números enteros o decimales\n",
        "\n",
        "    '''\n",
        "    result = sum(x)/len(x)\n",
        "    return(result)\n",
        "\n",
        "\n",
        "print(mean1.__doc__)"
      ]
    },
    {
      "cell_type": "code",
      "source": [
        "help(mean1)"
      ],
      "metadata": {
        "colab": {
          "base_uri": "https://localhost:8080/"
        },
        "id": "LabgrxlwQSi0",
        "outputId": "969d76b4-6de2-4a87-dcf8-ecdbbc174a8c"
      },
      "execution_count": null,
      "outputs": [
        {
          "output_type": "stream",
          "name": "stdout",
          "text": [
            "Help on function mean1 in module __main__:\n",
            "\n",
            "mean1(x)\n",
            "    Calcula el promedio a una lista\n",
            "      - linea2\n",
            "      - linea3\n",
            "      - x tiene es una lista con números enteros o decimales\n",
            "\n"
          ]
        }
      ]
    },
    {
      "cell_type": "code",
      "execution_count": null,
      "metadata": {
        "colab": {
          "base_uri": "https://localhost:8080/"
        },
        "id": "QDtSvWdTPN2g",
        "outputId": "6a761c9c-03ac-4169-b658-d3b7c03624a7"
      },
      "outputs": [
        {
          "output_type": "execute_result",
          "data": {
            "text/plain": [
              "5.666666666666667"
            ]
          },
          "metadata": {},
          "execution_count": 28
        }
      ],
      "source": [
        "mean1([4,5,8,4,6,7])"
      ]
    },
    {
      "cell_type": "code",
      "execution_count": null,
      "metadata": {
        "colab": {
          "base_uri": "https://localhost:8080/"
        },
        "id": "q33yw11KPSdh",
        "outputId": "f51e7915-13fc-4bdf-ecc7-ad13b8dadf91"
      },
      "outputs": [
        {
          "output_type": "stream",
          "name": "stdout",
          "text": [
            "Help on function mean1 in module __main__:\n",
            "\n",
            "mean1(x)\n",
            "    Calcula el promedio a una lista\n",
            "      - linea2\n",
            "      - linea3\n",
            "      - x tiene es una lista con números enteros o decimales\n",
            "\n"
          ]
        }
      ],
      "source": [
        "help(mean1)"
      ]
    },
    {
      "cell_type": "code",
      "source": [
        "help(print)"
      ],
      "metadata": {
        "colab": {
          "base_uri": "https://localhost:8080/"
        },
        "id": "hvd632p-JHf5",
        "outputId": "0cce1c2c-06aa-4314-cc8b-449bd0edeaf1"
      },
      "execution_count": null,
      "outputs": [
        {
          "output_type": "stream",
          "name": "stdout",
          "text": [
            "Help on built-in function print in module builtins:\n",
            "\n",
            "print(...)\n",
            "    print(value, ..., sep=' ', end='\\n', file=sys.stdout, flush=False)\n",
            "    \n",
            "    Prints the values to a stream, or to sys.stdout by default.\n",
            "    Optional keyword arguments:\n",
            "    file:  a file-like object (stream); defaults to the current sys.stdout.\n",
            "    sep:   string inserted between values, default a space.\n",
            "    end:   string appended after the last value, default a newline.\n",
            "    flush: whether to forcibly flush the stream.\n",
            "\n"
          ]
        }
      ]
    },
    {
      "cell_type": "markdown",
      "source": [],
      "metadata": {
        "id": "zRlTIpgxJEXC"
      }
    },
    {
      "cell_type": "markdown",
      "metadata": {
        "id": "zKLWLryFj83K"
      },
      "source": [
        "# Empaquetado y desempaquetado\n",
        "Python ofrece una particularidad muy útil en algunas circunstancias. Permite almacenar varios datos en una misma variable (empaquetado) del mismo modo que posibilita desagregar el contenido de una colección en diferentes variables (desempaquetado).\n",
        "\n",
        "El empaquetado de datos forma una “tupla” (<class 'tuple'>) que es un tipo de dato que guarda una colección de datos. Más adelante se analizará su uso."
      ]
    },
    {
      "cell_type": "code",
      "execution_count": null,
      "metadata": {
        "colab": {
          "base_uri": "https://localhost:8080/"
        },
        "id": "tIB42zmBQD0I",
        "outputId": "8d7f864f-4bd5-457c-8486-e97fbc50e6d9"
      },
      "outputs": [
        {
          "output_type": "execute_result",
          "data": {
            "text/plain": [
              "('Juan', 20, 1.7)"
            ]
          },
          "metadata": {},
          "execution_count": 20
        }
      ],
      "source": [
        "# Empacando\n",
        "var = \"Juan\", 20, 1.70\n",
        "var"
      ]
    },
    {
      "cell_type": "code",
      "execution_count": null,
      "metadata": {
        "colab": {
          "base_uri": "https://localhost:8080/"
        },
        "id": "imNLq6eLQF2y",
        "outputId": "5d948034-5bc1-49d6-f80b-29cf0b6d3bc2"
      },
      "outputs": [
        {
          "output_type": "execute_result",
          "data": {
            "text/plain": [
              "tuple"
            ]
          },
          "metadata": {},
          "execution_count": 21
        }
      ],
      "source": [
        "type(var)"
      ]
    },
    {
      "cell_type": "code",
      "execution_count": null,
      "metadata": {
        "id": "473i4DKrSKDT"
      },
      "outputs": [],
      "source": [
        "# Desempacando\n",
        "nombre, edad, talla = var"
      ]
    },
    {
      "cell_type": "code",
      "execution_count": null,
      "metadata": {
        "colab": {
          "base_uri": "https://localhost:8080/"
        },
        "id": "Xnr257tKSPSc",
        "outputId": "d60d829b-1e54-41da-97b9-836cc2196bf4"
      },
      "outputs": [
        {
          "output_type": "stream",
          "name": "stdout",
          "text": [
            "20\n",
            "Juan\n",
            "1.7\n"
          ]
        }
      ],
      "source": [
        "print(edad)\n",
        "print(nombre)\n",
        "print(talla)"
      ]
    },
    {
      "cell_type": "code",
      "execution_count": null,
      "metadata": {
        "colab": {
          "base_uri": "https://localhost:8080/"
        },
        "id": "eeZ26XOzSnO6",
        "outputId": "0b46eb90-6f4f-4ed2-f85a-8b30697aa52d"
      },
      "outputs": [
        {
          "data": {
            "text/plain": [
              "int"
            ]
          },
          "execution_count": 35,
          "metadata": {},
          "output_type": "execute_result"
        }
      ],
      "source": [
        "type(edad)"
      ]
    },
    {
      "cell_type": "code",
      "execution_count": null,
      "metadata": {
        "colab": {
          "base_uri": "https://localhost:8080/"
        },
        "id": "OgS2m2vSS2Io",
        "outputId": "93f14677-3a7d-4de4-ec9d-4353ac40bebd"
      },
      "outputs": [
        {
          "output_type": "stream",
          "name": "stdout",
          "text": [
            "1\n",
            "x\n",
            "3\n"
          ]
        }
      ],
      "source": [
        "# Empaquedato con cadenas\n",
        "a,b,c = \"1x3\"\n",
        "print(a)\n",
        "print(b)\n",
        "print(c)"
      ]
    },
    {
      "cell_type": "markdown",
      "metadata": {
        "id": "Z2Xf9nYeTiq8"
      },
      "source": [
        "# Asignacion dinámica de memoria"
      ]
    },
    {
      "cell_type": "code",
      "execution_count": null,
      "metadata": {
        "colab": {
          "base_uri": "https://localhost:8080/"
        },
        "id": "_W-XMcjgS7BI",
        "outputId": "1c58a0c9-322e-48ef-c375-fbb155c9f77f"
      },
      "outputs": [
        {
          "output_type": "execute_result",
          "data": {
            "text/plain": [
              "138895776186960"
            ]
          },
          "metadata": {},
          "execution_count": 32
        }
      ],
      "source": [
        "mi_var1 = 12\n",
        "id(mi_var1)"
      ]
    },
    {
      "cell_type": "code",
      "execution_count": null,
      "metadata": {
        "colab": {
          "base_uri": "https://localhost:8080/"
        },
        "id": "j1PUs2KlTrkX",
        "outputId": "17070f6d-0069-44dc-c1f8-03a52aac7758"
      },
      "outputs": [
        {
          "output_type": "execute_result",
          "data": {
            "text/plain": [
              "138895776187216"
            ]
          },
          "metadata": {},
          "execution_count": 33
        }
      ],
      "source": [
        "mi_var2 = 20\n",
        "id(mi_var2)"
      ]
    },
    {
      "cell_type": "code",
      "execution_count": null,
      "metadata": {
        "colab": {
          "base_uri": "https://localhost:8080/"
        },
        "id": "IVh9c33bUSmr",
        "outputId": "8ad24448-99ee-4c5f-ebc9-d017c1ea5a8f"
      },
      "outputs": [
        {
          "output_type": "execute_result",
          "data": {
            "text/plain": [
              "138895776187216"
            ]
          },
          "metadata": {},
          "execution_count": 34
        }
      ],
      "source": [
        "mi_var3 = 20\n",
        "id(mi_var3)"
      ]
    },
    {
      "cell_type": "code",
      "execution_count": null,
      "metadata": {
        "colab": {
          "base_uri": "https://localhost:8080/"
        },
        "id": "vMDu11hzUa8m",
        "outputId": "955e1cd3-7f06-4c30-cd0a-abf6a19f9c6c"
      },
      "outputs": [
        {
          "output_type": "stream",
          "name": "stdout",
          "text": [
            "20\n"
          ]
        }
      ],
      "source": [
        "print(mi_var3)"
      ]
    },
    {
      "cell_type": "code",
      "execution_count": null,
      "metadata": {
        "colab": {
          "base_uri": "https://localhost:8080/"
        },
        "id": "GykJmBThUfLn",
        "outputId": "74e46c73-a6d9-45b3-b69a-1c3335b918e6"
      },
      "outputs": [
        {
          "output_type": "stream",
          "name": "stdout",
          "text": [
            "20\n"
          ]
        }
      ],
      "source": [
        "print(mi_var2)"
      ]
    },
    {
      "cell_type": "markdown",
      "metadata": {
        "id": "wIhwF2R1Zxtt"
      },
      "source": [
        "# Operadores Matemáticos"
      ]
    },
    {
      "cell_type": "code",
      "execution_count": null,
      "metadata": {
        "colab": {
          "base_uri": "https://localhost:8080/"
        },
        "id": "jQ-ZYznBZ1F9",
        "outputId": "c5cb3405-408f-4654-c89b-005dc270b77b"
      },
      "outputs": [
        {
          "output_type": "stream",
          "name": "stdout",
          "text": [
            "13\n",
            "45\n",
            "9\n",
            "4.666666666666667\n",
            "4\n",
            "1\n"
          ]
        }
      ],
      "source": [
        "print(5+8) # suma\n",
        "print(15*3) # Multiplicación\n",
        "print(3**2) # potencia\n",
        "print(14/3) # divición\n",
        "print(13//3) # divicion entera\n",
        "print(13%3) # residuo"
      ]
    },
    {
      "cell_type": "markdown",
      "metadata": {
        "id": "LWA4-MXuaUA2"
      },
      "source": [
        "# Operadores Relacionales o de Comparación\n",
        "Los operadores relacionales, o también llamados comparison operators nos permiten saber la relación existente entre dos variables. Se usan para saber si por ejemplo un número es mayor o menor que otro. Dado que estos operadores indican si se cumple o no una operación, el valor que devuelven es True o False. Veamos un ejemplo con x=2 e y=3"
      ]
    },
    {
      "cell_type": "code",
      "execution_count": null,
      "metadata": {
        "colab": {
          "base_uri": "https://localhost:8080/"
        },
        "id": "PnDjeom4aTGg",
        "outputId": "7f96941e-d900-4170-ea65-baab3beb2397"
      },
      "outputs": [
        {
          "output_type": "stream",
          "name": "stdout",
          "text": [
            "False\n",
            "True\n",
            "True\n",
            "True\n",
            "False\n",
            "False\n"
          ]
        }
      ],
      "source": [
        "print(5==3) # Igual\n",
        "print(5!=3) # Diferente\n",
        "print(5>3)\n",
        "print(5>=3)\n",
        "print(5<3)\n",
        "print(5<=3)"
      ]
    },
    {
      "cell_type": "markdown",
      "metadata": {
        "id": "IGNx5XwRb4oP"
      },
      "source": [
        "# Operadores Lógicos\n",
        "Los operadores lógicos o logical operators nos permiten trabajar con valores de tipo booleano. Un valor booleano o bool es un tipo que solo puede tomar valores True o False. Por lo tanto, estos operadores nos permiten realizar diferentes operaciones con estos tipos, y su resultado será otro booleano. Por ejemplo, True and True usa el operador and, y su resultado será True. A continuación lo explicaremos mas en detalle."
      ]
    },
    {
      "cell_type": "code",
      "execution_count": null,
      "metadata": {
        "colab": {
          "base_uri": "https://localhost:8080/"
        },
        "id": "G3ISCLbbb8Nb",
        "outputId": "084d9f7a-e773-480c-8d22-2bffc782181c"
      },
      "outputs": [
        {
          "output_type": "stream",
          "name": "stdout",
          "text": [
            "True\n",
            "False\n",
            "False\n",
            "False\n"
          ]
        }
      ],
      "source": [
        "print(True and True)\n",
        "print(True and False)\n",
        "print(False and True)\n",
        "print(False and False)"
      ]
    },
    {
      "cell_type": "code",
      "execution_count": null,
      "metadata": {
        "colab": {
          "base_uri": "https://localhost:8080/"
        },
        "id": "Qka_RqPacG2j",
        "outputId": "7c484410-7151-4d6d-de6f-b320da6d36be"
      },
      "outputs": [
        {
          "output_type": "stream",
          "name": "stdout",
          "text": [
            "True\n",
            "True\n",
            "True\n",
            "False\n"
          ]
        }
      ],
      "source": [
        "print(True or True)\n",
        "print(True or False)\n",
        "print(False or True)\n",
        "print(False or False)"
      ]
    },
    {
      "cell_type": "code",
      "execution_count": null,
      "metadata": {
        "id": "pM6G6xPPcMZL",
        "colab": {
          "base_uri": "https://localhost:8080/"
        },
        "outputId": "781bc841-34ad-47cb-e890-7bcaf4d70669"
      },
      "outputs": [
        {
          "output_type": "stream",
          "name": "stdout",
          "text": [
            "False\n",
            "True\n"
          ]
        }
      ],
      "source": [
        "print(not True)\n",
        "print(not False)"
      ]
    },
    {
      "cell_type": "markdown",
      "metadata": {
        "id": "omn2I7F6elwP"
      },
      "source": [
        "# Operadores de Asignación\n",
        "Los operadores de asignación o assignment operators nos permiten realizar una operación y almacenar su resultado en la variable inicial."
      ]
    },
    {
      "cell_type": "code",
      "execution_count": null,
      "metadata": {
        "colab": {
          "base_uri": "https://localhost:8080/"
        },
        "id": "kvnGssiejxK6",
        "outputId": "141d6362-7928-415e-c8bd-4a49c6560061"
      },
      "outputs": [
        {
          "output_type": "execute_result",
          "data": {
            "text/plain": [
              "7"
            ]
          },
          "metadata": {},
          "execution_count": 42
        }
      ],
      "source": [
        "var = 7\n",
        "var"
      ]
    },
    {
      "cell_type": "code",
      "execution_count": null,
      "metadata": {
        "colab": {
          "base_uri": "https://localhost:8080/"
        },
        "id": "prOQANQ5ePWF",
        "outputId": "e672b0a6-ffb9-4ee2-80be-b044923bccbf"
      },
      "outputs": [
        {
          "output_type": "execute_result",
          "data": {
            "text/plain": [
              "8"
            ]
          },
          "metadata": {},
          "execution_count": 43
        }
      ],
      "source": [
        "x = 3\n",
        "x += 5 # x = x + 5\n",
        "x"
      ]
    },
    {
      "cell_type": "code",
      "execution_count": null,
      "metadata": {
        "colab": {
          "base_uri": "https://localhost:8080/"
        },
        "id": "e8mkWldGew5G",
        "outputId": "a60fd2cd-94b8-4be1-d2c9-baf728958cba"
      },
      "outputs": [
        {
          "output_type": "execute_result",
          "data": {
            "text/plain": [
              "5"
            ]
          },
          "metadata": {},
          "execution_count": 39
        }
      ],
      "source": [
        "a = 7\n",
        "a -= 2 # a = a - 2\n",
        "a"
      ]
    },
    {
      "cell_type": "code",
      "execution_count": null,
      "metadata": {
        "colab": {
          "base_uri": "https://localhost:8080/"
        },
        "id": "mWcWC42afKGk",
        "outputId": "2234a511-fb2a-42fe-c1fe-3ba71b22a22d"
      },
      "outputs": [
        {
          "output_type": "execute_result",
          "data": {
            "text/plain": [
              "6"
            ]
          },
          "metadata": {},
          "execution_count": 40
        }
      ],
      "source": [
        "b=2\n",
        "b *= 3\n",
        "b"
      ]
    },
    {
      "cell_type": "code",
      "execution_count": null,
      "metadata": {
        "colab": {
          "base_uri": "https://localhost:8080/"
        },
        "id": "_RQiSfQrfdXX",
        "outputId": "3aab7e37-b3cd-43d1-c865-f60ea21442ea"
      },
      "outputs": [
        {
          "output_type": "execute_result",
          "data": {
            "text/plain": [
              "9"
            ]
          },
          "metadata": {},
          "execution_count": 41
        }
      ],
      "source": [
        "c=3\n",
        "c **=2\n",
        "c"
      ]
    },
    {
      "cell_type": "code",
      "execution_count": null,
      "metadata": {
        "colab": {
          "base_uri": "https://localhost:8080/"
        },
        "id": "11eCkxydfkSD",
        "outputId": "e5d622b2-9ee3-469c-b5be-e3f9ba5b1567"
      },
      "outputs": [
        {
          "output_type": "execute_result",
          "data": {
            "text/plain": [
              "2.1666666666666665"
            ]
          },
          "metadata": {},
          "execution_count": 42
        }
      ],
      "source": [
        "d=13\n",
        "d /= 6\n",
        "d"
      ]
    },
    {
      "cell_type": "code",
      "execution_count": null,
      "metadata": {
        "colab": {
          "base_uri": "https://localhost:8080/"
        },
        "id": "TC3NO0vzfrPZ",
        "outputId": "91456472-e16d-47dd-e9fb-4e43ac934e97"
      },
      "outputs": [
        {
          "output_type": "execute_result",
          "data": {
            "text/plain": [
              "2"
            ]
          },
          "metadata": {},
          "execution_count": 27
        }
      ],
      "source": [
        "d2 =13\n",
        "d2 //= 6\n",
        "d2"
      ]
    },
    {
      "cell_type": "code",
      "execution_count": null,
      "metadata": {
        "colab": {
          "base_uri": "https://localhost:8080/"
        },
        "id": "qZSSNxHrfyEl",
        "outputId": "651ed092-6d86-4090-be53-f78dc8f55c6b"
      },
      "outputs": [
        {
          "output_type": "execute_result",
          "data": {
            "text/plain": [
              "1"
            ]
          },
          "metadata": {},
          "execution_count": 44
        }
      ],
      "source": [
        "d3 =13\n",
        "d3 %= 6\n",
        "d3"
      ]
    },
    {
      "cell_type": "code",
      "source": [
        "datos = (2,3,4)\n",
        "datos"
      ],
      "metadata": {
        "colab": {
          "base_uri": "https://localhost:8080/"
        },
        "id": "Fzg85g4wV_bU",
        "outputId": "1df8ba23-6a07-4ff4-cc5f-19ed71b2a92a"
      },
      "execution_count": null,
      "outputs": [
        {
          "output_type": "execute_result",
          "data": {
            "text/plain": [
              "(2, 3, 4)"
            ]
          },
          "metadata": {},
          "execution_count": 52
        }
      ]
    },
    {
      "cell_type": "code",
      "source": [
        "lista = [2,3,4]\n",
        "lista"
      ],
      "metadata": {
        "colab": {
          "base_uri": "https://localhost:8080/"
        },
        "id": "4LwlT7qFWE9_",
        "outputId": "4c6c857c-c771-4555-b218-2a676f7d28c6"
      },
      "execution_count": null,
      "outputs": [
        {
          "output_type": "execute_result",
          "data": {
            "text/plain": [
              "[2, 3, 4]"
            ]
          },
          "metadata": {},
          "execution_count": 54
        }
      ]
    },
    {
      "cell_type": "code",
      "source": [
        "lista[0]=999\n",
        "lista"
      ],
      "metadata": {
        "colab": {
          "base_uri": "https://localhost:8080/"
        },
        "id": "rls2JNjUWI7I",
        "outputId": "0bd82fcd-899c-4c56-d93a-a99f5ece174e"
      },
      "execution_count": null,
      "outputs": [
        {
          "output_type": "execute_result",
          "data": {
            "text/plain": [
              "[999, 3, 4]"
            ]
          },
          "metadata": {},
          "execution_count": 55
        }
      ]
    },
    {
      "cell_type": "markdown",
      "metadata": {
        "id": "6_REQOkngCSV"
      },
      "source": [
        "# Operadores de Identidad\n",
        "El operador de identidad o identity operator ```is``` nos indica si dos variables hacen referencia al mismo objeto. Esto implica que si dos variables distintas tienen el mismo ```id()```, el resultado de aplicar el operador ```is``` sobre ellas será True."
      ]
    },
    {
      "cell_type": "code",
      "execution_count": null,
      "metadata": {
        "colab": {
          "base_uri": "https://localhost:8080/"
        },
        "id": "wjNu85MJgzZm",
        "outputId": "7c9ca29d-a0fe-4d52-d912-421c5a9e6bf2"
      },
      "outputs": [
        {
          "output_type": "execute_result",
          "data": {
            "text/plain": [
              "False"
            ]
          },
          "metadata": {},
          "execution_count": 60
        }
      ],
      "source": [
        "v1 = 5.0\n",
        "v2 = 5\n",
        "\n",
        "v1 is v2"
      ]
    },
    {
      "cell_type": "code",
      "source": [
        "5.0==5"
      ],
      "metadata": {
        "colab": {
          "base_uri": "https://localhost:8080/"
        },
        "id": "3kCt-XijMnxx",
        "outputId": "70211f3a-41cf-4c32-cb51-99783a5541db"
      },
      "execution_count": null,
      "outputs": [
        {
          "output_type": "execute_result",
          "data": {
            "text/plain": [
              "True"
            ]
          },
          "metadata": {},
          "execution_count": 61
        }
      ]
    },
    {
      "cell_type": "code",
      "execution_count": null,
      "metadata": {
        "colab": {
          "base_uri": "https://localhost:8080/"
        },
        "id": "XvdXDDQjiqbs",
        "outputId": "1ccfac41-ee40-48a2-f818-f8b76fc4c3ab"
      },
      "outputs": [
        {
          "output_type": "execute_result",
          "data": {
            "text/plain": [
              "True"
            ]
          },
          "metadata": {},
          "execution_count": 62
        }
      ],
      "source": [
        "v1 is not v2"
      ]
    },
    {
      "cell_type": "code",
      "source": [
        "v3=5\n",
        "\n",
        "v3 is v2"
      ],
      "metadata": {
        "colab": {
          "base_uri": "https://localhost:8080/"
        },
        "id": "1R8Dqp4iTupz",
        "outputId": "53c4559f-ad7d-4b5c-de51-90e0ca06e8bd"
      },
      "execution_count": null,
      "outputs": [
        {
          "output_type": "execute_result",
          "data": {
            "text/plain": [
              "True"
            ]
          },
          "metadata": {},
          "execution_count": 63
        }
      ]
    },
    {
      "cell_type": "markdown",
      "metadata": {
        "id": "DTOU0mk7jAym"
      },
      "source": [
        "Operadores de membrecía"
      ]
    },
    {
      "cell_type": "code",
      "execution_count": null,
      "metadata": {
        "colab": {
          "base_uri": "https://localhost:8080/"
        },
        "id": "VCfPeO9ijEnY",
        "outputId": "2d48f14e-7ed1-4081-f078-f57cac648084"
      },
      "outputs": [
        {
          "output_type": "execute_result",
          "data": {
            "text/plain": [
              "True"
            ]
          },
          "metadata": {},
          "execution_count": 64
        }
      ],
      "source": [
        "cadena = \"exámen\"\n",
        "\"á\" in cadena"
      ]
    },
    {
      "cell_type": "code",
      "execution_count": null,
      "metadata": {
        "colab": {
          "base_uri": "https://localhost:8080/"
        },
        "id": "LyEWf77wjYTb",
        "outputId": "b4cbdec0-708c-443c-e4b6-bc0e7bfb32f4"
      },
      "outputs": [
        {
          "output_type": "execute_result",
          "data": {
            "text/plain": [
              "False"
            ]
          },
          "metadata": {},
          "execution_count": 48
        }
      ],
      "source": [
        "\"á\" not in cadena"
      ]
    },
    {
      "cell_type": "code",
      "execution_count": null,
      "metadata": {
        "colab": {
          "base_uri": "https://localhost:8080/"
        },
        "id": "yxXNzu9cjdyk",
        "outputId": "1e8068e1-1673-425b-a004-8cf217f46fc6"
      },
      "outputs": [
        {
          "output_type": "execute_result",
          "data": {
            "text/plain": [
              "True"
            ]
          },
          "metadata": {},
          "execution_count": 65
        }
      ],
      "source": [
        "lista = [4,6,8,9,4,3]\n",
        "4 in lista"
      ]
    },
    {
      "cell_type": "code",
      "execution_count": null,
      "metadata": {
        "colab": {
          "base_uri": "https://localhost:8080/"
        },
        "id": "babZQW49jlP-",
        "outputId": "8f23ec73-6389-42c3-c693-f315c76c33ca"
      },
      "outputs": [
        {
          "output_type": "execute_result",
          "data": {
            "text/plain": [
              "False"
            ]
          },
          "metadata": {},
          "execution_count": 66
        }
      ],
      "source": [
        "10 in lista"
      ]
    },
    {
      "cell_type": "markdown",
      "source": [
        "# Referencias\n",
        "\n",
        "\n",
        "*   https://ellibrodepython.com/operadores-relacionales\n",
        "\n",
        "\n"
      ],
      "metadata": {
        "id": "lLdEtHvdG8Jv"
      }
    },
    {
      "cell_type": "markdown",
      "source": [
        "# Ejersicios\n"
      ],
      "metadata": {
        "id": "47K8WcPjOIFd"
      }
    },
    {
      "cell_type": "code",
      "source": [
        "# Hallar la multiplicación de 3 números enteros\n",
        "\n",
        "# Hallar la multiplicación de 3 números enteros\n",
        "a = int(input(\"Ingrese un numero! :\"))\n",
        "b = int(input(\"Ingrese otro numero! :\"))\n",
        "\n",
        "print(a*b)\n"
      ],
      "metadata": {
        "id": "RMxM1h4TN4kz",
        "colab": {
          "base_uri": "https://localhost:8080/"
        },
        "outputId": "49667204-cd99-4b02-f33d-a45239ba2f66"
      },
      "execution_count": 32,
      "outputs": [
        {
          "output_type": "stream",
          "name": "stdout",
          "text": [
            "Ingrese un numero! :8\n",
            "Ingrese otro numero! :5\n",
            "40\n"
          ]
        }
      ]
    },
    {
      "cell_type": "code",
      "source": [
        "# Hallar el promedio de 3 números\n"
      ],
      "metadata": {
        "id": "gbhgk3GsOOFe",
        "colab": {
          "base_uri": "https://localhost:8080/"
        },
        "outputId": "3b5da7f9-2922-4ac4-f311-d0d22d42d349"
      },
      "execution_count": null,
      "outputs": [
        {
          "name": "stdout",
          "output_type": "stream",
          "text": [
            "ingrese el primer número entero: 4\n",
            "ingrese el segundo número entero: 5\n",
            "ingrese el tercer número entero: 6\n"
          ]
        },
        {
          "output_type": "execute_result",
          "data": {
            "text/plain": [
              "5.0"
            ]
          },
          "metadata": {},
          "execution_count": 59
        }
      ]
    },
    {
      "cell_type": "code",
      "source": [
        "# Hallar el resultado de la divición de dos números con la parte entera del divisors y el residuo\n",
        "# Dividendo = Divisor + (residuo)\n",
        "# print(Divisor)\n",
        "# print(cociente)\n"
      ],
      "metadata": {
        "colab": {
          "base_uri": "https://localhost:8080/"
        },
        "id": "ymCbN023PFzy",
        "outputId": "a13e88c1-78c7-4f62-bcfa-feda608b205f"
      },
      "execution_count": null,
      "outputs": [
        {
          "output_type": "stream",
          "name": "stdout",
          "text": [
            "ingrese el dividendo: 9\n",
            "ingrese el divisor: 2\n",
            "Divición:  4\n",
            "Residuo:  1\n"
          ]
        }
      ]
    },
    {
      "cell_type": "code",
      "source": [
        "# Determinar si un número es par\n",
        "\n"
      ],
      "metadata": {
        "colab": {
          "base_uri": "https://localhost:8080/"
        },
        "id": "xfw4pr1RSHHy",
        "outputId": "f8a70289-6172-4a24-8ada-bdb457b25450"
      },
      "execution_count": null,
      "outputs": [
        {
          "output_type": "stream",
          "name": "stdout",
          "text": [
            "ingrese un número entero: 80\n",
            "Es par\n"
          ]
        }
      ]
    },
    {
      "cell_type": "code",
      "source": [
        "# Determinar si un número entero es divisible por 3\n"
      ],
      "metadata": {
        "colab": {
          "base_uri": "https://localhost:8080/"
        },
        "id": "HTVWH8eWTAOj",
        "outputId": "660e8872-e1be-4d47-a5cd-bf64c87c8dfb"
      },
      "execution_count": null,
      "outputs": [
        {
          "output_type": "stream",
          "name": "stdout",
          "text": [
            "ingrese un número entero: 16\n",
            "No divisible por 3\n"
          ]
        }
      ]
    },
    {
      "cell_type": "code",
      "source": [
        "# Determinar si un número es menor a 10\n"
      ],
      "metadata": {
        "colab": {
          "base_uri": "https://localhost:8080/"
        },
        "id": "oHMiReGGTG8N",
        "outputId": "e7a16343-cce9-4542-c4af-a9adf6b11808"
      },
      "execution_count": null,
      "outputs": [
        {
          "output_type": "stream",
          "name": "stdout",
          "text": [
            "ingrese un número entero: 10\n",
            "El número es mayor o igual a 10\n"
          ]
        }
      ]
    },
    {
      "cell_type": "code",
      "source": [
        "# Determinar si un número es divisible por 3 y menor que 10\n"
      ],
      "metadata": {
        "colab": {
          "base_uri": "https://localhost:8080/"
        },
        "id": "rvVk2vDOT2ZE",
        "outputId": "cd158366-49d0-4b3e-9820-e897a6ee0692"
      },
      "execution_count": null,
      "outputs": [
        {
          "output_type": "stream",
          "name": "stdout",
          "text": [
            "ingrese un número entero: 12\n",
            "no cumple las condiciones\n"
          ]
        }
      ]
    },
    {
      "cell_type": "code",
      "source": [
        "# Determinar si un número es divisible por tres o menor que 10"
      ],
      "metadata": {
        "id": "7mhDAwMhT8Kh"
      },
      "execution_count": null,
      "outputs": []
    },
    {
      "cell_type": "markdown",
      "source": [
        "# Convirtiendo el cuaderno dejupiter a pdf"
      ],
      "metadata": {
        "id": "xvyRBG6A6lxK"
      }
    },
    {
      "cell_type": "code",
      "source": [
        "!apt-get install texlive texlive-xetex texlive-latex-extra pandoc| tail -n 1\n",
        "!pip install pypandoc| tail -n 1"
      ],
      "metadata": {
        "colab": {
          "base_uri": "https://localhost:8080/"
        },
        "id": "BEX8o-p66sK_",
        "outputId": "047ac108-415a-4e4b-b3ee-344658544b67"
      },
      "execution_count": null,
      "outputs": [
        {
          "output_type": "stream",
          "name": "stdout",
          "text": [
            "Extracting templates from packages: 100%\n",
            "\tThis may take some time... done.\n",
            "Successfully installed pypandoc-1.12\n"
          ]
        }
      ]
    },
    {
      "cell_type": "code",
      "source": [
        "%%latex\n",
        "\\tableofcontents"
      ],
      "metadata": {
        "colab": {
          "base_uri": "https://localhost:8080/",
          "height": 34
        },
        "id": "ZF0BN8IZ6yg1",
        "outputId": "672e1664-7eff-4a81-b7e6-4ad7085561f1"
      },
      "execution_count": null,
      "outputs": [
        {
          "output_type": "display_data",
          "data": {
            "text/plain": [
              "<IPython.core.display.Latex object>"
            ],
            "text/latex": "\\tableofcontents\n"
          },
          "metadata": {}
        }
      ]
    },
    {
      "cell_type": "code",
      "source": [
        "!jupyter nbconvert --to PDF --TemplateExporter.exclude_input=True \"drive/MyDrive/Cibertec/Lenguaje_de_ciencia_de_datos_I/Sem1/Sem_1_Lenguaje_Python.ipynb\"| tail -n 1"
      ],
      "metadata": {
        "colab": {
          "base_uri": "https://localhost:8080/"
        },
        "id": "u8GutebA6zE6",
        "outputId": "f649cdda-7948-44da-e18c-a59d9774a798"
      },
      "execution_count": null,
      "outputs": [
        {
          "output_type": "stream",
          "name": "stdout",
          "text": [
            "[NbConvertApp] Converting notebook drive/MyDrive/Cibertec/Lenguaje_de_ciencia_de_datos_I/Sem1/Sem_1_Lenguaje_Python.ipynb to PDF\n",
            "[NbConvertApp] Writing 39805 bytes to notebook.tex\n",
            "[NbConvertApp] Building PDF\n",
            "[NbConvertApp] Running xelatex 3 times: ['xelatex', 'notebook.tex', '-quiet']\n",
            "[NbConvertApp] Running bibtex 1 time: ['bibtex', 'notebook']\n",
            "[NbConvertApp] WARNING | bibtex had problems, most likely because there were no citations\n",
            "[NbConvertApp] PDF successfully created\n",
            "[NbConvertApp] Writing 46600 bytes to drive/MyDrive/Cibertec/Lenguaje_de_ciencia_de_datos_I/Sem1/Sem_1_Lenguaje_Python.pdf\n"
          ]
        }
      ]
    },
    {
      "cell_type": "code",
      "source": [
        "%%latex\n",
        "\\tableofcontents"
      ],
      "metadata": {
        "id": "2wgj0h6r7pzs",
        "outputId": "5e040994-9b37-47f2-f9ca-d70340dfe9cf",
        "colab": {
          "base_uri": "https://localhost:8080/",
          "height": 34
        }
      },
      "execution_count": null,
      "outputs": [
        {
          "output_type": "display_data",
          "data": {
            "text/plain": [
              "<IPython.core.display.Latex object>"
            ],
            "text/latex": "\\tableofcontents\n"
          },
          "metadata": {}
        }
      ]
    },
    {
      "cell_type": "code",
      "source": [
        "!jupyter nbconvert --to PDF --TemplateExporter.exclude_input=True \"drive/MyDrive/Cibertec/Lenguaje_de_ciencia_de_datos_I/Sem1/Sem_1_Lenguaje_Python.ipynb\"| tail -n 1"
      ],
      "metadata": {
        "id": "wUphTQ917rOB",
        "outputId": "36a989a9-29a6-4514-9c13-d4d3f311aff1",
        "colab": {
          "base_uri": "https://localhost:8080/"
        }
      },
      "execution_count": null,
      "outputs": [
        {
          "output_type": "stream",
          "name": "stdout",
          "text": [
            "[NbConvertApp] Converting notebook drive/MyDrive/Cibertec/Lenguaje_de_ciencia_de_datos_I/Sem1/Sem_1_Lenguaje_Python.ipynb to PDF\n",
            "[NbConvertApp] Writing 40596 bytes to notebook.tex\n",
            "[NbConvertApp] Building PDF\n",
            "[NbConvertApp] Running xelatex 3 times: ['xelatex', 'notebook.tex', '-quiet']\n",
            "[NbConvertApp] Running bibtex 1 time: ['bibtex', 'notebook']\n",
            "[NbConvertApp] WARNING | bibtex had problems, most likely because there were no citations\n",
            "[NbConvertApp] PDF successfully created\n",
            "[NbConvertApp] Writing 54605 bytes to drive/MyDrive/Cibertec/Lenguaje_de_ciencia_de_datos_I/Sem1/Sem_1_Lenguaje_Python.pdf\n"
          ]
        }
      ]
    }
  ],
  "metadata": {
    "colab": {
      "provenance": [],
      "include_colab_link": true
    },
    "kernelspec": {
      "display_name": "Python 3",
      "name": "python3"
    },
    "language_info": {
      "name": "python"
    }
  },
  "nbformat": 4,
  "nbformat_minor": 0
}